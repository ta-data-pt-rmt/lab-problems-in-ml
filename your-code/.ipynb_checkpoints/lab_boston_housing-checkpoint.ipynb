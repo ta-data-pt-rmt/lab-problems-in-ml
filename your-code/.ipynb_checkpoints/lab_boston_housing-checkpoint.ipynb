{
 "cells": [
  {
   "cell_type": "markdown",
   "metadata": {},
   "source": [
    "# Understanding Over & Underfitting\n",
    "## Predicting Boston Housing Prices"
   ]
  },
  {
   "cell_type": "markdown",
   "metadata": {},
   "source": [
    "## Getting Started\n",
    "In this project, you will use the Boston Housing Prices dataset to build several models to predict the prices of homes with particular qualities from the suburbs of Boston, MA.\n",
    "We will build models with several different parameters, which will change the goodness of fit for each. "
   ]
  },
  {
   "cell_type": "markdown",
   "metadata": {},
   "source": [
    "---\n",
    "## Data Exploration\n",
    "Since we want to predict the value of houses, the **target variable**, `'MEDV'`, will be the variable we seek to predict."
   ]
  },
  {
   "cell_type": "markdown",
   "metadata": {},
   "source": [
    "### Import and explore the data. Clean the data for outliers and missing values. "
   ]
  },
  {
   "cell_type": "code",
   "execution_count": 1,
   "metadata": {},
   "outputs": [],
   "source": [
    "import pandas as pd\n",
    "import numpy as np\n",
    "import seaborn as sn\n",
    "from matplotlib import pyplot as plt"
   ]
  },
  {
   "cell_type": "code",
   "execution_count": 2,
   "metadata": {},
   "outputs": [
    {
     "data": {
      "text/html": [
       "<div>\n",
       "<style scoped>\n",
       "    .dataframe tbody tr th:only-of-type {\n",
       "        vertical-align: middle;\n",
       "    }\n",
       "\n",
       "    .dataframe tbody tr th {\n",
       "        vertical-align: top;\n",
       "    }\n",
       "\n",
       "    .dataframe thead th {\n",
       "        text-align: right;\n",
       "    }\n",
       "</style>\n",
       "<table border=\"1\" class=\"dataframe\">\n",
       "  <thead>\n",
       "    <tr style=\"text-align: right;\">\n",
       "      <th></th>\n",
       "      <th>crim</th>\n",
       "      <th>zn</th>\n",
       "      <th>indus</th>\n",
       "      <th>chas</th>\n",
       "      <th>nox</th>\n",
       "      <th>rm</th>\n",
       "      <th>age</th>\n",
       "      <th>dis</th>\n",
       "      <th>rad</th>\n",
       "      <th>tax</th>\n",
       "      <th>ptratio</th>\n",
       "      <th>black</th>\n",
       "      <th>lstat</th>\n",
       "      <th>medv</th>\n",
       "    </tr>\n",
       "  </thead>\n",
       "  <tbody>\n",
       "    <tr>\n",
       "      <th>0</th>\n",
       "      <td>0.15876</td>\n",
       "      <td>0.0</td>\n",
       "      <td>10.81</td>\n",
       "      <td>0.0</td>\n",
       "      <td>0.413</td>\n",
       "      <td>5.961</td>\n",
       "      <td>17.5</td>\n",
       "      <td>5.2873</td>\n",
       "      <td>4.0</td>\n",
       "      <td>305.0</td>\n",
       "      <td>19.2</td>\n",
       "      <td>376.94</td>\n",
       "      <td>9.88</td>\n",
       "      <td>21.7</td>\n",
       "    </tr>\n",
       "    <tr>\n",
       "      <th>1</th>\n",
       "      <td>0.10328</td>\n",
       "      <td>25.0</td>\n",
       "      <td>5.13</td>\n",
       "      <td>0.0</td>\n",
       "      <td>0.453</td>\n",
       "      <td>5.927</td>\n",
       "      <td>47.2</td>\n",
       "      <td>6.9320</td>\n",
       "      <td>8.0</td>\n",
       "      <td>284.0</td>\n",
       "      <td>19.7</td>\n",
       "      <td>396.90</td>\n",
       "      <td>9.22</td>\n",
       "      <td>19.6</td>\n",
       "    </tr>\n",
       "    <tr>\n",
       "      <th>2</th>\n",
       "      <td>0.34940</td>\n",
       "      <td>0.0</td>\n",
       "      <td>9.90</td>\n",
       "      <td>0.0</td>\n",
       "      <td>0.544</td>\n",
       "      <td>5.972</td>\n",
       "      <td>76.7</td>\n",
       "      <td>3.1025</td>\n",
       "      <td>4.0</td>\n",
       "      <td>304.0</td>\n",
       "      <td>18.4</td>\n",
       "      <td>396.24</td>\n",
       "      <td>9.97</td>\n",
       "      <td>20.3</td>\n",
       "    </tr>\n",
       "    <tr>\n",
       "      <th>3</th>\n",
       "      <td>2.73397</td>\n",
       "      <td>0.0</td>\n",
       "      <td>19.58</td>\n",
       "      <td>0.0</td>\n",
       "      <td>0.871</td>\n",
       "      <td>5.597</td>\n",
       "      <td>94.9</td>\n",
       "      <td>1.5257</td>\n",
       "      <td>5.0</td>\n",
       "      <td>403.0</td>\n",
       "      <td>14.7</td>\n",
       "      <td>351.85</td>\n",
       "      <td>21.45</td>\n",
       "      <td>15.4</td>\n",
       "    </tr>\n",
       "    <tr>\n",
       "      <th>4</th>\n",
       "      <td>0.04337</td>\n",
       "      <td>21.0</td>\n",
       "      <td>5.64</td>\n",
       "      <td>0.0</td>\n",
       "      <td>0.439</td>\n",
       "      <td>6.115</td>\n",
       "      <td>63.0</td>\n",
       "      <td>6.8147</td>\n",
       "      <td>4.0</td>\n",
       "      <td>243.0</td>\n",
       "      <td>16.8</td>\n",
       "      <td>393.97</td>\n",
       "      <td>9.43</td>\n",
       "      <td>20.5</td>\n",
       "    </tr>\n",
       "  </tbody>\n",
       "</table>\n",
       "</div>"
      ],
      "text/plain": [
       "      crim    zn  indus  chas    nox     rm   age     dis  rad    tax  \\\n",
       "0  0.15876   0.0  10.81   0.0  0.413  5.961  17.5  5.2873  4.0  305.0   \n",
       "1  0.10328  25.0   5.13   0.0  0.453  5.927  47.2  6.9320  8.0  284.0   \n",
       "2  0.34940   0.0   9.90   0.0  0.544  5.972  76.7  3.1025  4.0  304.0   \n",
       "3  2.73397   0.0  19.58   0.0  0.871  5.597  94.9  1.5257  5.0  403.0   \n",
       "4  0.04337  21.0   5.64   0.0  0.439  6.115  63.0  6.8147  4.0  243.0   \n",
       "\n",
       "   ptratio   black  lstat  medv  \n",
       "0     19.2  376.94   9.88  21.7  \n",
       "1     19.7  396.90   9.22  19.6  \n",
       "2     18.4  396.24   9.97  20.3  \n",
       "3     14.7  351.85  21.45  15.4  \n",
       "4     16.8  393.97   9.43  20.5  "
      ]
     },
     "execution_count": 2,
     "metadata": {},
     "output_type": "execute_result"
    }
   ],
   "source": [
    "data = pd.read_csv('../data/boston_data.csv')\n",
    "data.head()"
   ]
  },
  {
   "cell_type": "code",
   "execution_count": 3,
   "metadata": {},
   "outputs": [
    {
     "data": {
      "text/plain": [
       "(404, 14)"
      ]
     },
     "execution_count": 3,
     "metadata": {},
     "output_type": "execute_result"
    }
   ],
   "source": [
    "data.shape"
   ]
  },
  {
   "cell_type": "code",
   "execution_count": 4,
   "metadata": {},
   "outputs": [
    {
     "data": {
      "text/html": [
       "<div>\n",
       "<style scoped>\n",
       "    .dataframe tbody tr th:only-of-type {\n",
       "        vertical-align: middle;\n",
       "    }\n",
       "\n",
       "    .dataframe tbody tr th {\n",
       "        vertical-align: top;\n",
       "    }\n",
       "\n",
       "    .dataframe thead th {\n",
       "        text-align: right;\n",
       "    }\n",
       "</style>\n",
       "<table border=\"1\" class=\"dataframe\">\n",
       "  <thead>\n",
       "    <tr style=\"text-align: right;\">\n",
       "      <th></th>\n",
       "      <th>crim</th>\n",
       "      <th>zn</th>\n",
       "      <th>indus</th>\n",
       "      <th>chas</th>\n",
       "      <th>nox</th>\n",
       "      <th>rm</th>\n",
       "      <th>age</th>\n",
       "      <th>dis</th>\n",
       "      <th>rad</th>\n",
       "      <th>tax</th>\n",
       "      <th>ptratio</th>\n",
       "      <th>black</th>\n",
       "      <th>lstat</th>\n",
       "      <th>medv</th>\n",
       "    </tr>\n",
       "  </thead>\n",
       "  <tbody>\n",
       "    <tr>\n",
       "      <th>count</th>\n",
       "      <td>404.000000</td>\n",
       "      <td>404.000000</td>\n",
       "      <td>404.000000</td>\n",
       "      <td>404.000000</td>\n",
       "      <td>404.000000</td>\n",
       "      <td>404.00000</td>\n",
       "      <td>404.000000</td>\n",
       "      <td>404.000000</td>\n",
       "      <td>404.000000</td>\n",
       "      <td>404.000000</td>\n",
       "      <td>404.000000</td>\n",
       "      <td>404.000000</td>\n",
       "      <td>404.000000</td>\n",
       "      <td>404.000000</td>\n",
       "    </tr>\n",
       "    <tr>\n",
       "      <th>mean</th>\n",
       "      <td>3.730912</td>\n",
       "      <td>10.509901</td>\n",
       "      <td>11.189901</td>\n",
       "      <td>0.069307</td>\n",
       "      <td>0.556710</td>\n",
       "      <td>6.30145</td>\n",
       "      <td>68.601733</td>\n",
       "      <td>3.799666</td>\n",
       "      <td>9.836634</td>\n",
       "      <td>411.688119</td>\n",
       "      <td>18.444554</td>\n",
       "      <td>355.068243</td>\n",
       "      <td>12.598936</td>\n",
       "      <td>22.312376</td>\n",
       "    </tr>\n",
       "    <tr>\n",
       "      <th>std</th>\n",
       "      <td>8.943922</td>\n",
       "      <td>22.053733</td>\n",
       "      <td>6.814909</td>\n",
       "      <td>0.254290</td>\n",
       "      <td>0.117321</td>\n",
       "      <td>0.67583</td>\n",
       "      <td>28.066143</td>\n",
       "      <td>2.109916</td>\n",
       "      <td>8.834741</td>\n",
       "      <td>171.073553</td>\n",
       "      <td>2.150295</td>\n",
       "      <td>94.489572</td>\n",
       "      <td>6.925173</td>\n",
       "      <td>8.837019</td>\n",
       "    </tr>\n",
       "    <tr>\n",
       "      <th>min</th>\n",
       "      <td>0.006320</td>\n",
       "      <td>0.000000</td>\n",
       "      <td>0.460000</td>\n",
       "      <td>0.000000</td>\n",
       "      <td>0.392000</td>\n",
       "      <td>3.56100</td>\n",
       "      <td>2.900000</td>\n",
       "      <td>1.169100</td>\n",
       "      <td>1.000000</td>\n",
       "      <td>187.000000</td>\n",
       "      <td>12.600000</td>\n",
       "      <td>0.320000</td>\n",
       "      <td>1.730000</td>\n",
       "      <td>5.000000</td>\n",
       "    </tr>\n",
       "    <tr>\n",
       "      <th>25%</th>\n",
       "      <td>0.082382</td>\n",
       "      <td>0.000000</td>\n",
       "      <td>5.190000</td>\n",
       "      <td>0.000000</td>\n",
       "      <td>0.453000</td>\n",
       "      <td>5.90275</td>\n",
       "      <td>45.800000</td>\n",
       "      <td>2.087875</td>\n",
       "      <td>4.000000</td>\n",
       "      <td>281.000000</td>\n",
       "      <td>17.375000</td>\n",
       "      <td>374.710000</td>\n",
       "      <td>7.135000</td>\n",
       "      <td>17.100000</td>\n",
       "    </tr>\n",
       "    <tr>\n",
       "      <th>50%</th>\n",
       "      <td>0.253715</td>\n",
       "      <td>0.000000</td>\n",
       "      <td>9.795000</td>\n",
       "      <td>0.000000</td>\n",
       "      <td>0.538000</td>\n",
       "      <td>6.23050</td>\n",
       "      <td>76.600000</td>\n",
       "      <td>3.207450</td>\n",
       "      <td>5.000000</td>\n",
       "      <td>330.000000</td>\n",
       "      <td>19.000000</td>\n",
       "      <td>391.065000</td>\n",
       "      <td>11.265000</td>\n",
       "      <td>21.400000</td>\n",
       "    </tr>\n",
       "    <tr>\n",
       "      <th>75%</th>\n",
       "      <td>4.053158</td>\n",
       "      <td>12.500000</td>\n",
       "      <td>18.100000</td>\n",
       "      <td>0.000000</td>\n",
       "      <td>0.631000</td>\n",
       "      <td>6.62925</td>\n",
       "      <td>94.150000</td>\n",
       "      <td>5.222125</td>\n",
       "      <td>24.000000</td>\n",
       "      <td>666.000000</td>\n",
       "      <td>20.200000</td>\n",
       "      <td>396.007500</td>\n",
       "      <td>16.910000</td>\n",
       "      <td>25.000000</td>\n",
       "    </tr>\n",
       "    <tr>\n",
       "      <th>max</th>\n",
       "      <td>88.976200</td>\n",
       "      <td>95.000000</td>\n",
       "      <td>27.740000</td>\n",
       "      <td>1.000000</td>\n",
       "      <td>0.871000</td>\n",
       "      <td>8.78000</td>\n",
       "      <td>100.000000</td>\n",
       "      <td>12.126500</td>\n",
       "      <td>24.000000</td>\n",
       "      <td>711.000000</td>\n",
       "      <td>22.000000</td>\n",
       "      <td>396.900000</td>\n",
       "      <td>34.370000</td>\n",
       "      <td>50.000000</td>\n",
       "    </tr>\n",
       "  </tbody>\n",
       "</table>\n",
       "</div>"
      ],
      "text/plain": [
       "             crim          zn       indus        chas         nox         rm  \\\n",
       "count  404.000000  404.000000  404.000000  404.000000  404.000000  404.00000   \n",
       "mean     3.730912   10.509901   11.189901    0.069307    0.556710    6.30145   \n",
       "std      8.943922   22.053733    6.814909    0.254290    0.117321    0.67583   \n",
       "min      0.006320    0.000000    0.460000    0.000000    0.392000    3.56100   \n",
       "25%      0.082382    0.000000    5.190000    0.000000    0.453000    5.90275   \n",
       "50%      0.253715    0.000000    9.795000    0.000000    0.538000    6.23050   \n",
       "75%      4.053158   12.500000   18.100000    0.000000    0.631000    6.62925   \n",
       "max     88.976200   95.000000   27.740000    1.000000    0.871000    8.78000   \n",
       "\n",
       "              age         dis         rad         tax     ptratio       black  \\\n",
       "count  404.000000  404.000000  404.000000  404.000000  404.000000  404.000000   \n",
       "mean    68.601733    3.799666    9.836634  411.688119   18.444554  355.068243   \n",
       "std     28.066143    2.109916    8.834741  171.073553    2.150295   94.489572   \n",
       "min      2.900000    1.169100    1.000000  187.000000   12.600000    0.320000   \n",
       "25%     45.800000    2.087875    4.000000  281.000000   17.375000  374.710000   \n",
       "50%     76.600000    3.207450    5.000000  330.000000   19.000000  391.065000   \n",
       "75%     94.150000    5.222125   24.000000  666.000000   20.200000  396.007500   \n",
       "max    100.000000   12.126500   24.000000  711.000000   22.000000  396.900000   \n",
       "\n",
       "            lstat        medv  \n",
       "count  404.000000  404.000000  \n",
       "mean    12.598936   22.312376  \n",
       "std      6.925173    8.837019  \n",
       "min      1.730000    5.000000  \n",
       "25%      7.135000   17.100000  \n",
       "50%     11.265000   21.400000  \n",
       "75%     16.910000   25.000000  \n",
       "max     34.370000   50.000000  "
      ]
     },
     "execution_count": 4,
     "metadata": {},
     "output_type": "execute_result"
    }
   ],
   "source": [
    "data.describe()"
   ]
  },
  {
   "cell_type": "code",
   "execution_count": 5,
   "metadata": {},
   "outputs": [
    {
     "data": {
      "text/plain": [
       "crim       0\n",
       "zn         0\n",
       "indus      0\n",
       "chas       0\n",
       "nox        0\n",
       "rm         0\n",
       "age        0\n",
       "dis        0\n",
       "rad        0\n",
       "tax        0\n",
       "ptratio    0\n",
       "black      0\n",
       "lstat      0\n",
       "medv       0\n",
       "dtype: int64"
      ]
     },
     "execution_count": 5,
     "metadata": {},
     "output_type": "execute_result"
    }
   ],
   "source": [
    "#let's check for missing values\n",
    "data.isna().sum()"
   ]
  },
  {
   "cell_type": "code",
   "execution_count": 6,
   "metadata": {},
   "outputs": [
    {
     "data": {
      "text/plain": [
       "crim       float64\n",
       "zn         float64\n",
       "indus      float64\n",
       "chas       float64\n",
       "nox        float64\n",
       "rm         float64\n",
       "age        float64\n",
       "dis        float64\n",
       "rad        float64\n",
       "tax        float64\n",
       "ptratio    float64\n",
       "black      float64\n",
       "lstat      float64\n",
       "medv       float64\n",
       "dtype: object"
      ]
     },
     "execution_count": 6,
     "metadata": {},
     "output_type": "execute_result"
    }
   ],
   "source": [
    "data.dtypes"
   ]
  },
  {
   "cell_type": "code",
   "execution_count": 13,
   "metadata": {},
   "outputs": [
    {
     "data": {
      "text/plain": [
       "<AxesSubplot:>"
      ]
     },
     "execution_count": 13,
     "metadata": {},
     "output_type": "execute_result"
    },
    {
     "data": {
      "image/png": "[encoded data removed]",
      "text/plain": [
       "<Figure size 720x576 with 1 Axes>"
      ]
     },
     "metadata": {
      "needs_background": "light"
     },
     "output_type": "display_data"
    }
   ],
   "source": [
    "plt.figure(figsize=(10,8))\n",
    "sn.boxplot(data = data)"
   ]
  },
  {
   "cell_type": "code",
   "execution_count": null,
   "metadata": {},
   "outputs": [],
   "source": [
    "#We can spot and very high number of outliers in the column black,crim,zn, istat\n",
    "#I will analyze further these 3 columnn in particular"
   ]
  },
  {
   "cell_type": "code",
   "execution_count": 8,
   "metadata": {},
   "outputs": [
    {
     "data": {
      "text/plain": [
       "14.33370    2\n",
       "0.01501     2\n",
       "0.15876     1\n",
       "0.17142     1\n",
       "5.29305     1\n",
       "           ..\n",
       "2.30040     1\n",
       "0.08308     1\n",
       "0.11504     1\n",
       "0.06417     1\n",
       "0.08244     1\n",
       "Name: crim, Length: 402, dtype: int64"
      ]
     },
     "execution_count": 8,
     "metadata": {},
     "output_type": "execute_result"
    }
   ],
   "source": [
    "data['crim'].value_counts()"
   ]
  },
  {
   "cell_type": "code",
   "execution_count": 9,
   "metadata": {},
   "outputs": [
    {
     "data": {
      "text/plain": [
       "380    88.97620\n",
       "285    73.53410\n",
       "114    67.92080\n",
       "400    51.13580\n",
       "116    41.52920\n",
       "         ...   \n",
       "30      0.01439\n",
       "314     0.01381\n",
       "387     0.01360\n",
       "107     0.01301\n",
       "367     0.00632\n",
       "Name: crim, Length: 404, dtype: float64"
      ]
     },
     "execution_count": 9,
     "metadata": {},
     "output_type": "execute_result"
    }
   ],
   "source": [
    "data['crim'].sort_values(ascending=False)"
   ]
  },
  {
   "cell_type": "code",
   "execution_count": 10,
   "metadata": {},
   "outputs": [
    {
     "data": {
      "text/plain": [
       "57     95.0\n",
       "160    95.0\n",
       "101    95.0\n",
       "111    90.0\n",
       "401    90.0\n",
       "       ... \n",
       "174     0.0\n",
       "173     0.0\n",
       "172     0.0\n",
       "171     0.0\n",
       "0       0.0\n",
       "Name: zn, Length: 404, dtype: float64"
      ]
     },
     "execution_count": 10,
     "metadata": {},
     "output_type": "execute_result"
    }
   ],
   "source": [
    "data['zn'].sort_values(ascending=False)"
   ]
  },
  {
   "cell_type": "code",
   "execution_count": 14,
   "metadata": {},
   "outputs": [
    {
     "data": {
      "text/plain": [
       "281    396.90\n",
       "1      396.90\n",
       "182    396.90\n",
       "185    396.90\n",
       "364    396.90\n",
       "        ...  \n",
       "214      3.65\n",
       "91       3.50\n",
       "400      2.60\n",
       "223      2.52\n",
       "241      0.32\n",
       "Name: black, Length: 404, dtype: float64"
      ]
     },
     "execution_count": 14,
     "metadata": {},
     "output_type": "execute_result"
    }
   ],
   "source": [
    "data['black'].sort_values(ascending=False)"
   ]
  },
  {
   "cell_type": "code",
   "execution_count": 17,
   "metadata": {},
   "outputs": [
    {
     "data": {
      "text/plain": [
       "258    34.37\n",
       "170    34.02\n",
       "261    30.81\n",
       "384    30.81\n",
       "167    30.63\n",
       "       ...  \n",
       "311     2.94\n",
       "160     2.88\n",
       "303     2.47\n",
       "393     1.98\n",
       "226     1.73\n",
       "Name: lstat, Length: 404, dtype: float64"
      ]
     },
     "execution_count": 17,
     "metadata": {},
     "output_type": "execute_result"
    }
   ],
   "source": [
    "data['lstat'].sort_values(ascending=False)"
   ]
  },
  {
   "cell_type": "code",
   "execution_count": 18,
   "metadata": {},
   "outputs": [],
   "source": [
    "#Calculate the first and third quartile (Q1 and Q3).\n",
    "#Further, evaluate the interquartile range, IQR = Q3-Q1.\n",
    "#Estimate the lower bound, the lower bound = Q1*1.5\n",
    "#Estimate the upper bound, upper bound = Q3*1.5\n",
    "#Replace the data points that lie outside of the lower and the upper bound with a NULL value.\n",
    "\n",
    "for x in data[['crim','zn','black','lstat']]:\n",
    "    q75,q25 = np.percentile(data.loc[:,x],[75,25])\n",
    "    intr_qr = q75-q25\n",
    " \n",
    "    max = q75+(1.5*intr_qr)\n",
    "    min = q25-(1.5*intr_qr)\n",
    " \n",
    "    data.loc[data[x] < min,x] = np.nan\n",
    "    data.loc[data[x] > max,x] = np.nan"
   ]
  },
  {
   "cell_type": "code",
   "execution_count": 19,
   "metadata": {},
   "outputs": [
    {
     "data": {
      "text/plain": [
       "crim       42\n",
       "zn         49\n",
       "indus       0\n",
       "chas        0\n",
       "nox         0\n",
       "rm          0\n",
       "age         0\n",
       "dis         0\n",
       "rad         0\n",
       "tax         0\n",
       "ptratio     0\n",
       "black      61\n",
       "lstat       2\n",
       "medv        0\n",
       "dtype: int64"
      ]
     },
     "execution_count": 19,
     "metadata": {},
     "output_type": "execute_result"
    }
   ],
   "source": [
    "data.isnull().sum()"
   ]
  },
  {
   "cell_type": "code",
   "execution_count": 20,
   "metadata": {},
   "outputs": [],
   "source": [
    "#I haven spot the outliers and I will now drop the NaN\n",
    "data = data.dropna(axis=0)"
   ]
  },
  {
   "cell_type": "code",
   "execution_count": 21,
   "metadata": {},
   "outputs": [
    {
     "data": {
      "text/plain": [
       "crim       0\n",
       "zn         0\n",
       "indus      0\n",
       "chas       0\n",
       "nox        0\n",
       "rm         0\n",
       "age        0\n",
       "dis        0\n",
       "rad        0\n",
       "tax        0\n",
       "ptratio    0\n",
       "black      0\n",
       "lstat      0\n",
       "medv       0\n",
       "dtype: int64"
      ]
     },
     "execution_count": 21,
     "metadata": {},
     "output_type": "execute_result"
    }
   ],
   "source": [
    "data.isnull().sum()"
   ]
  },
  {
   "cell_type": "code",
   "execution_count": 22,
   "metadata": {},
   "outputs": [
    {
     "data": {
      "text/plain": [
       "<AxesSubplot:>"
      ]
     },
     "execution_count": 22,
     "metadata": {},
     "output_type": "execute_result"
    },
    {
     "data": {
      "image/png": "[encoded data removed]",
      "text/plain": [
       "<Figure size 576x576 with 1 Axes>"
      ]
     },
     "metadata": {
      "needs_background": "light"
     },
     "output_type": "display_data"
    }
   ],
   "source": [
    "plt.figure(figsize=(8,8))\n",
    "sn.boxplot(data = data)"
   ]
  },
  {
   "cell_type": "markdown",
   "metadata": {},
   "source": [
    "### Next, we want to explore the data. Pick several varibables you think will be ost correlated with the prices of homes in Boston, and create plots that show the data dispersion as well as the regression line of best fit."
   ]
  },
  {
   "cell_type": "code",
   "execution_count": 27,
   "metadata": {},
   "outputs": [
    {
     "data": {
      "text/html": [
       "<div>\n",
       "<style scoped>\n",
       "    .dataframe tbody tr th:only-of-type {\n",
       "        vertical-align: middle;\n",
       "    }\n",
       "\n",
       "    .dataframe tbody tr th {\n",
       "        vertical-align: top;\n",
       "    }\n",
       "\n",
       "    .dataframe thead th {\n",
       "        text-align: right;\n",
       "    }\n",
       "</style>\n",
       "<table border=\"1\" class=\"dataframe\">\n",
       "  <thead>\n",
       "    <tr style=\"text-align: right;\">\n",
       "      <th></th>\n",
       "      <th>crim</th>\n",
       "      <th>zn</th>\n",
       "      <th>indus</th>\n",
       "      <th>chas</th>\n",
       "      <th>nox</th>\n",
       "      <th>rm</th>\n",
       "      <th>age</th>\n",
       "      <th>dis</th>\n",
       "      <th>rad</th>\n",
       "      <th>tax</th>\n",
       "      <th>ptratio</th>\n",
       "      <th>black</th>\n",
       "      <th>lstat</th>\n",
       "      <th>medv</th>\n",
       "    </tr>\n",
       "  </thead>\n",
       "  <tbody>\n",
       "    <tr>\n",
       "      <th>crim</th>\n",
       "      <td>1.000000</td>\n",
       "      <td>-0.231053</td>\n",
       "      <td>0.547085</td>\n",
       "      <td>0.066633</td>\n",
       "      <td>0.653212</td>\n",
       "      <td>-0.059559</td>\n",
       "      <td>0.412224</td>\n",
       "      <td>-0.445436</td>\n",
       "      <td>0.897178</td>\n",
       "      <td>0.828323</td>\n",
       "      <td>0.295493</td>\n",
       "      <td>-0.114478</td>\n",
       "      <td>0.320995</td>\n",
       "      <td>-0.201282</td>\n",
       "    </tr>\n",
       "    <tr>\n",
       "      <th>zn</th>\n",
       "      <td>-0.231053</td>\n",
       "      <td>1.000000</td>\n",
       "      <td>-0.375653</td>\n",
       "      <td>-0.081309</td>\n",
       "      <td>-0.324629</td>\n",
       "      <td>0.186517</td>\n",
       "      <td>-0.293133</td>\n",
       "      <td>0.517344</td>\n",
       "      <td>-0.165247</td>\n",
       "      <td>-0.268938</td>\n",
       "      <td>-0.318089</td>\n",
       "      <td>0.080506</td>\n",
       "      <td>-0.215861</td>\n",
       "      <td>0.164642</td>\n",
       "    </tr>\n",
       "    <tr>\n",
       "      <th>indus</th>\n",
       "      <td>0.547085</td>\n",
       "      <td>-0.375653</td>\n",
       "      <td>1.000000</td>\n",
       "      <td>0.099515</td>\n",
       "      <td>0.659660</td>\n",
       "      <td>-0.238440</td>\n",
       "      <td>0.461117</td>\n",
       "      <td>-0.571353</td>\n",
       "      <td>0.487419</td>\n",
       "      <td>0.664443</td>\n",
       "      <td>0.264929</td>\n",
       "      <td>-0.305168</td>\n",
       "      <td>0.448154</td>\n",
       "      <td>-0.308427</td>\n",
       "    </tr>\n",
       "    <tr>\n",
       "      <th>chas</th>\n",
       "      <td>0.066633</td>\n",
       "      <td>-0.081309</td>\n",
       "      <td>0.099515</td>\n",
       "      <td>1.000000</td>\n",
       "      <td>0.145226</td>\n",
       "      <td>0.064580</td>\n",
       "      <td>0.145061</td>\n",
       "      <td>-0.153992</td>\n",
       "      <td>0.106373</td>\n",
       "      <td>0.064120</td>\n",
       "      <td>-0.057403</td>\n",
       "      <td>-0.126632</td>\n",
       "      <td>0.046359</td>\n",
       "      <td>0.096607</td>\n",
       "    </tr>\n",
       "    <tr>\n",
       "      <th>nox</th>\n",
       "      <td>0.653212</td>\n",
       "      <td>-0.324629</td>\n",
       "      <td>0.659660</td>\n",
       "      <td>0.145226</td>\n",
       "      <td>1.000000</td>\n",
       "      <td>-0.123482</td>\n",
       "      <td>0.647074</td>\n",
       "      <td>-0.726221</td>\n",
       "      <td>0.546914</td>\n",
       "      <td>0.627270</td>\n",
       "      <td>0.005466</td>\n",
       "      <td>-0.309933</td>\n",
       "      <td>0.429651</td>\n",
       "      <td>-0.202004</td>\n",
       "    </tr>\n",
       "    <tr>\n",
       "      <th>rm</th>\n",
       "      <td>-0.059559</td>\n",
       "      <td>0.186517</td>\n",
       "      <td>-0.238440</td>\n",
       "      <td>0.064580</td>\n",
       "      <td>-0.123482</td>\n",
       "      <td>1.000000</td>\n",
       "      <td>-0.035493</td>\n",
       "      <td>0.005896</td>\n",
       "      <td>-0.008355</td>\n",
       "      <td>-0.108104</td>\n",
       "      <td>-0.245569</td>\n",
       "      <td>0.073550</td>\n",
       "      <td>-0.582174</td>\n",
       "      <td>0.725875</td>\n",
       "    </tr>\n",
       "    <tr>\n",
       "      <th>age</th>\n",
       "      <td>0.412224</td>\n",
       "      <td>-0.293133</td>\n",
       "      <td>0.461117</td>\n",
       "      <td>0.145061</td>\n",
       "      <td>0.647074</td>\n",
       "      <td>-0.035493</td>\n",
       "      <td>1.000000</td>\n",
       "      <td>-0.645609</td>\n",
       "      <td>0.306039</td>\n",
       "      <td>0.391867</td>\n",
       "      <td>0.051739</td>\n",
       "      <td>-0.148377</td>\n",
       "      <td>0.464717</td>\n",
       "      <td>-0.167213</td>\n",
       "    </tr>\n",
       "    <tr>\n",
       "      <th>dis</th>\n",
       "      <td>-0.445436</td>\n",
       "      <td>0.517344</td>\n",
       "      <td>-0.571353</td>\n",
       "      <td>-0.153992</td>\n",
       "      <td>-0.726221</td>\n",
       "      <td>0.005896</td>\n",
       "      <td>-0.645609</td>\n",
       "      <td>1.000000</td>\n",
       "      <td>-0.336582</td>\n",
       "      <td>-0.442631</td>\n",
       "      <td>-0.040713</td>\n",
       "      <td>0.194607</td>\n",
       "      <td>-0.287295</td>\n",
       "      <td>-0.002939</td>\n",
       "    </tr>\n",
       "    <tr>\n",
       "      <th>rad</th>\n",
       "      <td>0.897178</td>\n",
       "      <td>-0.165247</td>\n",
       "      <td>0.487419</td>\n",
       "      <td>0.106373</td>\n",
       "      <td>0.546914</td>\n",
       "      <td>-0.008355</td>\n",
       "      <td>0.306039</td>\n",
       "      <td>-0.336582</td>\n",
       "      <td>1.000000</td>\n",
       "      <td>0.886054</td>\n",
       "      <td>0.358024</td>\n",
       "      <td>-0.110728</td>\n",
       "      <td>0.191670</td>\n",
       "      <td>-0.134290</td>\n",
       "    </tr>\n",
       "    <tr>\n",
       "      <th>tax</th>\n",
       "      <td>0.828323</td>\n",
       "      <td>-0.268938</td>\n",
       "      <td>0.664443</td>\n",
       "      <td>0.064120</td>\n",
       "      <td>0.627270</td>\n",
       "      <td>-0.108104</td>\n",
       "      <td>0.391867</td>\n",
       "      <td>-0.442631</td>\n",
       "      <td>0.886054</td>\n",
       "      <td>1.000000</td>\n",
       "      <td>0.378029</td>\n",
       "      <td>-0.177566</td>\n",
       "      <td>0.292555</td>\n",
       "      <td>-0.261792</td>\n",
       "    </tr>\n",
       "    <tr>\n",
       "      <th>ptratio</th>\n",
       "      <td>0.295493</td>\n",
       "      <td>-0.318089</td>\n",
       "      <td>0.264929</td>\n",
       "      <td>-0.057403</td>\n",
       "      <td>0.005466</td>\n",
       "      <td>-0.245569</td>\n",
       "      <td>0.051739</td>\n",
       "      <td>-0.040713</td>\n",
       "      <td>0.358024</td>\n",
       "      <td>0.378029</td>\n",
       "      <td>1.000000</td>\n",
       "      <td>0.079640</td>\n",
       "      <td>0.163457</td>\n",
       "      <td>-0.405948</td>\n",
       "    </tr>\n",
       "    <tr>\n",
       "      <th>black</th>\n",
       "      <td>-0.114478</td>\n",
       "      <td>0.080506</td>\n",
       "      <td>-0.305168</td>\n",
       "      <td>-0.126632</td>\n",
       "      <td>-0.309933</td>\n",
       "      <td>0.073550</td>\n",
       "      <td>-0.148377</td>\n",
       "      <td>0.194607</td>\n",
       "      <td>-0.110728</td>\n",
       "      <td>-0.177566</td>\n",
       "      <td>0.079640</td>\n",
       "      <td>1.000000</td>\n",
       "      <td>-0.123166</td>\n",
       "      <td>0.006138</td>\n",
       "    </tr>\n",
       "    <tr>\n",
       "      <th>lstat</th>\n",
       "      <td>0.320995</td>\n",
       "      <td>-0.215861</td>\n",
       "      <td>0.448154</td>\n",
       "      <td>0.046359</td>\n",
       "      <td>0.429651</td>\n",
       "      <td>-0.582174</td>\n",
       "      <td>0.464717</td>\n",
       "      <td>-0.287295</td>\n",
       "      <td>0.191670</td>\n",
       "      <td>0.292555</td>\n",
       "      <td>0.163457</td>\n",
       "      <td>-0.123166</td>\n",
       "      <td>1.000000</td>\n",
       "      <td>-0.655253</td>\n",
       "    </tr>\n",
       "    <tr>\n",
       "      <th>medv</th>\n",
       "      <td>-0.201282</td>\n",
       "      <td>0.164642</td>\n",
       "      <td>-0.308427</td>\n",
       "      <td>0.096607</td>\n",
       "      <td>-0.202004</td>\n",
       "      <td>0.725875</td>\n",
       "      <td>-0.167213</td>\n",
       "      <td>-0.002939</td>\n",
       "      <td>-0.134290</td>\n",
       "      <td>-0.261792</td>\n",
       "      <td>-0.405948</td>\n",
       "      <td>0.006138</td>\n",
       "      <td>-0.655253</td>\n",
       "      <td>1.000000</td>\n",
       "    </tr>\n",
       "  </tbody>\n",
       "</table>\n",
       "</div>"
      ],
      "text/plain": [
       "             crim        zn     indus      chas       nox        rm       age  \\\n",
       "crim     1.000000 -0.231053  0.547085  0.066633  0.653212 -0.059559  0.412224   \n",
       "zn      -0.231053  1.000000 -0.375653 -0.081309 -0.324629  0.186517 -0.293133   \n",
       "indus    0.547085 -0.375653  1.000000  0.099515  0.659660 -0.238440  0.461117   \n",
       "chas     0.066633 -0.081309  0.099515  1.000000  0.145226  0.064580  0.145061   \n",
       "nox      0.653212 -0.324629  0.659660  0.145226  1.000000 -0.123482  0.647074   \n",
       "rm      -0.059559  0.186517 -0.238440  0.064580 -0.123482  1.000000 -0.035493   \n",
       "age      0.412224 -0.293133  0.461117  0.145061  0.647074 -0.035493  1.000000   \n",
       "dis     -0.445436  0.517344 -0.571353 -0.153992 -0.726221  0.005896 -0.645609   \n",
       "rad      0.897178 -0.165247  0.487419  0.106373  0.546914 -0.008355  0.306039   \n",
       "tax      0.828323 -0.268938  0.664443  0.064120  0.627270 -0.108104  0.391867   \n",
       "ptratio  0.295493 -0.318089  0.264929 -0.057403  0.005466 -0.245569  0.051739   \n",
       "black   -0.114478  0.080506 -0.305168 -0.126632 -0.309933  0.073550 -0.148377   \n",
       "lstat    0.320995 -0.215861  0.448154  0.046359  0.429651 -0.582174  0.464717   \n",
       "medv    -0.201282  0.164642 -0.308427  0.096607 -0.202004  0.725875 -0.167213   \n",
       "\n",
       "              dis       rad       tax   ptratio     black     lstat      medv  \n",
       "crim    -0.445436  0.897178  0.828323  0.295493 -0.114478  0.320995 -0.201282  \n",
       "zn       0.517344 -0.165247 -0.268938 -0.318089  0.080506 -0.215861  0.164642  \n",
       "indus   -0.571353  0.487419  0.664443  0.264929 -0.305168  0.448154 -0.308427  \n",
       "chas    -0.153992  0.106373  0.064120 -0.057403 -0.126632  0.046359  0.096607  \n",
       "nox     -0.726221  0.546914  0.627270  0.005466 -0.309933  0.429651 -0.202004  \n",
       "rm       0.005896 -0.008355 -0.108104 -0.245569  0.073550 -0.582174  0.725875  \n",
       "age     -0.645609  0.306039  0.391867  0.051739 -0.148377  0.464717 -0.167213  \n",
       "dis      1.000000 -0.336582 -0.442631 -0.040713  0.194607 -0.287295 -0.002939  \n",
       "rad     -0.336582  1.000000  0.886054  0.358024 -0.110728  0.191670 -0.134290  \n",
       "tax     -0.442631  0.886054  1.000000  0.378029 -0.177566  0.292555 -0.261792  \n",
       "ptratio -0.040713  0.358024  0.378029  1.000000  0.079640  0.163457 -0.405948  \n",
       "black    0.194607 -0.110728 -0.177566  0.079640  1.000000 -0.123166  0.006138  \n",
       "lstat   -0.287295  0.191670  0.292555  0.163457 -0.123166  1.000000 -0.655253  \n",
       "medv    -0.002939 -0.134290 -0.261792 -0.405948  0.006138 -0.655253  1.000000  "
      ]
     },
     "execution_count": 27,
     "metadata": {},
     "output_type": "execute_result"
    }
   ],
   "source": [
    "data.corr()"
   ]
  },
  {
   "cell_type": "code",
   "execution_count": 29,
   "metadata": {},
   "outputs": [
    {
     "ename": "TypeError",
     "evalue": "set_title() missing 1 required positional argument: 'label'",
     "output_type": "error",
     "traceback": [
      "\u001b[1;31m---------------------------------------------------------------------------\u001b[0m",
      "\u001b[1;31mTypeError\u001b[0m                                 Traceback (most recent call last)",
      "Input \u001b[1;32mIn [29]\u001b[0m, in \u001b[0;36m<cell line: 5>\u001b[1;34m()\u001b[0m\n\u001b[0;32m      1\u001b[0m plt\u001b[38;5;241m.\u001b[39mfigure(figsize\u001b[38;5;241m=\u001b[39m(\u001b[38;5;241m16\u001b[39m, \u001b[38;5;241m6\u001b[39m))\n\u001b[0;32m      3\u001b[0m heatmap \u001b[38;5;241m=\u001b[39m sn\u001b[38;5;241m.\u001b[39mheatmap(data\u001b[38;5;241m.\u001b[39mcorr(), annot\u001b[38;5;241m=\u001b[39m\u001b[38;5;28;01mTrue\u001b[39;00m)\n\u001b[1;32m----> 5\u001b[0m \u001b[43mheatmap\u001b[49m\u001b[38;5;241;43m.\u001b[39;49m\u001b[43mset_title\u001b[49m\u001b[43m(\u001b[49m\u001b[43mfontdict\u001b[49m\u001b[38;5;241;43m=\u001b[39;49m\u001b[43m{\u001b[49m\u001b[38;5;124;43m'\u001b[39;49m\u001b[38;5;124;43mfontsize\u001b[39;49m\u001b[38;5;124;43m'\u001b[39;49m\u001b[43m:\u001b[49m\u001b[38;5;241;43m12\u001b[39;49m\u001b[43m}\u001b[49m\u001b[43m)\u001b[49m\n",
      "\u001b[1;31mTypeError\u001b[0m: set_title() missing 1 required positional argument: 'label'"
     ]
    },
    {
     "data": {
      "image/png": "[encoded data removed]",
      "text/plain": [
       "<Figure size 1152x432 with 2 Axes>"
      ]
     },
     "metadata": {
      "needs_background": "light"
     },
     "output_type": "display_data"
    }
   ],
   "source": [
    "plt.figure(figsize=(16, 6))\n",
    "\n",
    "heatmap = sn.heatmap(data.corr(), annot=True)\n",
    "\n",
    "heatmap.set_title(fontdict={'fontsize':12})"
   ]
  },
  {
   "cell_type": "code",
   "execution_count": 32,
   "metadata": {},
   "outputs": [
    {
     "data": {
      "text/plain": [
       "[<matplotlib.lines.Line2D at 0x1b00e17baf0>]"
      ]
     },
     "execution_count": 32,
     "metadata": {},
     "output_type": "execute_result"
    },
    {
     "data": {
      "image/png": "[encoded data removed]",
      "text/plain": [
       "<Figure size 432x288 with 1 Axes>"
      ]
     },
     "metadata": {
      "needs_background": "light"
     },
     "output_type": "display_data"
    }
   ],
   "source": [
    "plt.plot(data['medv'] ,data['rm'] , 'o')\n",
    "\n",
    "m, b = np.polyfit(data['medv'] ,data['rm'], 1)\n",
    "\n",
    "plt.plot(data['medv'], m*data['medv']+b)"
   ]
  },
  {
   "cell_type": "markdown",
   "metadata": {},
   "source": [
    "### What do these plots tell you about the relationships between these variables and the prices of homes in Boston? Are these the relationships you expected to see in these variables?"
   ]
  },
  {
   "cell_type": "code",
   "execution_count": null,
   "metadata": {},
   "outputs": [],
   "source": [
    "#I see mostly a correlation with rm"
   ]
  },
  {
   "cell_type": "markdown",
   "metadata": {},
   "source": [
    "### Make a heatmap of the remaining variables. Are there any variables that you did not consider that have very high correlations? What are they?"
   ]
  },
  {
   "cell_type": "code",
   "execution_count": 33,
   "metadata": {},
   "outputs": [],
   "source": [
    "data_copy = data.copy()"
   ]
  },
  {
   "cell_type": "code",
   "execution_count": 37,
   "metadata": {},
   "outputs": [],
   "source": [
    "data_copy = data_copy.drop('rm',axis=1)"
   ]
  },
  {
   "cell_type": "code",
   "execution_count": 39,
   "metadata": {},
   "outputs": [
    {
     "data": {
      "text/html": [
       "<div>\n",
       "<style scoped>\n",
       "    .dataframe tbody tr th:only-of-type {\n",
       "        vertical-align: middle;\n",
       "    }\n",
       "\n",
       "    .dataframe tbody tr th {\n",
       "        vertical-align: top;\n",
       "    }\n",
       "\n",
       "    .dataframe thead th {\n",
       "        text-align: right;\n",
       "    }\n",
       "</style>\n",
       "<table border=\"1\" class=\"dataframe\">\n",
       "  <thead>\n",
       "    <tr style=\"text-align: right;\">\n",
       "      <th></th>\n",
       "      <th>crim</th>\n",
       "      <th>zn</th>\n",
       "      <th>indus</th>\n",
       "      <th>chas</th>\n",
       "      <th>nox</th>\n",
       "      <th>age</th>\n",
       "      <th>dis</th>\n",
       "      <th>rad</th>\n",
       "      <th>tax</th>\n",
       "      <th>ptratio</th>\n",
       "      <th>black</th>\n",
       "      <th>lstat</th>\n",
       "      <th>medv</th>\n",
       "    </tr>\n",
       "  </thead>\n",
       "  <tbody>\n",
       "    <tr>\n",
       "      <th>crim</th>\n",
       "      <td>1.000000</td>\n",
       "      <td>-0.231053</td>\n",
       "      <td>0.547085</td>\n",
       "      <td>0.066633</td>\n",
       "      <td>0.653212</td>\n",
       "      <td>0.412224</td>\n",
       "      <td>-0.445436</td>\n",
       "      <td>0.897178</td>\n",
       "      <td>0.828323</td>\n",
       "      <td>0.295493</td>\n",
       "      <td>-0.114478</td>\n",
       "      <td>0.320995</td>\n",
       "      <td>-0.201282</td>\n",
       "    </tr>\n",
       "    <tr>\n",
       "      <th>zn</th>\n",
       "      <td>-0.231053</td>\n",
       "      <td>1.000000</td>\n",
       "      <td>-0.375653</td>\n",
       "      <td>-0.081309</td>\n",
       "      <td>-0.324629</td>\n",
       "      <td>-0.293133</td>\n",
       "      <td>0.517344</td>\n",
       "      <td>-0.165247</td>\n",
       "      <td>-0.268938</td>\n",
       "      <td>-0.318089</td>\n",
       "      <td>0.080506</td>\n",
       "      <td>-0.215861</td>\n",
       "      <td>0.164642</td>\n",
       "    </tr>\n",
       "    <tr>\n",
       "      <th>indus</th>\n",
       "      <td>0.547085</td>\n",
       "      <td>-0.375653</td>\n",
       "      <td>1.000000</td>\n",
       "      <td>0.099515</td>\n",
       "      <td>0.659660</td>\n",
       "      <td>0.461117</td>\n",
       "      <td>-0.571353</td>\n",
       "      <td>0.487419</td>\n",
       "      <td>0.664443</td>\n",
       "      <td>0.264929</td>\n",
       "      <td>-0.305168</td>\n",
       "      <td>0.448154</td>\n",
       "      <td>-0.308427</td>\n",
       "    </tr>\n",
       "    <tr>\n",
       "      <th>chas</th>\n",
       "      <td>0.066633</td>\n",
       "      <td>-0.081309</td>\n",
       "      <td>0.099515</td>\n",
       "      <td>1.000000</td>\n",
       "      <td>0.145226</td>\n",
       "      <td>0.145061</td>\n",
       "      <td>-0.153992</td>\n",
       "      <td>0.106373</td>\n",
       "      <td>0.064120</td>\n",
       "      <td>-0.057403</td>\n",
       "      <td>-0.126632</td>\n",
       "      <td>0.046359</td>\n",
       "      <td>0.096607</td>\n",
       "    </tr>\n",
       "    <tr>\n",
       "      <th>nox</th>\n",
       "      <td>0.653212</td>\n",
       "      <td>-0.324629</td>\n",
       "      <td>0.659660</td>\n",
       "      <td>0.145226</td>\n",
       "      <td>1.000000</td>\n",
       "      <td>0.647074</td>\n",
       "      <td>-0.726221</td>\n",
       "      <td>0.546914</td>\n",
       "      <td>0.627270</td>\n",
       "      <td>0.005466</td>\n",
       "      <td>-0.309933</td>\n",
       "      <td>0.429651</td>\n",
       "      <td>-0.202004</td>\n",
       "    </tr>\n",
       "    <tr>\n",
       "      <th>age</th>\n",
       "      <td>0.412224</td>\n",
       "      <td>-0.293133</td>\n",
       "      <td>0.461117</td>\n",
       "      <td>0.145061</td>\n",
       "      <td>0.647074</td>\n",
       "      <td>1.000000</td>\n",
       "      <td>-0.645609</td>\n",
       "      <td>0.306039</td>\n",
       "      <td>0.391867</td>\n",
       "      <td>0.051739</td>\n",
       "      <td>-0.148377</td>\n",
       "      <td>0.464717</td>\n",
       "      <td>-0.167213</td>\n",
       "    </tr>\n",
       "    <tr>\n",
       "      <th>dis</th>\n",
       "      <td>-0.445436</td>\n",
       "      <td>0.517344</td>\n",
       "      <td>-0.571353</td>\n",
       "      <td>-0.153992</td>\n",
       "      <td>-0.726221</td>\n",
       "      <td>-0.645609</td>\n",
       "      <td>1.000000</td>\n",
       "      <td>-0.336582</td>\n",
       "      <td>-0.442631</td>\n",
       "      <td>-0.040713</td>\n",
       "      <td>0.194607</td>\n",
       "      <td>-0.287295</td>\n",
       "      <td>-0.002939</td>\n",
       "    </tr>\n",
       "    <tr>\n",
       "      <th>rad</th>\n",
       "      <td>0.897178</td>\n",
       "      <td>-0.165247</td>\n",
       "      <td>0.487419</td>\n",
       "      <td>0.106373</td>\n",
       "      <td>0.546914</td>\n",
       "      <td>0.306039</td>\n",
       "      <td>-0.336582</td>\n",
       "      <td>1.000000</td>\n",
       "      <td>0.886054</td>\n",
       "      <td>0.358024</td>\n",
       "      <td>-0.110728</td>\n",
       "      <td>0.191670</td>\n",
       "      <td>-0.134290</td>\n",
       "    </tr>\n",
       "    <tr>\n",
       "      <th>tax</th>\n",
       "      <td>0.828323</td>\n",
       "      <td>-0.268938</td>\n",
       "      <td>0.664443</td>\n",
       "      <td>0.064120</td>\n",
       "      <td>0.627270</td>\n",
       "      <td>0.391867</td>\n",
       "      <td>-0.442631</td>\n",
       "      <td>0.886054</td>\n",
       "      <td>1.000000</td>\n",
       "      <td>0.378029</td>\n",
       "      <td>-0.177566</td>\n",
       "      <td>0.292555</td>\n",
       "      <td>-0.261792</td>\n",
       "    </tr>\n",
       "    <tr>\n",
       "      <th>ptratio</th>\n",
       "      <td>0.295493</td>\n",
       "      <td>-0.318089</td>\n",
       "      <td>0.264929</td>\n",
       "      <td>-0.057403</td>\n",
       "      <td>0.005466</td>\n",
       "      <td>0.051739</td>\n",
       "      <td>-0.040713</td>\n",
       "      <td>0.358024</td>\n",
       "      <td>0.378029</td>\n",
       "      <td>1.000000</td>\n",
       "      <td>0.079640</td>\n",
       "      <td>0.163457</td>\n",
       "      <td>-0.405948</td>\n",
       "    </tr>\n",
       "    <tr>\n",
       "      <th>black</th>\n",
       "      <td>-0.114478</td>\n",
       "      <td>0.080506</td>\n",
       "      <td>-0.305168</td>\n",
       "      <td>-0.126632</td>\n",
       "      <td>-0.309933</td>\n",
       "      <td>-0.148377</td>\n",
       "      <td>0.194607</td>\n",
       "      <td>-0.110728</td>\n",
       "      <td>-0.177566</td>\n",
       "      <td>0.079640</td>\n",
       "      <td>1.000000</td>\n",
       "      <td>-0.123166</td>\n",
       "      <td>0.006138</td>\n",
       "    </tr>\n",
       "    <tr>\n",
       "      <th>lstat</th>\n",
       "      <td>0.320995</td>\n",
       "      <td>-0.215861</td>\n",
       "      <td>0.448154</td>\n",
       "      <td>0.046359</td>\n",
       "      <td>0.429651</td>\n",
       "      <td>0.464717</td>\n",
       "      <td>-0.287295</td>\n",
       "      <td>0.191670</td>\n",
       "      <td>0.292555</td>\n",
       "      <td>0.163457</td>\n",
       "      <td>-0.123166</td>\n",
       "      <td>1.000000</td>\n",
       "      <td>-0.655253</td>\n",
       "    </tr>\n",
       "    <tr>\n",
       "      <th>medv</th>\n",
       "      <td>-0.201282</td>\n",
       "      <td>0.164642</td>\n",
       "      <td>-0.308427</td>\n",
       "      <td>0.096607</td>\n",
       "      <td>-0.202004</td>\n",
       "      <td>-0.167213</td>\n",
       "      <td>-0.002939</td>\n",
       "      <td>-0.134290</td>\n",
       "      <td>-0.261792</td>\n",
       "      <td>-0.405948</td>\n",
       "      <td>0.006138</td>\n",
       "      <td>-0.655253</td>\n",
       "      <td>1.000000</td>\n",
       "    </tr>\n",
       "  </tbody>\n",
       "</table>\n",
       "</div>"
      ],
      "text/plain": [
       "             crim        zn     indus      chas       nox       age       dis  \\\n",
       "crim     1.000000 -0.231053  0.547085  0.066633  0.653212  0.412224 -0.445436   \n",
       "zn      -0.231053  1.000000 -0.375653 -0.081309 -0.324629 -0.293133  0.517344   \n",
       "indus    0.547085 -0.375653  1.000000  0.099515  0.659660  0.461117 -0.571353   \n",
       "chas     0.066633 -0.081309  0.099515  1.000000  0.145226  0.145061 -0.153992   \n",
       "nox      0.653212 -0.324629  0.659660  0.145226  1.000000  0.647074 -0.726221   \n",
       "age      0.412224 -0.293133  0.461117  0.145061  0.647074  1.000000 -0.645609   \n",
       "dis     -0.445436  0.517344 -0.571353 -0.153992 -0.726221 -0.645609  1.000000   \n",
       "rad      0.897178 -0.165247  0.487419  0.106373  0.546914  0.306039 -0.336582   \n",
       "tax      0.828323 -0.268938  0.664443  0.064120  0.627270  0.391867 -0.442631   \n",
       "ptratio  0.295493 -0.318089  0.264929 -0.057403  0.005466  0.051739 -0.040713   \n",
       "black   -0.114478  0.080506 -0.305168 -0.126632 -0.309933 -0.148377  0.194607   \n",
       "lstat    0.320995 -0.215861  0.448154  0.046359  0.429651  0.464717 -0.287295   \n",
       "medv    -0.201282  0.164642 -0.308427  0.096607 -0.202004 -0.167213 -0.002939   \n",
       "\n",
       "              rad       tax   ptratio     black     lstat      medv  \n",
       "crim     0.897178  0.828323  0.295493 -0.114478  0.320995 -0.201282  \n",
       "zn      -0.165247 -0.268938 -0.318089  0.080506 -0.215861  0.164642  \n",
       "indus    0.487419  0.664443  0.264929 -0.305168  0.448154 -0.308427  \n",
       "chas     0.106373  0.064120 -0.057403 -0.126632  0.046359  0.096607  \n",
       "nox      0.546914  0.627270  0.005466 -0.309933  0.429651 -0.202004  \n",
       "age      0.306039  0.391867  0.051739 -0.148377  0.464717 -0.167213  \n",
       "dis     -0.336582 -0.442631 -0.040713  0.194607 -0.287295 -0.002939  \n",
       "rad      1.000000  0.886054  0.358024 -0.110728  0.191670 -0.134290  \n",
       "tax      0.886054  1.000000  0.378029 -0.177566  0.292555 -0.261792  \n",
       "ptratio  0.358024  0.378029  1.000000  0.079640  0.163457 -0.405948  \n",
       "black   -0.110728 -0.177566  0.079640  1.000000 -0.123166  0.006138  \n",
       "lstat    0.191670  0.292555  0.163457 -0.123166  1.000000 -0.655253  \n",
       "medv    -0.134290 -0.261792 -0.405948  0.006138 -0.655253  1.000000  "
      ]
     },
     "execution_count": 39,
     "metadata": {},
     "output_type": "execute_result"
    }
   ],
   "source": [
    "data_copy.corr()"
   ]
  },
  {
   "cell_type": "code",
   "execution_count": 40,
   "metadata": {},
   "outputs": [
    {
     "ename": "TypeError",
     "evalue": "set_title() missing 1 required positional argument: 'label'",
     "output_type": "error",
     "traceback": [
      "\u001b[1;31m---------------------------------------------------------------------------\u001b[0m",
      "\u001b[1;31mTypeError\u001b[0m                                 Traceback (most recent call last)",
      "Input \u001b[1;32mIn [40]\u001b[0m, in \u001b[0;36m<cell line: 5>\u001b[1;34m()\u001b[0m\n\u001b[0;32m      1\u001b[0m plt\u001b[38;5;241m.\u001b[39mfigure(figsize\u001b[38;5;241m=\u001b[39m(\u001b[38;5;241m16\u001b[39m, \u001b[38;5;241m6\u001b[39m))\n\u001b[0;32m      3\u001b[0m heatmap \u001b[38;5;241m=\u001b[39m sn\u001b[38;5;241m.\u001b[39mheatmap(data_copy\u001b[38;5;241m.\u001b[39mcorr(), annot\u001b[38;5;241m=\u001b[39m\u001b[38;5;28;01mTrue\u001b[39;00m)\n\u001b[1;32m----> 5\u001b[0m \u001b[43mheatmap\u001b[49m\u001b[38;5;241;43m.\u001b[39;49m\u001b[43mset_title\u001b[49m\u001b[43m(\u001b[49m\u001b[43mfontdict\u001b[49m\u001b[38;5;241;43m=\u001b[39;49m\u001b[43m{\u001b[49m\u001b[38;5;124;43m'\u001b[39;49m\u001b[38;5;124;43mfontsize\u001b[39;49m\u001b[38;5;124;43m'\u001b[39;49m\u001b[43m:\u001b[49m\u001b[38;5;241;43m12\u001b[39;49m\u001b[43m}\u001b[49m\u001b[43m)\u001b[49m\n",
      "\u001b[1;31mTypeError\u001b[0m: set_title() missing 1 required positional argument: 'label'"
     ]
    },
    {
     "data": {
      "image/png": "[encoded data removed]",
      "text/plain": [
       "<Figure size 1152x432 with 2 Axes>"
      ]
     },
     "metadata": {
      "needs_background": "light"
     },
     "output_type": "display_data"
    }
   ],
   "source": [
    "plt.figure(figsize=(16, 6))\n",
    "\n",
    "heatmap = sn.heatmap(data_copy.corr(), annot=True)\n",
    "\n",
    "heatmap.set_title(fontdict={'fontsize':12})"
   ]
  },
  {
   "cell_type": "markdown",
   "metadata": {},
   "source": [
    "### Calculate Statistics\n",
    "Calculate descriptive statistics for housing price. Include the minimum, maximum, mean, median, and standard deviation. "
   ]
  },
  {
   "cell_type": "code",
   "execution_count": 43,
   "metadata": {},
   "outputs": [
    {
     "data": {
      "text/plain": [
       "count    274.000000\n",
       "mean      23.560219\n",
       "std        8.158112\n",
       "min        7.000000\n",
       "25%       19.300000\n",
       "50%       21.950000\n",
       "75%       25.000000\n",
       "max       50.000000\n",
       "Name: medv, dtype: float64"
      ]
     },
     "execution_count": 43,
     "metadata": {},
     "output_type": "execute_result"
    }
   ],
   "source": [
    "data['medv'] .describe()"
   ]
  },
  {
   "cell_type": "markdown",
   "metadata": {},
   "source": [
    "----\n",
    "\n",
    "## Developing a Model"
   ]
  },
  {
   "cell_type": "markdown",
   "metadata": {},
   "source": [
    "### Implementation: Define a Performance Metric\n",
    "What is the performance meteric with which you will determine the performance of your model? Create a function that calculates this performance metric, and then returns the score. "
   ]
  },
  {
   "cell_type": "code",
   "execution_count": 44,
   "metadata": {},
   "outputs": [],
   "source": [
    "from sklearn.metrics import r2_score\n",
    "\n",
    "def performance_metric(y_true, y_predict):\n",
    "    \"\"\" Calculates and returns the performance score between \n",
    "        true and predicted values based on the metric chosen. \"\"\"\n",
    "    return r2_score(y_true, y_predict)"
   ]
  },
  {
   "cell_type": "markdown",
   "metadata": {},
   "source": [
    "### Implementation: Shuffle and Split Data\n",
    "Split the data into the testing and training datasets. Shuffle the data as well to remove any bias in selecting the traing and test. "
   ]
  },
  {
   "cell_type": "code",
   "execution_count": 45,
   "metadata": {},
   "outputs": [],
   "source": [
    "X = data.drop(columns='medv')\n",
    "y = data['medv'] "
   ]
  },
  {
   "cell_type": "code",
   "execution_count": 46,
   "metadata": {},
   "outputs": [],
   "source": [
    "from sklearn.model_selection import train_test_split\n",
    "\n",
    "X_train, X_test, y_train, y_test = train_test_split(X, y, test_size=0.20, random_state = 0)"
   ]
  },
  {
   "cell_type": "code",
   "execution_count": 59,
   "metadata": {},
   "outputs": [
    {
     "data": {
      "text/html": [
       "<div>\n",
       "<style scoped>\n",
       "    .dataframe tbody tr th:only-of-type {\n",
       "        vertical-align: middle;\n",
       "    }\n",
       "\n",
       "    .dataframe tbody tr th {\n",
       "        vertical-align: top;\n",
       "    }\n",
       "\n",
       "    .dataframe thead th {\n",
       "        text-align: right;\n",
       "    }\n",
       "</style>\n",
       "<table border=\"1\" class=\"dataframe\">\n",
       "  <thead>\n",
       "    <tr style=\"text-align: right;\">\n",
       "      <th></th>\n",
       "      <th>crim</th>\n",
       "      <th>zn</th>\n",
       "      <th>indus</th>\n",
       "      <th>chas</th>\n",
       "      <th>nox</th>\n",
       "      <th>rm</th>\n",
       "      <th>age</th>\n",
       "      <th>dis</th>\n",
       "      <th>rad</th>\n",
       "      <th>tax</th>\n",
       "      <th>ptratio</th>\n",
       "      <th>black</th>\n",
       "      <th>lstat</th>\n",
       "    </tr>\n",
       "  </thead>\n",
       "  <tbody>\n",
       "    <tr>\n",
       "      <th>0</th>\n",
       "      <td>0.231680</td>\n",
       "      <td>0.000000</td>\n",
       "      <td>0.690440</td>\n",
       "      <td>0.0</td>\n",
       "      <td>0.424242</td>\n",
       "      <td>0.444338</td>\n",
       "      <td>0.972194</td>\n",
       "      <td>0.135054</td>\n",
       "      <td>0.173913</td>\n",
       "      <td>0.411090</td>\n",
       "      <td>0.207317</td>\n",
       "      <td>0.090451</td>\n",
       "      <td>0.365248</td>\n",
       "    </tr>\n",
       "    <tr>\n",
       "      <th>1</th>\n",
       "      <td>0.007786</td>\n",
       "      <td>0.000000</td>\n",
       "      <td>0.434370</td>\n",
       "      <td>0.0</td>\n",
       "      <td>0.060606</td>\n",
       "      <td>0.443188</td>\n",
       "      <td>0.347065</td>\n",
       "      <td>0.402592</td>\n",
       "      <td>0.173913</td>\n",
       "      <td>0.401530</td>\n",
       "      <td>0.695122</td>\n",
       "      <td>0.984334</td>\n",
       "      <td>0.261348</td>\n",
       "    </tr>\n",
       "    <tr>\n",
       "      <th>2</th>\n",
       "      <td>0.114997</td>\n",
       "      <td>0.000000</td>\n",
       "      <td>0.256449</td>\n",
       "      <td>0.0</td>\n",
       "      <td>0.279221</td>\n",
       "      <td>0.410040</td>\n",
       "      <td>0.948507</td>\n",
       "      <td>0.312050</td>\n",
       "      <td>0.130435</td>\n",
       "      <td>0.227533</td>\n",
       "      <td>0.975610</td>\n",
       "      <td>0.288885</td>\n",
       "      <td>0.589362</td>\n",
       "    </tr>\n",
       "    <tr>\n",
       "      <th>3</th>\n",
       "      <td>0.018515</td>\n",
       "      <td>0.733333</td>\n",
       "      <td>0.169954</td>\n",
       "      <td>0.0</td>\n",
       "      <td>0.047619</td>\n",
       "      <td>0.604905</td>\n",
       "      <td>0.150360</td>\n",
       "      <td>0.823270</td>\n",
       "      <td>0.260870</td>\n",
       "      <td>0.271511</td>\n",
       "      <td>0.743902</td>\n",
       "      <td>0.941067</td>\n",
       "      <td>0.171277</td>\n",
       "    </tr>\n",
       "    <tr>\n",
       "      <th>4</th>\n",
       "      <td>0.031320</td>\n",
       "      <td>0.000000</td>\n",
       "      <td>0.323217</td>\n",
       "      <td>0.0</td>\n",
       "      <td>0.292208</td>\n",
       "      <td>0.450853</td>\n",
       "      <td>0.826982</td>\n",
       "      <td>0.338805</td>\n",
       "      <td>0.130435</td>\n",
       "      <td>0.221797</td>\n",
       "      <td>0.658537</td>\n",
       "      <td>0.884372</td>\n",
       "      <td>0.588652</td>\n",
       "    </tr>\n",
       "  </tbody>\n",
       "</table>\n",
       "</div>"
      ],
      "text/plain": [
       "       crim        zn     indus  chas       nox        rm       age       dis  \\\n",
       "0  0.231680  0.000000  0.690440   0.0  0.424242  0.444338  0.972194  0.135054   \n",
       "1  0.007786  0.000000  0.434370   0.0  0.060606  0.443188  0.347065  0.402592   \n",
       "2  0.114997  0.000000  0.256449   0.0  0.279221  0.410040  0.948507  0.312050   \n",
       "3  0.018515  0.733333  0.169954   0.0  0.047619  0.604905  0.150360  0.823270   \n",
       "4  0.031320  0.000000  0.323217   0.0  0.292208  0.450853  0.826982  0.338805   \n",
       "\n",
       "        rad       tax   ptratio     black     lstat  \n",
       "0  0.173913  0.411090  0.207317  0.090451  0.365248  \n",
       "1  0.173913  0.401530  0.695122  0.984334  0.261348  \n",
       "2  0.130435  0.227533  0.975610  0.288885  0.589362  \n",
       "3  0.260870  0.271511  0.743902  0.941067  0.171277  \n",
       "4  0.130435  0.221797  0.658537  0.884372  0.588652  "
      ]
     },
     "execution_count": 59,
     "metadata": {},
     "output_type": "execute_result"
    }
   ],
   "source": [
    "from sklearn.preprocessing import MinMaxScaler\n",
    "\n",
    "normalizer = MinMaxScaler()\n",
    "normalizer = normalizer.fit(X_train)\n",
    "X_train_normalized = normalizer.transform(X_train) \n",
    "X_train_normalized = pd.DataFrame(X_train_normalized,columns=X_train.columns)\n",
    "X_train_normalized.head()"
   ]
  },
  {
   "cell_type": "code",
   "execution_count": 60,
   "metadata": {},
   "outputs": [
    {
     "data": {
      "text/html": [
       "<div>\n",
       "<style scoped>\n",
       "    .dataframe tbody tr th:only-of-type {\n",
       "        vertical-align: middle;\n",
       "    }\n",
       "\n",
       "    .dataframe tbody tr th {\n",
       "        vertical-align: top;\n",
       "    }\n",
       "\n",
       "    .dataframe thead th {\n",
       "        text-align: right;\n",
       "    }\n",
       "</style>\n",
       "<table border=\"1\" class=\"dataframe\">\n",
       "  <thead>\n",
       "    <tr style=\"text-align: right;\">\n",
       "      <th></th>\n",
       "      <th>crim</th>\n",
       "      <th>zn</th>\n",
       "      <th>indus</th>\n",
       "      <th>chas</th>\n",
       "      <th>nox</th>\n",
       "      <th>rm</th>\n",
       "      <th>age</th>\n",
       "      <th>dis</th>\n",
       "      <th>rad</th>\n",
       "      <th>tax</th>\n",
       "      <th>ptratio</th>\n",
       "      <th>black</th>\n",
       "      <th>lstat</th>\n",
       "    </tr>\n",
       "  </thead>\n",
       "  <tbody>\n",
       "    <tr>\n",
       "      <th>0</th>\n",
       "      <td>0.020860</td>\n",
       "      <td>0.733333</td>\n",
       "      <td>0.169954</td>\n",
       "      <td>0.0</td>\n",
       "      <td>0.047619</td>\n",
       "      <td>0.551255</td>\n",
       "      <td>0.061792</td>\n",
       "      <td>0.768873</td>\n",
       "      <td>0.260870</td>\n",
       "      <td>0.271511</td>\n",
       "      <td>0.743902</td>\n",
       "      <td>0.630175</td>\n",
       "      <td>0.065957</td>\n",
       "    </tr>\n",
       "    <tr>\n",
       "      <th>1</th>\n",
       "      <td>0.024854</td>\n",
       "      <td>0.000000</td>\n",
       "      <td>0.209788</td>\n",
       "      <td>0.0</td>\n",
       "      <td>0.084416</td>\n",
       "      <td>0.352175</td>\n",
       "      <td>0.951596</td>\n",
       "      <td>0.575652</td>\n",
       "      <td>0.086957</td>\n",
       "      <td>0.086042</td>\n",
       "      <td>0.597561</td>\n",
       "      <td>1.000000</td>\n",
       "      <td>1.031206</td>\n",
       "    </tr>\n",
       "    <tr>\n",
       "      <th>2</th>\n",
       "      <td>0.007293</td>\n",
       "      <td>0.000000</td>\n",
       "      <td>0.434370</td>\n",
       "      <td>0.0</td>\n",
       "      <td>0.060606</td>\n",
       "      <td>0.519640</td>\n",
       "      <td>0.031926</td>\n",
       "      <td>0.370812</td>\n",
       "      <td>0.173913</td>\n",
       "      <td>0.401530</td>\n",
       "      <td>0.695122</td>\n",
       "      <td>0.963073</td>\n",
       "      <td>0.179078</td>\n",
       "    </tr>\n",
       "    <tr>\n",
       "      <th>3</th>\n",
       "      <td>0.009148</td>\n",
       "      <td>0.000000</td>\n",
       "      <td>0.173748</td>\n",
       "      <td>0.0</td>\n",
       "      <td>0.194805</td>\n",
       "      <td>0.436865</td>\n",
       "      <td>0.602472</td>\n",
       "      <td>0.260248</td>\n",
       "      <td>0.173913</td>\n",
       "      <td>0.173996</td>\n",
       "      <td>0.756098</td>\n",
       "      <td>0.639314</td>\n",
       "      <td>0.343262</td>\n",
       "    </tr>\n",
       "    <tr>\n",
       "      <th>4</th>\n",
       "      <td>0.002491</td>\n",
       "      <td>0.000000</td>\n",
       "      <td>0.114188</td>\n",
       "      <td>0.0</td>\n",
       "      <td>0.071429</td>\n",
       "      <td>0.470013</td>\n",
       "      <td>0.469619</td>\n",
       "      <td>0.846949</td>\n",
       "      <td>0.086957</td>\n",
       "      <td>0.313576</td>\n",
       "      <td>0.707317</td>\n",
       "      <td>0.790004</td>\n",
       "      <td>0.312057</td>\n",
       "    </tr>\n",
       "  </tbody>\n",
       "</table>\n",
       "</div>"
      ],
      "text/plain": [
       "       crim        zn     indus  chas       nox        rm       age       dis  \\\n",
       "0  0.020860  0.733333  0.169954   0.0  0.047619  0.551255  0.061792  0.768873   \n",
       "1  0.024854  0.000000  0.209788   0.0  0.084416  0.352175  0.951596  0.575652   \n",
       "2  0.007293  0.000000  0.434370   0.0  0.060606  0.519640  0.031926  0.370812   \n",
       "3  0.009148  0.000000  0.173748   0.0  0.194805  0.436865  0.602472  0.260248   \n",
       "4  0.002491  0.000000  0.114188   0.0  0.071429  0.470013  0.469619  0.846949   \n",
       "\n",
       "        rad       tax   ptratio     black     lstat  \n",
       "0  0.260870  0.271511  0.743902  0.630175  0.065957  \n",
       "1  0.086957  0.086042  0.597561  1.000000  1.031206  \n",
       "2  0.173913  0.401530  0.695122  0.963073  0.179078  \n",
       "3  0.173913  0.173996  0.756098  0.639314  0.343262  \n",
       "4  0.086957  0.313576  0.707317  0.790004  0.312057  "
      ]
     },
     "execution_count": 60,
     "metadata": {},
     "output_type": "execute_result"
    }
   ],
   "source": [
    "X_test_normalized = normalizer.transform(X_test)\n",
    "X_test_normalized = pd.DataFrame(X_test_normalized,columns=X_test.columns)\n",
    "X_test_normalized.head()"
   ]
  },
  {
   "cell_type": "markdown",
   "metadata": {},
   "source": [
    "----\n",
    "\n",
    "## Analyzing Model Performance\n",
    "Next, we are going to build a Random Forest Regressor, and test its performance with several different parameter settings."
   ]
  },
  {
   "cell_type": "markdown",
   "metadata": {},
   "source": [
    "### Learning Curves\n",
    "Lets build the different models. Set the max_depth parameter to 2, 4, 6, 8, and 10 respectively. "
   ]
  },
  {
   "cell_type": "code",
   "execution_count": 63,
   "metadata": {},
   "outputs": [
    {
     "data": {
      "text/plain": [
       "RandomForestRegressor(max_depth=10, random_state=1)"
      ]
     },
     "execution_count": 63,
     "metadata": {},
     "output_type": "execute_result"
    }
   ],
   "source": [
    "# Five separate RFR here with the given max depths\n",
    "from sklearn.ensemble import RandomForestRegressor\n",
    "\n",
    "rf1 = RandomForestRegressor(max_depth = 2, random_state=1)\n",
    "rf1.fit(X_train_normalized, y_train)\n",
    "\n",
    "rf2 = RandomForestRegressor(max_depth = 4, random_state=1)\n",
    "rf2.fit(X_train_normalized, y_train)\n",
    "\n",
    "rf3 = RandomForestRegressor(max_depth = 6, random_state=1)\n",
    "rf3.fit(X_train_normalized, y_train)\n",
    "\n",
    "rf4 = RandomForestRegressor(max_depth = 8, random_state=1)\n",
    "rf4.fit(X_train_normalized, y_train)\n",
    "\n",
    "rf5 = RandomForestRegressor(max_depth = 10, random_state=1)\n",
    "rf5.fit(X_train_normalized, y_train)"
   ]
  },
  {
   "cell_type": "markdown",
   "metadata": {},
   "source": [
    "Now, plot the score for each tree on the training set and on the testing set."
   ]
  },
  {
   "cell_type": "code",
   "execution_count": 66,
   "metadata": {},
   "outputs": [],
   "source": [
    "test_score2 = rf1.score(X_test_normalized,y_test)\n",
    "train_score2 = rf1.score(X_train_normalized, y_train)\n",
    "\n",
    "test_score4 = rf2.score(X_test_normalized,y_test)\n",
    "train_score4 = rf2.score(X_train_normalized, y_train)\n",
    "\n",
    "test_score6 = rf3.score(X_test_normalized,y_test)\n",
    "train_score6 = rf3.score(X_train_normalized, y_train)\n",
    "\n",
    "test_score8 = rf4.score(X_test_normalized,y_test)\n",
    "train_score8 = rf4.score(X_train_normalized, y_train)\n",
    "\n",
    "test_score10 = rf5.score(X_test_normalized,y_test)\n",
    "train_score10 = rf5.score(X_train_normalized, y_train)"
   ]
  },
  {
   "cell_type": "code",
   "execution_count": 67,
   "metadata": {},
   "outputs": [
    {
     "data": {
      "image/png": "[encoded data removed]",
      "text/plain": [
       "<Figure size 432x288 with 1 Axes>"
      ]
     },
     "metadata": {
      "needs_background": "light"
     },
     "output_type": "display_data"
    }
   ],
   "source": [
    "plt.plot([test_score2,test_score4,test_score6,test_score8,test_score10])\n",
    "plt.show()"
   ]
  },
  {
   "cell_type": "code",
   "execution_count": 68,
   "metadata": {},
   "outputs": [
    {
     "data": {
      "image/png": "[encoded data removed]",
      "text/plain": [
       "<Figure size 432x288 with 1 Axes>"
      ]
     },
     "metadata": {
      "needs_background": "light"
     },
     "output_type": "display_data"
    }
   ],
   "source": [
    "plt.plot([train_score2,train_score4,train_score6,train_score8,train_score10])\n",
    "plt.show()"
   ]
  },
  {
   "cell_type": "markdown",
   "metadata": {},
   "source": [
    "What do these results tell you about the effect of the depth of the trees on the performance of the model?"
   ]
  },
  {
   "cell_type": "code",
   "execution_count": null,
   "metadata": {},
   "outputs": [],
   "source": [
    "# The ideal depth would be around 9"
   ]
  },
  {
   "cell_type": "markdown",
   "metadata": {},
   "source": [
    "### Bias-Variance Tradeoff\n",
    "When the model is trained with a maximum depth of 1, does the model suffer from high bias or from high variance? How about when the model is trained with a maximum depth of 10? Check out this article before answering: https://towardsdatascience.com/understanding-the-bias-variance-tradeoff-165e6942b229"
   ]
  },
  {
   "cell_type": "code",
   "execution_count": null,
   "metadata": {},
   "outputs": [],
   "source": [
    "#Yes as the model will be quite underfitted"
   ]
  },
  {
   "cell_type": "markdown",
   "metadata": {},
   "source": [
    "### Best-Guess Optimal Model\n",
    "What is the max_depth parameter that you think would optimize the model? Run your model and explain its performance."
   ]
  },
  {
   "cell_type": "code",
   "execution_count": null,
   "metadata": {},
   "outputs": [],
   "source": [
    "# I would use the max depth of 9"
   ]
  },
  {
   "cell_type": "markdown",
   "metadata": {},
   "source": [
    "### Applicability\n",
    "*In a few sentences, discuss whether the constructed model should or should not be used in a real-world setting.*  \n",
    "**Hint:** Some questions to answering:\n",
    "- *How relevant today is data that was collected from 1978?*\n",
    "- *Are the features present in the data sufficient to describe a home?*\n",
    "- *Is the model robust enough to make consistent predictions?*\n",
    "- *Would data collected in an urban city like Boston be applicable in a rural city?*"
   ]
  },
  {
   "cell_type": "code",
   "execution_count": 69,
   "metadata": {},
   "outputs": [
    {
     "name": "stdout",
     "output_type": "stream",
     "text": [
      ".. _boston_dataset:\n",
      "\n",
      "Boston house prices dataset\n",
      "---------------------------\n",
      "\n",
      "**Data Set Characteristics:**  \n",
      "\n",
      "    :Number of Instances: 506 \n",
      "\n",
      "    :Number of Attributes: 13 numeric/categorical predictive. Median Value (attribute 14) is usually the target.\n",
      "\n",
      "    :Attribute Information (in order):\n",
      "        - CRIM     per capita crime rate by town\n",
      "        - ZN       proportion of residential land zoned for lots over 25,000 sq.ft.\n",
      "        - INDUS    proportion of non-retail business acres per town\n",
      "        - CHAS     Charles River dummy variable (= 1 if tract bounds river; 0 otherwise)\n",
      "        - NOX      nitric oxides concentration (parts per 10 million)\n",
      "        - RM       average number of rooms per dwelling\n",
      "        - AGE      proportion of owner-occupied units built prior to 1940\n",
      "        - DIS      weighted distances to five Boston employment centres\n",
      "        - RAD      index of accessibility to radial highways\n",
      "        - TAX      full-value property-tax rate per $10,000\n",
      "        - PTRATIO  pupil-teacher ratio by town\n",
      "        - B        1000(Bk - 0.63)^2 where Bk is the proportion of black people by town\n",
      "        - LSTAT    % lower status of the population\n",
      "        - MEDV     Median value of owner-occupied homes in $1000's\n",
      "\n",
      "    :Missing Attribute Values: None\n",
      "\n",
      "    :Creator: Harrison, D. and Rubinfeld, D.L.\n",
      "\n",
      "This is a copy of UCI ML housing dataset.\n",
      "https://archive.ics.uci.edu/ml/machine-learning-databases/housing/\n",
      "\n",
      "\n",
      "This dataset was taken from the StatLib library which is maintained at Carnegie Mellon University.\n",
      "\n",
      "The Boston house-price data of Harrison, D. and Rubinfeld, D.L. 'Hedonic\n",
      "prices and the demand for clean air', J. Environ. Economics & Management,\n",
      "vol.5, 81-102, 1978.   Used in Belsley, Kuh & Welsch, 'Regression diagnostics\n",
      "...', Wiley, 1980.   N.B. Various transformations are used in the table on\n",
      "pages 244-261 of the latter.\n",
      "\n",
      "The Boston house-price data has been used in many machine learning papers that address regression\n",
      "problems.   \n",
      "     \n",
      ".. topic:: References\n",
      "\n",
      "   - Belsley, Kuh & Welsch, 'Regression diagnostics: Identifying Influential Data and Sources of Collinearity', Wiley, 1980. 244-261.\n",
      "   - Quinlan,R. (1993). Combining Instance-Based and Model-Based Learning. In Proceedings on the Tenth International Conference of Machine Learning, 236-243, University of Massachusetts, Amherst. Morgan Kaufmann.\n",
      "\n"
     ]
    },
    {
     "name": "stderr",
     "output_type": "stream",
     "text": [
      "C:\\Users\\damia\\anaconda3\\lib\\site-packages\\sklearn\\utils\\deprecation.py:87: FutureWarning: Function load_boston is deprecated; `load_boston` is deprecated in 1.0 and will be removed in 1.2.\n",
      "\n",
      "    The Boston housing prices dataset has an ethical problem. You can refer to\n",
      "    the documentation of this function for further details.\n",
      "\n",
      "    The scikit-learn maintainers therefore strongly discourage the use of this\n",
      "    dataset unless the purpose of the code is to study and educate about\n",
      "    ethical issues in data science and machine learning.\n",
      "\n",
      "    In this special case, you can fetch the dataset from the original\n",
      "    source::\n",
      "\n",
      "        import pandas as pd\n",
      "        import numpy as np\n",
      "\n",
      "\n",
      "        data_url = \"http://lib.stat.cmu.edu/datasets/boston\"\n",
      "        raw_df = pd.read_csv(data_url, sep=\"\\s+\", skiprows=22, header=None)\n",
      "        data = np.hstack([raw_df.values[::2, :], raw_df.values[1::2, :2]])\n",
      "        target = raw_df.values[1::2, 2]\n",
      "\n",
      "    Alternative datasets include the California housing dataset (i.e.\n",
      "    :func:`~sklearn.datasets.fetch_california_housing`) and the Ames housing\n",
      "    dataset. You can load the datasets as follows::\n",
      "\n",
      "        from sklearn.datasets import fetch_california_housing\n",
      "        housing = fetch_california_housing()\n",
      "\n",
      "    for the California housing dataset and::\n",
      "\n",
      "        from sklearn.datasets import fetch_openml\n",
      "        housing = fetch_openml(name=\"house_prices\", as_frame=True)\n",
      "\n",
      "    for the Ames housing dataset.\n",
      "    \n",
      "  warnings.warn(msg, category=FutureWarning)\n"
     ]
    }
   ],
   "source": [
    "from sklearn.datasets import load_boston\n",
    "boston_features = load_boston()\n",
    "print(boston_features.DESCR)"
   ]
  },
  {
   "cell_type": "code",
   "execution_count": null,
   "metadata": {},
   "outputs": [],
   "source": []
  }
 ],
 "metadata": {
  "anaconda-cloud": {},
  "kernelspec": {
   "display_name": "Python 3 (ipykernel)",
   "language": "python",
   "name": "python3"
  },
  "language_info": {
   "codemirror_mode": {
    "name": "ipython",
    "version": 3
   },
   "file_extension": ".py",
   "mimetype": "text/x-python",
   "name": "python",
   "nbconvert_exporter": "python",
   "pygments_lexer": "ipython3",
   "version": "3.9.12"
  }
 },
 "nbformat": 4,
 "nbformat_minor": 1
}
