{
  "cells": [
    {
      "cell_type": "markdown",
      "metadata": {
        "id": "sqjXL18LHSec"
      },
      "source": [
        "# Understanding Over & Underfitting\n",
        "## Predicting Boston Housing Prices"
      ]
    },
    {
      "cell_type": "markdown",
      "metadata": {
        "id": "sxVPKm8SHSee"
      },
      "source": [
        "## Getting Started\n",
        "In this project, you will use the Boston Housing Prices dataset to build several models to predict the prices of homes with particular qualities from the suburbs of Boston, MA.\n",
        "We will build models with several different parameters, which will change the goodness of fit for each. "
      ]
    },
    {
      "cell_type": "markdown",
      "metadata": {
        "id": "OfoMDVY6HSef"
      },
      "source": [
        "---\n",
        "## Data Exploration\n",
        "Since we want to predict the value of houses, the **target variable**, `'MEDV'`, will be the variable we seek to predict."
      ]
    },
    {
      "cell_type": "markdown",
      "metadata": {
        "id": "7ZTiMgHPHSef"
      },
      "source": [
        "### Import and explore the data. Clean the data for outliers and missing values. "
      ]
    },
    {
      "cell_type": "code",
      "execution_count": 43,
      "metadata": {
        "id": "vNvumLTFHSeg"
      },
      "outputs": [],
      "source": [
        "import pandas as pd\n",
        "import numpy as np\n",
        "import matplotlib.pyplot as plt\n",
        "import seaborn as sns"
      ]
    },
    {
      "cell_type": "code",
      "source": [
        "data = pd.read_csv('boston_data.csv')\n",
        "print(data.shape)\n",
        "data.head()"
      ],
      "metadata": {
        "colab": {
          "base_uri": "https://localhost:8080/",
          "height": 224
        },
        "id": "SiV7IabqUW7D",
        "outputId": "71aa291b-ba30-4ea5-c73d-6b5eb8e04754"
      },
      "execution_count": 44,
      "outputs": [
        {
          "output_type": "stream",
          "name": "stdout",
          "text": [
            "(404, 14)\n"
          ]
        },
        {
          "output_type": "execute_result",
          "data": {
            "text/plain": [
              "      crim    zn  indus  chas    nox     rm   age     dis  rad    tax  \\\n",
              "0  0.15876   0.0  10.81   0.0  0.413  5.961  17.5  5.2873  4.0  305.0   \n",
              "1  0.10328  25.0   5.13   0.0  0.453  5.927  47.2  6.9320  8.0  284.0   \n",
              "2  0.34940   0.0   9.90   0.0  0.544  5.972  76.7  3.1025  4.0  304.0   \n",
              "3  2.73397   0.0  19.58   0.0  0.871  5.597  94.9  1.5257  5.0  403.0   \n",
              "4  0.04337  21.0   5.64   0.0  0.439  6.115  63.0  6.8147  4.0  243.0   \n",
              "\n",
              "   ptratio   black  lstat  medv  \n",
              "0     19.2  376.94   9.88  21.7  \n",
              "1     19.7  396.90   9.22  19.6  \n",
              "2     18.4  396.24   9.97  20.3  \n",
              "3     14.7  351.85  21.45  15.4  \n",
              "4     16.8  393.97   9.43  20.5  "
            ],
            "text/html": [
              "\n",
              "  <div id=\"df-63e2cced-d70f-436b-9f09-1ed7e0b7dd6b\">\n",
              "    <div class=\"colab-df-container\">\n",
              "      <div>\n",
              "<style scoped>\n",
              "    .dataframe tbody tr th:only-of-type {\n",
              "        vertical-align: middle;\n",
              "    }\n",
              "\n",
              "    .dataframe tbody tr th {\n",
              "        vertical-align: top;\n",
              "    }\n",
              "\n",
              "    .dataframe thead th {\n",
              "        text-align: right;\n",
              "    }\n",
              "</style>\n",
              "<table border=\"1\" class=\"dataframe\">\n",
              "  <thead>\n",
              "    <tr style=\"text-align: right;\">\n",
              "      <th></th>\n",
              "      <th>crim</th>\n",
              "      <th>zn</th>\n",
              "      <th>indus</th>\n",
              "      <th>chas</th>\n",
              "      <th>nox</th>\n",
              "      <th>rm</th>\n",
              "      <th>age</th>\n",
              "      <th>dis</th>\n",
              "      <th>rad</th>\n",
              "      <th>tax</th>\n",
              "      <th>ptratio</th>\n",
              "      <th>black</th>\n",
              "      <th>lstat</th>\n",
              "      <th>medv</th>\n",
              "    </tr>\n",
              "  </thead>\n",
              "  <tbody>\n",
              "    <tr>\n",
              "      <th>0</th>\n",
              "      <td>0.15876</td>\n",
              "      <td>0.0</td>\n",
              "      <td>10.81</td>\n",
              "      <td>0.0</td>\n",
              "      <td>0.413</td>\n",
              "      <td>5.961</td>\n",
              "      <td>17.5</td>\n",
              "      <td>5.2873</td>\n",
              "      <td>4.0</td>\n",
              "      <td>305.0</td>\n",
              "      <td>19.2</td>\n",
              "      <td>376.94</td>\n",
              "      <td>9.88</td>\n",
              "      <td>21.7</td>\n",
              "    </tr>\n",
              "    <tr>\n",
              "      <th>1</th>\n",
              "      <td>0.10328</td>\n",
              "      <td>25.0</td>\n",
              "      <td>5.13</td>\n",
              "      <td>0.0</td>\n",
              "      <td>0.453</td>\n",
              "      <td>5.927</td>\n",
              "      <td>47.2</td>\n",
              "      <td>6.9320</td>\n",
              "      <td>8.0</td>\n",
              "      <td>284.0</td>\n",
              "      <td>19.7</td>\n",
              "      <td>396.90</td>\n",
              "      <td>9.22</td>\n",
              "      <td>19.6</td>\n",
              "    </tr>\n",
              "    <tr>\n",
              "      <th>2</th>\n",
              "      <td>0.34940</td>\n",
              "      <td>0.0</td>\n",
              "      <td>9.90</td>\n",
              "      <td>0.0</td>\n",
              "      <td>0.544</td>\n",
              "      <td>5.972</td>\n",
              "      <td>76.7</td>\n",
              "      <td>3.1025</td>\n",
              "      <td>4.0</td>\n",
              "      <td>304.0</td>\n",
              "      <td>18.4</td>\n",
              "      <td>396.24</td>\n",
              "      <td>9.97</td>\n",
              "      <td>20.3</td>\n",
              "    </tr>\n",
              "    <tr>\n",
              "      <th>3</th>\n",
              "      <td>2.73397</td>\n",
              "      <td>0.0</td>\n",
              "      <td>19.58</td>\n",
              "      <td>0.0</td>\n",
              "      <td>0.871</td>\n",
              "      <td>5.597</td>\n",
              "      <td>94.9</td>\n",
              "      <td>1.5257</td>\n",
              "      <td>5.0</td>\n",
              "      <td>403.0</td>\n",
              "      <td>14.7</td>\n",
              "      <td>351.85</td>\n",
              "      <td>21.45</td>\n",
              "      <td>15.4</td>\n",
              "    </tr>\n",
              "    <tr>\n",
              "      <th>4</th>\n",
              "      <td>0.04337</td>\n",
              "      <td>21.0</td>\n",
              "      <td>5.64</td>\n",
              "      <td>0.0</td>\n",
              "      <td>0.439</td>\n",
              "      <td>6.115</td>\n",
              "      <td>63.0</td>\n",
              "      <td>6.8147</td>\n",
              "      <td>4.0</td>\n",
              "      <td>243.0</td>\n",
              "      <td>16.8</td>\n",
              "      <td>393.97</td>\n",
              "      <td>9.43</td>\n",
              "      <td>20.5</td>\n",
              "    </tr>\n",
              "  </tbody>\n",
              "</table>\n",
              "</div>\n",
              "      <button class=\"colab-df-convert\" onclick=\"convertToInteractive('df-63e2cced-d70f-436b-9f09-1ed7e0b7dd6b')\"\n",
              "              title=\"Convert this dataframe to an interactive table.\"\n",
              "              style=\"display:none;\">\n",
              "        \n",
              "  <svg xmlns=\"http://www.w3.org/2000/svg\" height=\"24px\"viewBox=\"0 0 24 24\"\n",
              "       width=\"24px\">\n",
              "    <path d=\"M0 0h24v24H0V0z\" fill=\"none\"/>\n",
              "    <path d=\"M18.56 5.44l.94 2.06.94-2.06 2.06-.94-2.06-.94-.94-2.06-.94 2.06-2.06.94zm-11 1L8.5 8.5l.94-2.06 2.06-.94-2.06-.94L8.5 2.5l-.94 2.06-2.06.94zm10 10l.94 2.06.94-2.06 2.06-.94-2.06-.94-.94-2.06-.94 2.06-2.06.94z\"/><path d=\"M17.41 7.96l-1.37-1.37c-.4-.4-.92-.59-1.43-.59-.52 0-1.04.2-1.43.59L10.3 9.45l-7.72 7.72c-.78.78-.78 2.05 0 2.83L4 21.41c.39.39.9.59 1.41.59.51 0 1.02-.2 1.41-.59l7.78-7.78 2.81-2.81c.8-.78.8-2.07 0-2.86zM5.41 20L4 18.59l7.72-7.72 1.47 1.35L5.41 20z\"/>\n",
              "  </svg>\n",
              "      </button>\n",
              "      \n",
              "  <style>\n",
              "    .colab-df-container {\n",
              "      display:flex;\n",
              "      flex-wrap:wrap;\n",
              "      gap: 12px;\n",
              "    }\n",
              "\n",
              "    .colab-df-convert {\n",
              "      background-color: #E8F0FE;\n",
              "      border: none;\n",
              "      border-radius: 50%;\n",
              "      cursor: pointer;\n",
              "      display: none;\n",
              "      fill: #1967D2;\n",
              "      height: 32px;\n",
              "      padding: 0 0 0 0;\n",
              "      width: 32px;\n",
              "    }\n",
              "\n",
              "    .colab-df-convert:hover {\n",
              "      background-color: #E2EBFA;\n",
              "      box-shadow: 0px 1px 2px rgba(60, 64, 67, 0.3), 0px 1px 3px 1px rgba(60, 64, 67, 0.15);\n",
              "      fill: #174EA6;\n",
              "    }\n",
              "\n",
              "    [theme=dark] .colab-df-convert {\n",
              "      background-color: #3B4455;\n",
              "      fill: #D2E3FC;\n",
              "    }\n",
              "\n",
              "    [theme=dark] .colab-df-convert:hover {\n",
              "      background-color: #434B5C;\n",
              "      box-shadow: 0px 1px 3px 1px rgba(0, 0, 0, 0.15);\n",
              "      filter: drop-shadow(0px 1px 2px rgba(0, 0, 0, 0.3));\n",
              "      fill: #FFFFFF;\n",
              "    }\n",
              "  </style>\n",
              "\n",
              "      <script>\n",
              "        const buttonEl =\n",
              "          document.querySelector('#df-63e2cced-d70f-436b-9f09-1ed7e0b7dd6b button.colab-df-convert');\n",
              "        buttonEl.style.display =\n",
              "          google.colab.kernel.accessAllowed ? 'block' : 'none';\n",
              "\n",
              "        async function convertToInteractive(key) {\n",
              "          const element = document.querySelector('#df-63e2cced-d70f-436b-9f09-1ed7e0b7dd6b');\n",
              "          const dataTable =\n",
              "            await google.colab.kernel.invokeFunction('convertToInteractive',\n",
              "                                                     [key], {});\n",
              "          if (!dataTable) return;\n",
              "\n",
              "          const docLinkHtml = 'Like what you see? Visit the ' +\n",
              "            '<a target=\"_blank\" href=https://colab.research.google.com/notebooks/data_table.ipynb>data table notebook</a>'\n",
              "            + ' to learn more about interactive tables.';\n",
              "          element.innerHTML = '';\n",
              "          dataTable['output_type'] = 'display_data';\n",
              "          await google.colab.output.renderOutput(dataTable, element);\n",
              "          const docLink = document.createElement('div');\n",
              "          docLink.innerHTML = docLinkHtml;\n",
              "          element.appendChild(docLink);\n",
              "        }\n",
              "      </script>\n",
              "    </div>\n",
              "  </div>\n",
              "  "
            ]
          },
          "metadata": {},
          "execution_count": 44
        }
      ]
    },
    {
      "cell_type": "code",
      "source": [
        "data.dtypes"
      ],
      "metadata": {
        "colab": {
          "base_uri": "https://localhost:8080/"
        },
        "id": "ixnzKaGXUnjJ",
        "outputId": "4106cbd2-d6ad-4638-c828-07a058507c7b"
      },
      "execution_count": 45,
      "outputs": [
        {
          "output_type": "execute_result",
          "data": {
            "text/plain": [
              "crim       float64\n",
              "zn         float64\n",
              "indus      float64\n",
              "chas       float64\n",
              "nox        float64\n",
              "rm         float64\n",
              "age        float64\n",
              "dis        float64\n",
              "rad        float64\n",
              "tax        float64\n",
              "ptratio    float64\n",
              "black      float64\n",
              "lstat      float64\n",
              "medv       float64\n",
              "dtype: object"
            ]
          },
          "metadata": {},
          "execution_count": 45
        }
      ]
    },
    {
      "cell_type": "code",
      "source": [
        "data.isna().sum()"
      ],
      "metadata": {
        "colab": {
          "base_uri": "https://localhost:8080/"
        },
        "id": "Nci-MVExU4ro",
        "outputId": "626133a0-2c19-4948-a77a-cac390f1df68"
      },
      "execution_count": 46,
      "outputs": [
        {
          "output_type": "execute_result",
          "data": {
            "text/plain": [
              "crim       0\n",
              "zn         0\n",
              "indus      0\n",
              "chas       0\n",
              "nox        0\n",
              "rm         0\n",
              "age        0\n",
              "dis        0\n",
              "rad        0\n",
              "tax        0\n",
              "ptratio    0\n",
              "black      0\n",
              "lstat      0\n",
              "medv       0\n",
              "dtype: int64"
            ]
          },
          "metadata": {},
          "execution_count": 46
        }
      ]
    },
    {
      "cell_type": "code",
      "source": [
        "data.describe()"
      ],
      "metadata": {
        "colab": {
          "base_uri": "https://localhost:8080/",
          "height": 300
        },
        "id": "f-ynww6BVDMf",
        "outputId": "5d707b6b-9de8-486a-8e88-da278640ee5f"
      },
      "execution_count": 47,
      "outputs": [
        {
          "output_type": "execute_result",
          "data": {
            "text/plain": [
              "             crim          zn       indus        chas         nox         rm  \\\n",
              "count  404.000000  404.000000  404.000000  404.000000  404.000000  404.00000   \n",
              "mean     3.730912   10.509901   11.189901    0.069307    0.556710    6.30145   \n",
              "std      8.943922   22.053733    6.814909    0.254290    0.117321    0.67583   \n",
              "min      0.006320    0.000000    0.460000    0.000000    0.392000    3.56100   \n",
              "25%      0.082382    0.000000    5.190000    0.000000    0.453000    5.90275   \n",
              "50%      0.253715    0.000000    9.795000    0.000000    0.538000    6.23050   \n",
              "75%      4.053158   12.500000   18.100000    0.000000    0.631000    6.62925   \n",
              "max     88.976200   95.000000   27.740000    1.000000    0.871000    8.78000   \n",
              "\n",
              "              age         dis         rad         tax     ptratio       black  \\\n",
              "count  404.000000  404.000000  404.000000  404.000000  404.000000  404.000000   \n",
              "mean    68.601733    3.799666    9.836634  411.688119   18.444554  355.068243   \n",
              "std     28.066143    2.109916    8.834741  171.073553    2.150295   94.489572   \n",
              "min      2.900000    1.169100    1.000000  187.000000   12.600000    0.320000   \n",
              "25%     45.800000    2.087875    4.000000  281.000000   17.375000  374.710000   \n",
              "50%     76.600000    3.207450    5.000000  330.000000   19.000000  391.065000   \n",
              "75%     94.150000    5.222125   24.000000  666.000000   20.200000  396.007500   \n",
              "max    100.000000   12.126500   24.000000  711.000000   22.000000  396.900000   \n",
              "\n",
              "            lstat        medv  \n",
              "count  404.000000  404.000000  \n",
              "mean    12.598936   22.312376  \n",
              "std      6.925173    8.837019  \n",
              "min      1.730000    5.000000  \n",
              "25%      7.135000   17.100000  \n",
              "50%     11.265000   21.400000  \n",
              "75%     16.910000   25.000000  \n",
              "max     34.370000   50.000000  "
            ],
            "text/html": [
              "\n",
              "  <div id=\"df-c422f747-2bb1-4897-8cfb-505fef0722e9\">\n",
              "    <div class=\"colab-df-container\">\n",
              "      <div>\n",
              "<style scoped>\n",
              "    .dataframe tbody tr th:only-of-type {\n",
              "        vertical-align: middle;\n",
              "    }\n",
              "\n",
              "    .dataframe tbody tr th {\n",
              "        vertical-align: top;\n",
              "    }\n",
              "\n",
              "    .dataframe thead th {\n",
              "        text-align: right;\n",
              "    }\n",
              "</style>\n",
              "<table border=\"1\" class=\"dataframe\">\n",
              "  <thead>\n",
              "    <tr style=\"text-align: right;\">\n",
              "      <th></th>\n",
              "      <th>crim</th>\n",
              "      <th>zn</th>\n",
              "      <th>indus</th>\n",
              "      <th>chas</th>\n",
              "      <th>nox</th>\n",
              "      <th>rm</th>\n",
              "      <th>age</th>\n",
              "      <th>dis</th>\n",
              "      <th>rad</th>\n",
              "      <th>tax</th>\n",
              "      <th>ptratio</th>\n",
              "      <th>black</th>\n",
              "      <th>lstat</th>\n",
              "      <th>medv</th>\n",
              "    </tr>\n",
              "  </thead>\n",
              "  <tbody>\n",
              "    <tr>\n",
              "      <th>count</th>\n",
              "      <td>404.000000</td>\n",
              "      <td>404.000000</td>\n",
              "      <td>404.000000</td>\n",
              "      <td>404.000000</td>\n",
              "      <td>404.000000</td>\n",
              "      <td>404.00000</td>\n",
              "      <td>404.000000</td>\n",
              "      <td>404.000000</td>\n",
              "      <td>404.000000</td>\n",
              "      <td>404.000000</td>\n",
              "      <td>404.000000</td>\n",
              "      <td>404.000000</td>\n",
              "      <td>404.000000</td>\n",
              "      <td>404.000000</td>\n",
              "    </tr>\n",
              "    <tr>\n",
              "      <th>mean</th>\n",
              "      <td>3.730912</td>\n",
              "      <td>10.509901</td>\n",
              "      <td>11.189901</td>\n",
              "      <td>0.069307</td>\n",
              "      <td>0.556710</td>\n",
              "      <td>6.30145</td>\n",
              "      <td>68.601733</td>\n",
              "      <td>3.799666</td>\n",
              "      <td>9.836634</td>\n",
              "      <td>411.688119</td>\n",
              "      <td>18.444554</td>\n",
              "      <td>355.068243</td>\n",
              "      <td>12.598936</td>\n",
              "      <td>22.312376</td>\n",
              "    </tr>\n",
              "    <tr>\n",
              "      <th>std</th>\n",
              "      <td>8.943922</td>\n",
              "      <td>22.053733</td>\n",
              "      <td>6.814909</td>\n",
              "      <td>0.254290</td>\n",
              "      <td>0.117321</td>\n",
              "      <td>0.67583</td>\n",
              "      <td>28.066143</td>\n",
              "      <td>2.109916</td>\n",
              "      <td>8.834741</td>\n",
              "      <td>171.073553</td>\n",
              "      <td>2.150295</td>\n",
              "      <td>94.489572</td>\n",
              "      <td>6.925173</td>\n",
              "      <td>8.837019</td>\n",
              "    </tr>\n",
              "    <tr>\n",
              "      <th>min</th>\n",
              "      <td>0.006320</td>\n",
              "      <td>0.000000</td>\n",
              "      <td>0.460000</td>\n",
              "      <td>0.000000</td>\n",
              "      <td>0.392000</td>\n",
              "      <td>3.56100</td>\n",
              "      <td>2.900000</td>\n",
              "      <td>1.169100</td>\n",
              "      <td>1.000000</td>\n",
              "      <td>187.000000</td>\n",
              "      <td>12.600000</td>\n",
              "      <td>0.320000</td>\n",
              "      <td>1.730000</td>\n",
              "      <td>5.000000</td>\n",
              "    </tr>\n",
              "    <tr>\n",
              "      <th>25%</th>\n",
              "      <td>0.082382</td>\n",
              "      <td>0.000000</td>\n",
              "      <td>5.190000</td>\n",
              "      <td>0.000000</td>\n",
              "      <td>0.453000</td>\n",
              "      <td>5.90275</td>\n",
              "      <td>45.800000</td>\n",
              "      <td>2.087875</td>\n",
              "      <td>4.000000</td>\n",
              "      <td>281.000000</td>\n",
              "      <td>17.375000</td>\n",
              "      <td>374.710000</td>\n",
              "      <td>7.135000</td>\n",
              "      <td>17.100000</td>\n",
              "    </tr>\n",
              "    <tr>\n",
              "      <th>50%</th>\n",
              "      <td>0.253715</td>\n",
              "      <td>0.000000</td>\n",
              "      <td>9.795000</td>\n",
              "      <td>0.000000</td>\n",
              "      <td>0.538000</td>\n",
              "      <td>6.23050</td>\n",
              "      <td>76.600000</td>\n",
              "      <td>3.207450</td>\n",
              "      <td>5.000000</td>\n",
              "      <td>330.000000</td>\n",
              "      <td>19.000000</td>\n",
              "      <td>391.065000</td>\n",
              "      <td>11.265000</td>\n",
              "      <td>21.400000</td>\n",
              "    </tr>\n",
              "    <tr>\n",
              "      <th>75%</th>\n",
              "      <td>4.053158</td>\n",
              "      <td>12.500000</td>\n",
              "      <td>18.100000</td>\n",
              "      <td>0.000000</td>\n",
              "      <td>0.631000</td>\n",
              "      <td>6.62925</td>\n",
              "      <td>94.150000</td>\n",
              "      <td>5.222125</td>\n",
              "      <td>24.000000</td>\n",
              "      <td>666.000000</td>\n",
              "      <td>20.200000</td>\n",
              "      <td>396.007500</td>\n",
              "      <td>16.910000</td>\n",
              "      <td>25.000000</td>\n",
              "    </tr>\n",
              "    <tr>\n",
              "      <th>max</th>\n",
              "      <td>88.976200</td>\n",
              "      <td>95.000000</td>\n",
              "      <td>27.740000</td>\n",
              "      <td>1.000000</td>\n",
              "      <td>0.871000</td>\n",
              "      <td>8.78000</td>\n",
              "      <td>100.000000</td>\n",
              "      <td>12.126500</td>\n",
              "      <td>24.000000</td>\n",
              "      <td>711.000000</td>\n",
              "      <td>22.000000</td>\n",
              "      <td>396.900000</td>\n",
              "      <td>34.370000</td>\n",
              "      <td>50.000000</td>\n",
              "    </tr>\n",
              "  </tbody>\n",
              "</table>\n",
              "</div>\n",
              "      <button class=\"colab-df-convert\" onclick=\"convertToInteractive('df-c422f747-2bb1-4897-8cfb-505fef0722e9')\"\n",
              "              title=\"Convert this dataframe to an interactive table.\"\n",
              "              style=\"display:none;\">\n",
              "        \n",
              "  <svg xmlns=\"http://www.w3.org/2000/svg\" height=\"24px\"viewBox=\"0 0 24 24\"\n",
              "       width=\"24px\">\n",
              "    <path d=\"M0 0h24v24H0V0z\" fill=\"none\"/>\n",
              "    <path d=\"M18.56 5.44l.94 2.06.94-2.06 2.06-.94-2.06-.94-.94-2.06-.94 2.06-2.06.94zm-11 1L8.5 8.5l.94-2.06 2.06-.94-2.06-.94L8.5 2.5l-.94 2.06-2.06.94zm10 10l.94 2.06.94-2.06 2.06-.94-2.06-.94-.94-2.06-.94 2.06-2.06.94z\"/><path d=\"M17.41 7.96l-1.37-1.37c-.4-.4-.92-.59-1.43-.59-.52 0-1.04.2-1.43.59L10.3 9.45l-7.72 7.72c-.78.78-.78 2.05 0 2.83L4 21.41c.39.39.9.59 1.41.59.51 0 1.02-.2 1.41-.59l7.78-7.78 2.81-2.81c.8-.78.8-2.07 0-2.86zM5.41 20L4 18.59l7.72-7.72 1.47 1.35L5.41 20z\"/>\n",
              "  </svg>\n",
              "      </button>\n",
              "      \n",
              "  <style>\n",
              "    .colab-df-container {\n",
              "      display:flex;\n",
              "      flex-wrap:wrap;\n",
              "      gap: 12px;\n",
              "    }\n",
              "\n",
              "    .colab-df-convert {\n",
              "      background-color: #E8F0FE;\n",
              "      border: none;\n",
              "      border-radius: 50%;\n",
              "      cursor: pointer;\n",
              "      display: none;\n",
              "      fill: #1967D2;\n",
              "      height: 32px;\n",
              "      padding: 0 0 0 0;\n",
              "      width: 32px;\n",
              "    }\n",
              "\n",
              "    .colab-df-convert:hover {\n",
              "      background-color: #E2EBFA;\n",
              "      box-shadow: 0px 1px 2px rgba(60, 64, 67, 0.3), 0px 1px 3px 1px rgba(60, 64, 67, 0.15);\n",
              "      fill: #174EA6;\n",
              "    }\n",
              "\n",
              "    [theme=dark] .colab-df-convert {\n",
              "      background-color: #3B4455;\n",
              "      fill: #D2E3FC;\n",
              "    }\n",
              "\n",
              "    [theme=dark] .colab-df-convert:hover {\n",
              "      background-color: #434B5C;\n",
              "      box-shadow: 0px 1px 3px 1px rgba(0, 0, 0, 0.15);\n",
              "      filter: drop-shadow(0px 1px 2px rgba(0, 0, 0, 0.3));\n",
              "      fill: #FFFFFF;\n",
              "    }\n",
              "  </style>\n",
              "\n",
              "      <script>\n",
              "        const buttonEl =\n",
              "          document.querySelector('#df-c422f747-2bb1-4897-8cfb-505fef0722e9 button.colab-df-convert');\n",
              "        buttonEl.style.display =\n",
              "          google.colab.kernel.accessAllowed ? 'block' : 'none';\n",
              "\n",
              "        async function convertToInteractive(key) {\n",
              "          const element = document.querySelector('#df-c422f747-2bb1-4897-8cfb-505fef0722e9');\n",
              "          const dataTable =\n",
              "            await google.colab.kernel.invokeFunction('convertToInteractive',\n",
              "                                                     [key], {});\n",
              "          if (!dataTable) return;\n",
              "\n",
              "          const docLinkHtml = 'Like what you see? Visit the ' +\n",
              "            '<a target=\"_blank\" href=https://colab.research.google.com/notebooks/data_table.ipynb>data table notebook</a>'\n",
              "            + ' to learn more about interactive tables.';\n",
              "          element.innerHTML = '';\n",
              "          dataTable['output_type'] = 'display_data';\n",
              "          await google.colab.output.renderOutput(dataTable, element);\n",
              "          const docLink = document.createElement('div');\n",
              "          docLink.innerHTML = docLinkHtml;\n",
              "          element.appendChild(docLink);\n",
              "        }\n",
              "      </script>\n",
              "    </div>\n",
              "  </div>\n",
              "  "
            ]
          },
          "metadata": {},
          "execution_count": 47
        }
      ]
    },
    {
      "cell_type": "code",
      "source": [
        "sns.set(rc={'figure.figsize':(11.7,8.27)})\n",
        "\n",
        "sns.boxplot(data=data)"
      ],
      "metadata": {
        "colab": {
          "base_uri": "https://localhost:8080/",
          "height": 518
        },
        "id": "OI-ahs0WVYw_",
        "outputId": "e57f9fbd-94e9-41de-c7f7-5f2238298c75"
      },
      "execution_count": 48,
      "outputs": [
        {
          "output_type": "execute_result",
          "data": {
            "text/plain": [
              "<matplotlib.axes._subplots.AxesSubplot at 0x7f96dc46caf0>"
            ]
          },
          "metadata": {},
          "execution_count": 48
        },
        {
          "output_type": "display_data",
          "data": {
            "text/plain": [
              "<Figure size 842.4x595.44 with 1 Axes>"
            ],
            "image/png": "[encoded data removed]"
          },
          "metadata": {}
        }
      ]
    },
    {
      "cell_type": "code",
      "source": [
        "data['crim'].sort_values(ascending=False).head(20)"
      ],
      "metadata": {
        "colab": {
          "base_uri": "https://localhost:8080/"
        },
        "id": "cxtsA15fX3rK",
        "outputId": "afe9c26f-e932-4fc6-8b99-a1564a6ff985"
      },
      "execution_count": 49,
      "outputs": [
        {
          "output_type": "execute_result",
          "data": {
            "text/plain": [
              "380    88.9762\n",
              "285    73.5341\n",
              "114    67.9208\n",
              "400    51.1358\n",
              "116    41.5292\n",
              "34     38.3518\n",
              "273    37.6619\n",
              "10     25.9406\n",
              "377    25.0461\n",
              "143    24.3938\n",
              "50     23.6482\n",
              "177    20.7162\n",
              "167    20.0849\n",
              "281    19.6091\n",
              "258    18.8110\n",
              "62     18.0846\n",
              "60     17.8667\n",
              "261    16.8118\n",
              "260    15.8744\n",
              "304    15.8603\n",
              "Name: crim, dtype: float64"
            ]
          },
          "metadata": {},
          "execution_count": 49
        }
      ]
    },
    {
      "cell_type": "code",
      "source": [
        "data['black'][data['black']<100].sort_values(ascending=False)"
      ],
      "metadata": {
        "colab": {
          "base_uri": "https://localhost:8080/"
        },
        "id": "pR9Aws2wZgox",
        "outputId": "5978035b-42ab-47f8-fcc3-8595af89dba6"
      },
      "execution_count": 50,
      "outputs": [
        {
          "output_type": "execute_result",
          "data": {
            "text/plain": [
              "146    97.95\n",
              "374    96.73\n",
              "290    88.63\n",
              "47     88.01\n",
              "310    83.45\n",
              "8      81.33\n",
              "170    68.95\n",
              "20     60.72\n",
              "312    50.92\n",
              "246    48.45\n",
              "196    43.06\n",
              "141    35.05\n",
              "258    28.79\n",
              "355    27.49\n",
              "62     27.25\n",
              "184    24.65\n",
              "273    18.82\n",
              "285    16.45\n",
              "38     10.48\n",
              "14      9.32\n",
              "304     7.68\n",
              "333     6.68\n",
              "214     3.65\n",
              "91      3.50\n",
              "400     2.60\n",
              "223     2.52\n",
              "241     0.32\n",
              "Name: black, dtype: float64"
            ]
          },
          "metadata": {},
          "execution_count": 50
        }
      ]
    },
    {
      "cell_type": "code",
      "source": [
        "data['crim'].sort_values(ascending=False).head(10)"
      ],
      "metadata": {
        "colab": {
          "base_uri": "https://localhost:8080/"
        },
        "id": "2nxZI-deXy9k",
        "outputId": "7ef722d1-c7f5-4ed4-e4b6-b5815b4fe52c"
      },
      "execution_count": 51,
      "outputs": [
        {
          "output_type": "execute_result",
          "data": {
            "text/plain": [
              "380    88.9762\n",
              "285    73.5341\n",
              "114    67.9208\n",
              "400    51.1358\n",
              "116    41.5292\n",
              "34     38.3518\n",
              "273    37.6619\n",
              "10     25.9406\n",
              "377    25.0461\n",
              "143    24.3938\n",
              "Name: crim, dtype: float64"
            ]
          },
          "metadata": {},
          "execution_count": 51
        }
      ]
    },
    {
      "cell_type": "code",
      "source": [
        "data['zn'].sort_values(ascending=False).head(10)"
      ],
      "metadata": {
        "colab": {
          "base_uri": "https://localhost:8080/"
        },
        "id": "GHSxgCZxX06B",
        "outputId": "31beae0a-baac-46c4-f50c-271e06730f59"
      },
      "execution_count": 52,
      "outputs": [
        {
          "output_type": "execute_result",
          "data": {
            "text/plain": [
              "57     95.0\n",
              "160    95.0\n",
              "101    95.0\n",
              "111    90.0\n",
              "401    90.0\n",
              "402    85.0\n",
              "232    85.0\n",
              "53     82.5\n",
              "70     82.5\n",
              "106    80.0\n",
              "Name: zn, dtype: float64"
            ]
          },
          "metadata": {},
          "execution_count": 52
        }
      ]
    },
    {
      "cell_type": "code",
      "source": [
        "data = data.drop([380,285,114,400,116], axis=0)\n",
        "# I decide to drop some rows, not many of them, as outliers are close to each other and the data size is small"
      ],
      "metadata": {
        "id": "y67QuoKaazQY"
      },
      "execution_count": 53,
      "outputs": []
    },
    {
      "cell_type": "markdown",
      "metadata": {
        "id": "gsAA1cFHHSei"
      },
      "source": [
        "### Next, we want to explore the data. Pick several varibables you think will be ost correlated with the prices of homes in Boston, and create plots that show the data dispersion as well as the regression line of best fit."
      ]
    },
    {
      "cell_type": "code",
      "execution_count": 54,
      "metadata": {
        "id": "ZLmdeIP3HSei",
        "colab": {
          "base_uri": "https://localhost:8080/",
          "height": 488
        },
        "outputId": "c0dc68b9-e135-4111-e320-c682af1713d6"
      },
      "outputs": [
        {
          "output_type": "execute_result",
          "data": {
            "text/plain": [
              "             crim        zn     indus      chas       nox        rm       age  \\\n",
              "crim     1.000000 -0.252064  0.522327 -0.061116  0.532253 -0.240352  0.437475   \n",
              "zn      -0.252064  1.000000 -0.530386 -0.038996 -0.495233  0.301490 -0.544926   \n",
              "indus    0.522327 -0.530386  1.000000  0.063843  0.758498 -0.351545  0.625671   \n",
              "chas    -0.061116 -0.038996  0.063843  1.000000  0.104544  0.089001  0.088706   \n",
              "nox      0.532253 -0.495233  0.758498  0.104544  1.000000 -0.263422  0.726745   \n",
              "rm      -0.240352  0.301490 -0.351545  0.089001 -0.263422  1.000000 -0.206948   \n",
              "age      0.437475 -0.544926  0.625671  0.088706  0.726745 -0.206948  1.000000   \n",
              "dis     -0.468383  0.658331 -0.698496 -0.107639 -0.760095  0.174578 -0.731735   \n",
              "rad      0.774085 -0.307146  0.609764 -0.017362  0.606772 -0.167165  0.458252   \n",
              "tax      0.725828 -0.284814  0.718527 -0.039184  0.656240 -0.237319  0.495847   \n",
              "ptratio  0.364794 -0.368497  0.349875 -0.119597  0.158741 -0.321393  0.224298   \n",
              "black   -0.458322  0.174416 -0.376087  0.039274 -0.398485  0.119892 -0.268138   \n",
              "lstat    0.570627 -0.411055  0.605840 -0.038004  0.582553 -0.578600  0.601110   \n",
              "medv    -0.457120  0.352405 -0.493376  0.138462 -0.429569  0.687337 -0.381202   \n",
              "\n",
              "              dis       rad       tax   ptratio     black     lstat      medv  \n",
              "crim    -0.468383  0.774085  0.725828  0.364794 -0.458322  0.570627 -0.457120  \n",
              "zn       0.658331 -0.307146 -0.284814 -0.368497  0.174416 -0.411055  0.352405  \n",
              "indus   -0.698496  0.609764  0.718527  0.349875 -0.376087  0.605840 -0.493376  \n",
              "chas    -0.107639 -0.017362 -0.039184 -0.119597  0.039274 -0.038004  0.138462  \n",
              "nox     -0.760095  0.606772  0.656240  0.158741 -0.398485  0.582553 -0.429569  \n",
              "rm       0.174578 -0.167165 -0.237319 -0.321393  0.119892 -0.578600  0.687337  \n",
              "age     -0.731735  0.458252  0.495847  0.224298 -0.268138  0.601110 -0.381202  \n",
              "dis      1.000000 -0.493414 -0.517846 -0.197261  0.301242 -0.496503  0.250775  \n",
              "rad     -0.493414  1.000000  0.914876  0.481108 -0.464481  0.492056 -0.406643  \n",
              "tax     -0.517846  0.914876  1.000000  0.459067 -0.458724  0.536998 -0.482227  \n",
              "ptratio -0.197261  0.481108  0.459067  1.000000 -0.188122  0.346180 -0.500598  \n",
              "black    0.301242 -0.464481 -0.458724 -0.188122  1.000000 -0.400194  0.357631  \n",
              "lstat   -0.496503  0.492056  0.536998  0.346180 -0.400194  1.000000 -0.739399  \n",
              "medv     0.250775 -0.406643 -0.482227 -0.500598  0.357631 -0.739399  1.000000  "
            ],
            "text/html": [
              "\n",
              "  <div id=\"df-ff187e6c-d5a2-4130-a6ea-209d045d0960\">\n",
              "    <div class=\"colab-df-container\">\n",
              "      <div>\n",
              "<style scoped>\n",
              "    .dataframe tbody tr th:only-of-type {\n",
              "        vertical-align: middle;\n",
              "    }\n",
              "\n",
              "    .dataframe tbody tr th {\n",
              "        vertical-align: top;\n",
              "    }\n",
              "\n",
              "    .dataframe thead th {\n",
              "        text-align: right;\n",
              "    }\n",
              "</style>\n",
              "<table border=\"1\" class=\"dataframe\">\n",
              "  <thead>\n",
              "    <tr style=\"text-align: right;\">\n",
              "      <th></th>\n",
              "      <th>crim</th>\n",
              "      <th>zn</th>\n",
              "      <th>indus</th>\n",
              "      <th>chas</th>\n",
              "      <th>nox</th>\n",
              "      <th>rm</th>\n",
              "      <th>age</th>\n",
              "      <th>dis</th>\n",
              "      <th>rad</th>\n",
              "      <th>tax</th>\n",
              "      <th>ptratio</th>\n",
              "      <th>black</th>\n",
              "      <th>lstat</th>\n",
              "      <th>medv</th>\n",
              "    </tr>\n",
              "  </thead>\n",
              "  <tbody>\n",
              "    <tr>\n",
              "      <th>crim</th>\n",
              "      <td>1.000000</td>\n",
              "      <td>-0.252064</td>\n",
              "      <td>0.522327</td>\n",
              "      <td>-0.061116</td>\n",
              "      <td>0.532253</td>\n",
              "      <td>-0.240352</td>\n",
              "      <td>0.437475</td>\n",
              "      <td>-0.468383</td>\n",
              "      <td>0.774085</td>\n",
              "      <td>0.725828</td>\n",
              "      <td>0.364794</td>\n",
              "      <td>-0.458322</td>\n",
              "      <td>0.570627</td>\n",
              "      <td>-0.457120</td>\n",
              "    </tr>\n",
              "    <tr>\n",
              "      <th>zn</th>\n",
              "      <td>-0.252064</td>\n",
              "      <td>1.000000</td>\n",
              "      <td>-0.530386</td>\n",
              "      <td>-0.038996</td>\n",
              "      <td>-0.495233</td>\n",
              "      <td>0.301490</td>\n",
              "      <td>-0.544926</td>\n",
              "      <td>0.658331</td>\n",
              "      <td>-0.307146</td>\n",
              "      <td>-0.284814</td>\n",
              "      <td>-0.368497</td>\n",
              "      <td>0.174416</td>\n",
              "      <td>-0.411055</td>\n",
              "      <td>0.352405</td>\n",
              "    </tr>\n",
              "    <tr>\n",
              "      <th>indus</th>\n",
              "      <td>0.522327</td>\n",
              "      <td>-0.530386</td>\n",
              "      <td>1.000000</td>\n",
              "      <td>0.063843</td>\n",
              "      <td>0.758498</td>\n",
              "      <td>-0.351545</td>\n",
              "      <td>0.625671</td>\n",
              "      <td>-0.698496</td>\n",
              "      <td>0.609764</td>\n",
              "      <td>0.718527</td>\n",
              "      <td>0.349875</td>\n",
              "      <td>-0.376087</td>\n",
              "      <td>0.605840</td>\n",
              "      <td>-0.493376</td>\n",
              "    </tr>\n",
              "    <tr>\n",
              "      <th>chas</th>\n",
              "      <td>-0.061116</td>\n",
              "      <td>-0.038996</td>\n",
              "      <td>0.063843</td>\n",
              "      <td>1.000000</td>\n",
              "      <td>0.104544</td>\n",
              "      <td>0.089001</td>\n",
              "      <td>0.088706</td>\n",
              "      <td>-0.107639</td>\n",
              "      <td>-0.017362</td>\n",
              "      <td>-0.039184</td>\n",
              "      <td>-0.119597</td>\n",
              "      <td>0.039274</td>\n",
              "      <td>-0.038004</td>\n",
              "      <td>0.138462</td>\n",
              "    </tr>\n",
              "    <tr>\n",
              "      <th>nox</th>\n",
              "      <td>0.532253</td>\n",
              "      <td>-0.495233</td>\n",
              "      <td>0.758498</td>\n",
              "      <td>0.104544</td>\n",
              "      <td>1.000000</td>\n",
              "      <td>-0.263422</td>\n",
              "      <td>0.726745</td>\n",
              "      <td>-0.760095</td>\n",
              "      <td>0.606772</td>\n",
              "      <td>0.656240</td>\n",
              "      <td>0.158741</td>\n",
              "      <td>-0.398485</td>\n",
              "      <td>0.582553</td>\n",
              "      <td>-0.429569</td>\n",
              "    </tr>\n",
              "    <tr>\n",
              "      <th>rm</th>\n",
              "      <td>-0.240352</td>\n",
              "      <td>0.301490</td>\n",
              "      <td>-0.351545</td>\n",
              "      <td>0.089001</td>\n",
              "      <td>-0.263422</td>\n",
              "      <td>1.000000</td>\n",
              "      <td>-0.206948</td>\n",
              "      <td>0.174578</td>\n",
              "      <td>-0.167165</td>\n",
              "      <td>-0.237319</td>\n",
              "      <td>-0.321393</td>\n",
              "      <td>0.119892</td>\n",
              "      <td>-0.578600</td>\n",
              "      <td>0.687337</td>\n",
              "    </tr>\n",
              "    <tr>\n",
              "      <th>age</th>\n",
              "      <td>0.437475</td>\n",
              "      <td>-0.544926</td>\n",
              "      <td>0.625671</td>\n",
              "      <td>0.088706</td>\n",
              "      <td>0.726745</td>\n",
              "      <td>-0.206948</td>\n",
              "      <td>1.000000</td>\n",
              "      <td>-0.731735</td>\n",
              "      <td>0.458252</td>\n",
              "      <td>0.495847</td>\n",
              "      <td>0.224298</td>\n",
              "      <td>-0.268138</td>\n",
              "      <td>0.601110</td>\n",
              "      <td>-0.381202</td>\n",
              "    </tr>\n",
              "    <tr>\n",
              "      <th>dis</th>\n",
              "      <td>-0.468383</td>\n",
              "      <td>0.658331</td>\n",
              "      <td>-0.698496</td>\n",
              "      <td>-0.107639</td>\n",
              "      <td>-0.760095</td>\n",
              "      <td>0.174578</td>\n",
              "      <td>-0.731735</td>\n",
              "      <td>1.000000</td>\n",
              "      <td>-0.493414</td>\n",
              "      <td>-0.517846</td>\n",
              "      <td>-0.197261</td>\n",
              "      <td>0.301242</td>\n",
              "      <td>-0.496503</td>\n",
              "      <td>0.250775</td>\n",
              "    </tr>\n",
              "    <tr>\n",
              "      <th>rad</th>\n",
              "      <td>0.774085</td>\n",
              "      <td>-0.307146</td>\n",
              "      <td>0.609764</td>\n",
              "      <td>-0.017362</td>\n",
              "      <td>0.606772</td>\n",
              "      <td>-0.167165</td>\n",
              "      <td>0.458252</td>\n",
              "      <td>-0.493414</td>\n",
              "      <td>1.000000</td>\n",
              "      <td>0.914876</td>\n",
              "      <td>0.481108</td>\n",
              "      <td>-0.464481</td>\n",
              "      <td>0.492056</td>\n",
              "      <td>-0.406643</td>\n",
              "    </tr>\n",
              "    <tr>\n",
              "      <th>tax</th>\n",
              "      <td>0.725828</td>\n",
              "      <td>-0.284814</td>\n",
              "      <td>0.718527</td>\n",
              "      <td>-0.039184</td>\n",
              "      <td>0.656240</td>\n",
              "      <td>-0.237319</td>\n",
              "      <td>0.495847</td>\n",
              "      <td>-0.517846</td>\n",
              "      <td>0.914876</td>\n",
              "      <td>1.000000</td>\n",
              "      <td>0.459067</td>\n",
              "      <td>-0.458724</td>\n",
              "      <td>0.536998</td>\n",
              "      <td>-0.482227</td>\n",
              "    </tr>\n",
              "    <tr>\n",
              "      <th>ptratio</th>\n",
              "      <td>0.364794</td>\n",
              "      <td>-0.368497</td>\n",
              "      <td>0.349875</td>\n",
              "      <td>-0.119597</td>\n",
              "      <td>0.158741</td>\n",
              "      <td>-0.321393</td>\n",
              "      <td>0.224298</td>\n",
              "      <td>-0.197261</td>\n",
              "      <td>0.481108</td>\n",
              "      <td>0.459067</td>\n",
              "      <td>1.000000</td>\n",
              "      <td>-0.188122</td>\n",
              "      <td>0.346180</td>\n",
              "      <td>-0.500598</td>\n",
              "    </tr>\n",
              "    <tr>\n",
              "      <th>black</th>\n",
              "      <td>-0.458322</td>\n",
              "      <td>0.174416</td>\n",
              "      <td>-0.376087</td>\n",
              "      <td>0.039274</td>\n",
              "      <td>-0.398485</td>\n",
              "      <td>0.119892</td>\n",
              "      <td>-0.268138</td>\n",
              "      <td>0.301242</td>\n",
              "      <td>-0.464481</td>\n",
              "      <td>-0.458724</td>\n",
              "      <td>-0.188122</td>\n",
              "      <td>1.000000</td>\n",
              "      <td>-0.400194</td>\n",
              "      <td>0.357631</td>\n",
              "    </tr>\n",
              "    <tr>\n",
              "      <th>lstat</th>\n",
              "      <td>0.570627</td>\n",
              "      <td>-0.411055</td>\n",
              "      <td>0.605840</td>\n",
              "      <td>-0.038004</td>\n",
              "      <td>0.582553</td>\n",
              "      <td>-0.578600</td>\n",
              "      <td>0.601110</td>\n",
              "      <td>-0.496503</td>\n",
              "      <td>0.492056</td>\n",
              "      <td>0.536998</td>\n",
              "      <td>0.346180</td>\n",
              "      <td>-0.400194</td>\n",
              "      <td>1.000000</td>\n",
              "      <td>-0.739399</td>\n",
              "    </tr>\n",
              "    <tr>\n",
              "      <th>medv</th>\n",
              "      <td>-0.457120</td>\n",
              "      <td>0.352405</td>\n",
              "      <td>-0.493376</td>\n",
              "      <td>0.138462</td>\n",
              "      <td>-0.429569</td>\n",
              "      <td>0.687337</td>\n",
              "      <td>-0.381202</td>\n",
              "      <td>0.250775</td>\n",
              "      <td>-0.406643</td>\n",
              "      <td>-0.482227</td>\n",
              "      <td>-0.500598</td>\n",
              "      <td>0.357631</td>\n",
              "      <td>-0.739399</td>\n",
              "      <td>1.000000</td>\n",
              "    </tr>\n",
              "  </tbody>\n",
              "</table>\n",
              "</div>\n",
              "      <button class=\"colab-df-convert\" onclick=\"convertToInteractive('df-ff187e6c-d5a2-4130-a6ea-209d045d0960')\"\n",
              "              title=\"Convert this dataframe to an interactive table.\"\n",
              "              style=\"display:none;\">\n",
              "        \n",
              "  <svg xmlns=\"http://www.w3.org/2000/svg\" height=\"24px\"viewBox=\"0 0 24 24\"\n",
              "       width=\"24px\">\n",
              "    <path d=\"M0 0h24v24H0V0z\" fill=\"none\"/>\n",
              "    <path d=\"M18.56 5.44l.94 2.06.94-2.06 2.06-.94-2.06-.94-.94-2.06-.94 2.06-2.06.94zm-11 1L8.5 8.5l.94-2.06 2.06-.94-2.06-.94L8.5 2.5l-.94 2.06-2.06.94zm10 10l.94 2.06.94-2.06 2.06-.94-2.06-.94-.94-2.06-.94 2.06-2.06.94z\"/><path d=\"M17.41 7.96l-1.37-1.37c-.4-.4-.92-.59-1.43-.59-.52 0-1.04.2-1.43.59L10.3 9.45l-7.72 7.72c-.78.78-.78 2.05 0 2.83L4 21.41c.39.39.9.59 1.41.59.51 0 1.02-.2 1.41-.59l7.78-7.78 2.81-2.81c.8-.78.8-2.07 0-2.86zM5.41 20L4 18.59l7.72-7.72 1.47 1.35L5.41 20z\"/>\n",
              "  </svg>\n",
              "      </button>\n",
              "      \n",
              "  <style>\n",
              "    .colab-df-container {\n",
              "      display:flex;\n",
              "      flex-wrap:wrap;\n",
              "      gap: 12px;\n",
              "    }\n",
              "\n",
              "    .colab-df-convert {\n",
              "      background-color: #E8F0FE;\n",
              "      border: none;\n",
              "      border-radius: 50%;\n",
              "      cursor: pointer;\n",
              "      display: none;\n",
              "      fill: #1967D2;\n",
              "      height: 32px;\n",
              "      padding: 0 0 0 0;\n",
              "      width: 32px;\n",
              "    }\n",
              "\n",
              "    .colab-df-convert:hover {\n",
              "      background-color: #E2EBFA;\n",
              "      box-shadow: 0px 1px 2px rgba(60, 64, 67, 0.3), 0px 1px 3px 1px rgba(60, 64, 67, 0.15);\n",
              "      fill: #174EA6;\n",
              "    }\n",
              "\n",
              "    [theme=dark] .colab-df-convert {\n",
              "      background-color: #3B4455;\n",
              "      fill: #D2E3FC;\n",
              "    }\n",
              "\n",
              "    [theme=dark] .colab-df-convert:hover {\n",
              "      background-color: #434B5C;\n",
              "      box-shadow: 0px 1px 3px 1px rgba(0, 0, 0, 0.15);\n",
              "      filter: drop-shadow(0px 1px 2px rgba(0, 0, 0, 0.3));\n",
              "      fill: #FFFFFF;\n",
              "    }\n",
              "  </style>\n",
              "\n",
              "      <script>\n",
              "        const buttonEl =\n",
              "          document.querySelector('#df-ff187e6c-d5a2-4130-a6ea-209d045d0960 button.colab-df-convert');\n",
              "        buttonEl.style.display =\n",
              "          google.colab.kernel.accessAllowed ? 'block' : 'none';\n",
              "\n",
              "        async function convertToInteractive(key) {\n",
              "          const element = document.querySelector('#df-ff187e6c-d5a2-4130-a6ea-209d045d0960');\n",
              "          const dataTable =\n",
              "            await google.colab.kernel.invokeFunction('convertToInteractive',\n",
              "                                                     [key], {});\n",
              "          if (!dataTable) return;\n",
              "\n",
              "          const docLinkHtml = 'Like what you see? Visit the ' +\n",
              "            '<a target=\"_blank\" href=https://colab.research.google.com/notebooks/data_table.ipynb>data table notebook</a>'\n",
              "            + ' to learn more about interactive tables.';\n",
              "          element.innerHTML = '';\n",
              "          dataTable['output_type'] = 'display_data';\n",
              "          await google.colab.output.renderOutput(dataTable, element);\n",
              "          const docLink = document.createElement('div');\n",
              "          docLink.innerHTML = docLinkHtml;\n",
              "          element.appendChild(docLink);\n",
              "        }\n",
              "      </script>\n",
              "    </div>\n",
              "  </div>\n",
              "  "
            ]
          },
          "metadata": {},
          "execution_count": 54
        }
      ],
      "source": [
        "data.corr()"
      ]
    },
    {
      "cell_type": "code",
      "source": [
        "plt.figure(figsize=(16, 6))\n",
        "\n",
        "heatmap = sns.heatmap(data.corr(), annot=True)\n",
        "\n",
        "heatmap.set_title('Correlation Heatmap', fontdict={'fontsize':12}, pad=12)"
      ],
      "metadata": {
        "colab": {
          "base_uri": "https://localhost:8080/",
          "height": 417
        },
        "id": "b_ftiRZSdtBl",
        "outputId": "0f90ae3d-bf69-4548-f1e8-d7ee9bf8f2cc"
      },
      "execution_count": 55,
      "outputs": [
        {
          "output_type": "execute_result",
          "data": {
            "text/plain": [
              "Text(0.5, 1.0, 'Correlation Heatmap')"
            ]
          },
          "metadata": {},
          "execution_count": 55
        },
        {
          "output_type": "display_data",
          "data": {
            "text/plain": [
              "<Figure size 1152x432 with 2 Axes>"
            ],
            "image/png": "[encoded data removed]"
          },
          "metadata": {}
        }
      ]
    },
    {
      "cell_type": "code",
      "source": [
        "plt.plot(data['medv'] ,data['rm'] , 'o')\n",
        "\n",
        "m, b = np.polyfit(data['medv'] ,data['rm'], 1)\n",
        "\n",
        "plt.plot(data['medv'], m*data['medv']+b)"
      ],
      "metadata": {
        "colab": {
          "base_uri": "https://localhost:8080/",
          "height": 519
        },
        "id": "8W2TVhD2BWyA",
        "outputId": "9718dbae-ab3c-4df9-a004-38addadcecee"
      },
      "execution_count": 56,
      "outputs": [
        {
          "output_type": "execute_result",
          "data": {
            "text/plain": [
              "[<matplotlib.lines.Line2D at 0x7f96dc0bd220>]"
            ]
          },
          "metadata": {},
          "execution_count": 56
        },
        {
          "output_type": "display_data",
          "data": {
            "text/plain": [
              "<Figure size 842.4x595.44 with 1 Axes>"
            ],
            "image/png": "[encoded data removed]"
          },
          "metadata": {}
        }
      ]
    },
    {
      "cell_type": "code",
      "source": [
        "plt.plot(data['medv'],data['black'] , 'o')\n",
        "\n",
        "m, b = np.polyfit(data['medv'],data['black'], 1)\n",
        "\n",
        "plt.plot(data['medv'], m*data['medv']+b)"
      ],
      "metadata": {
        "colab": {
          "base_uri": "https://localhost:8080/",
          "height": 518
        },
        "id": "6Qj3Rtn8BxVf",
        "outputId": "d821c63d-9a77-468a-8920-250035d3b11e"
      },
      "execution_count": 57,
      "outputs": [
        {
          "output_type": "execute_result",
          "data": {
            "text/plain": [
              "[<matplotlib.lines.Line2D at 0x7f96dc08cd30>]"
            ]
          },
          "metadata": {},
          "execution_count": 57
        },
        {
          "output_type": "display_data",
          "data": {
            "text/plain": [
              "<Figure size 842.4x595.44 with 1 Axes>"
            ],
            "image/png": "[encoded data removed]"
          },
          "metadata": {}
        }
      ]
    },
    {
      "cell_type": "code",
      "source": [
        "plt.plot(data['medv'],data['zn'] , 'o')\n",
        "\n",
        "m, b = np.polyfit(data['medv'],data['zn'], 1)\n",
        "\n",
        "plt.plot(data['medv'], m*data['medv']+b)"
      ],
      "metadata": {
        "colab": {
          "base_uri": "https://localhost:8080/",
          "height": 518
        },
        "id": "JgnPd5X8CS84",
        "outputId": "3f109eb4-68c8-4dfb-d457-e07127712f30"
      },
      "execution_count": 58,
      "outputs": [
        {
          "output_type": "execute_result",
          "data": {
            "text/plain": [
              "[<matplotlib.lines.Line2D at 0x7f96dc06c580>]"
            ]
          },
          "metadata": {},
          "execution_count": 58
        },
        {
          "output_type": "display_data",
          "data": {
            "text/plain": [
              "<Figure size 842.4x595.44 with 1 Axes>"
            ],
            "image/png": "[encoded data removed]"
          },
          "metadata": {}
        }
      ]
    },
    {
      "cell_type": "markdown",
      "metadata": {
        "id": "_owsLsdFHSej"
      },
      "source": [
        "### What do these plots tell you about the relationships between these variables and the prices of homes in Boston? Are these the relationships you expected to see in these variables?"
      ]
    },
    {
      "cell_type": "code",
      "execution_count": 59,
      "metadata": {
        "id": "2uEgcotEHSej",
        "colab": {
          "base_uri": "https://localhost:8080/",
          "height": 54
        },
        "outputId": "150feb5b-67ce-4a54-cfdb-9d3eefd99de5"
      },
      "outputs": [
        {
          "output_type": "execute_result",
          "data": {
            "text/plain": [
              "'\\nThe strongest correlation value is between medv and rm, we can see how medv increase as rm does.\\nThe other two values with higher correlation value then 0.30 have not that relationship between them. they look quite plain.\\n'"
            ],
            "application/vnd.google.colaboratory.intrinsic+json": {
              "type": "string"
            }
          },
          "metadata": {},
          "execution_count": 59
        }
      ],
      "source": [
        "'''\n",
        "The strongest correlation value is between medv and rm, we can see how medv increase as rm does.\n",
        "The other two values with higher correlation value then 0.30 have not that relationship between them. they look quite plain.\n",
        "'''"
      ]
    },
    {
      "cell_type": "markdown",
      "metadata": {
        "id": "oV0J_VD_HSej"
      },
      "source": [
        "### Make a heatmap of the remaining variables. Are there any variables that you did not consider that have very high correlations? What are they?"
      ]
    },
    {
      "cell_type": "code",
      "execution_count": 60,
      "metadata": {
        "id": "JYEp_m9-HSej",
        "colab": {
          "base_uri": "https://localhost:8080/",
          "height": 423
        },
        "outputId": "6045904d-f7cc-4486-dba8-fa0a608b6bad"
      },
      "outputs": [
        {
          "output_type": "execute_result",
          "data": {
            "text/plain": [
              "        crim  indus  chas    nox   age     dis   rad    tax  ptratio  lstat  \\\n",
              "0    0.15876  10.81   0.0  0.413  17.5  5.2873   4.0  305.0     19.2   9.88   \n",
              "1    0.10328   5.13   0.0  0.453  47.2  6.9320   8.0  284.0     19.7   9.22   \n",
              "2    0.34940   9.90   0.0  0.544  76.7  3.1025   4.0  304.0     18.4   9.97   \n",
              "3    2.73397  19.58   0.0  0.871  94.9  1.5257   5.0  403.0     14.7  21.45   \n",
              "4    0.04337   5.64   0.0  0.439  63.0  6.8147   4.0  243.0     16.8   9.43   \n",
              "..       ...    ...   ...    ...   ...     ...   ...    ...      ...    ...   \n",
              "398  0.67191   8.14   0.0  0.538  90.3  4.6820   4.0  307.0     21.0  14.81   \n",
              "399  9.32909  18.10   0.0  0.713  98.7  2.2616  24.0  666.0     20.2  18.13   \n",
              "401  0.01501   1.21   1.0  0.401  24.8  5.8850   1.0  198.0     13.6   3.16   \n",
              "402  0.02055   0.74   0.0  0.410  35.7  9.1876   2.0  313.0     17.3   5.77   \n",
              "403  0.08244   4.93   0.0  0.428  18.5  6.1899   6.0  300.0     16.6   6.36   \n",
              "\n",
              "     medv  \n",
              "0    21.7  \n",
              "1    19.6  \n",
              "2    20.3  \n",
              "3    15.4  \n",
              "4    20.5  \n",
              "..    ...  \n",
              "398  16.6  \n",
              "399  14.1  \n",
              "401  50.0  \n",
              "402  24.7  \n",
              "403  23.7  \n",
              "\n",
              "[399 rows x 11 columns]"
            ],
            "text/html": [
              "\n",
              "  <div id=\"df-11b891aa-5a0c-4959-b759-519cc98d8359\">\n",
              "    <div class=\"colab-df-container\">\n",
              "      <div>\n",
              "<style scoped>\n",
              "    .dataframe tbody tr th:only-of-type {\n",
              "        vertical-align: middle;\n",
              "    }\n",
              "\n",
              "    .dataframe tbody tr th {\n",
              "        vertical-align: top;\n",
              "    }\n",
              "\n",
              "    .dataframe thead th {\n",
              "        text-align: right;\n",
              "    }\n",
              "</style>\n",
              "<table border=\"1\" class=\"dataframe\">\n",
              "  <thead>\n",
              "    <tr style=\"text-align: right;\">\n",
              "      <th></th>\n",
              "      <th>crim</th>\n",
              "      <th>indus</th>\n",
              "      <th>chas</th>\n",
              "      <th>nox</th>\n",
              "      <th>age</th>\n",
              "      <th>dis</th>\n",
              "      <th>rad</th>\n",
              "      <th>tax</th>\n",
              "      <th>ptratio</th>\n",
              "      <th>lstat</th>\n",
              "      <th>medv</th>\n",
              "    </tr>\n",
              "  </thead>\n",
              "  <tbody>\n",
              "    <tr>\n",
              "      <th>0</th>\n",
              "      <td>0.15876</td>\n",
              "      <td>10.81</td>\n",
              "      <td>0.0</td>\n",
              "      <td>0.413</td>\n",
              "      <td>17.5</td>\n",
              "      <td>5.2873</td>\n",
              "      <td>4.0</td>\n",
              "      <td>305.0</td>\n",
              "      <td>19.2</td>\n",
              "      <td>9.88</td>\n",
              "      <td>21.7</td>\n",
              "    </tr>\n",
              "    <tr>\n",
              "      <th>1</th>\n",
              "      <td>0.10328</td>\n",
              "      <td>5.13</td>\n",
              "      <td>0.0</td>\n",
              "      <td>0.453</td>\n",
              "      <td>47.2</td>\n",
              "      <td>6.9320</td>\n",
              "      <td>8.0</td>\n",
              "      <td>284.0</td>\n",
              "      <td>19.7</td>\n",
              "      <td>9.22</td>\n",
              "      <td>19.6</td>\n",
              "    </tr>\n",
              "    <tr>\n",
              "      <th>2</th>\n",
              "      <td>0.34940</td>\n",
              "      <td>9.90</td>\n",
              "      <td>0.0</td>\n",
              "      <td>0.544</td>\n",
              "      <td>76.7</td>\n",
              "      <td>3.1025</td>\n",
              "      <td>4.0</td>\n",
              "      <td>304.0</td>\n",
              "      <td>18.4</td>\n",
              "      <td>9.97</td>\n",
              "      <td>20.3</td>\n",
              "    </tr>\n",
              "    <tr>\n",
              "      <th>3</th>\n",
              "      <td>2.73397</td>\n",
              "      <td>19.58</td>\n",
              "      <td>0.0</td>\n",
              "      <td>0.871</td>\n",
              "      <td>94.9</td>\n",
              "      <td>1.5257</td>\n",
              "      <td>5.0</td>\n",
              "      <td>403.0</td>\n",
              "      <td>14.7</td>\n",
              "      <td>21.45</td>\n",
              "      <td>15.4</td>\n",
              "    </tr>\n",
              "    <tr>\n",
              "      <th>4</th>\n",
              "      <td>0.04337</td>\n",
              "      <td>5.64</td>\n",
              "      <td>0.0</td>\n",
              "      <td>0.439</td>\n",
              "      <td>63.0</td>\n",
              "      <td>6.8147</td>\n",
              "      <td>4.0</td>\n",
              "      <td>243.0</td>\n",
              "      <td>16.8</td>\n",
              "      <td>9.43</td>\n",
              "      <td>20.5</td>\n",
              "    </tr>\n",
              "    <tr>\n",
              "      <th>...</th>\n",
              "      <td>...</td>\n",
              "      <td>...</td>\n",
              "      <td>...</td>\n",
              "      <td>...</td>\n",
              "      <td>...</td>\n",
              "      <td>...</td>\n",
              "      <td>...</td>\n",
              "      <td>...</td>\n",
              "      <td>...</td>\n",
              "      <td>...</td>\n",
              "      <td>...</td>\n",
              "    </tr>\n",
              "    <tr>\n",
              "      <th>398</th>\n",
              "      <td>0.67191</td>\n",
              "      <td>8.14</td>\n",
              "      <td>0.0</td>\n",
              "      <td>0.538</td>\n",
              "      <td>90.3</td>\n",
              "      <td>4.6820</td>\n",
              "      <td>4.0</td>\n",
              "      <td>307.0</td>\n",
              "      <td>21.0</td>\n",
              "      <td>14.81</td>\n",
              "      <td>16.6</td>\n",
              "    </tr>\n",
              "    <tr>\n",
              "      <th>399</th>\n",
              "      <td>9.32909</td>\n",
              "      <td>18.10</td>\n",
              "      <td>0.0</td>\n",
              "      <td>0.713</td>\n",
              "      <td>98.7</td>\n",
              "      <td>2.2616</td>\n",
              "      <td>24.0</td>\n",
              "      <td>666.0</td>\n",
              "      <td>20.2</td>\n",
              "      <td>18.13</td>\n",
              "      <td>14.1</td>\n",
              "    </tr>\n",
              "    <tr>\n",
              "      <th>401</th>\n",
              "      <td>0.01501</td>\n",
              "      <td>1.21</td>\n",
              "      <td>1.0</td>\n",
              "      <td>0.401</td>\n",
              "      <td>24.8</td>\n",
              "      <td>5.8850</td>\n",
              "      <td>1.0</td>\n",
              "      <td>198.0</td>\n",
              "      <td>13.6</td>\n",
              "      <td>3.16</td>\n",
              "      <td>50.0</td>\n",
              "    </tr>\n",
              "    <tr>\n",
              "      <th>402</th>\n",
              "      <td>0.02055</td>\n",
              "      <td>0.74</td>\n",
              "      <td>0.0</td>\n",
              "      <td>0.410</td>\n",
              "      <td>35.7</td>\n",
              "      <td>9.1876</td>\n",
              "      <td>2.0</td>\n",
              "      <td>313.0</td>\n",
              "      <td>17.3</td>\n",
              "      <td>5.77</td>\n",
              "      <td>24.7</td>\n",
              "    </tr>\n",
              "    <tr>\n",
              "      <th>403</th>\n",
              "      <td>0.08244</td>\n",
              "      <td>4.93</td>\n",
              "      <td>0.0</td>\n",
              "      <td>0.428</td>\n",
              "      <td>18.5</td>\n",
              "      <td>6.1899</td>\n",
              "      <td>6.0</td>\n",
              "      <td>300.0</td>\n",
              "      <td>16.6</td>\n",
              "      <td>6.36</td>\n",
              "      <td>23.7</td>\n",
              "    </tr>\n",
              "  </tbody>\n",
              "</table>\n",
              "<p>399 rows × 11 columns</p>\n",
              "</div>\n",
              "      <button class=\"colab-df-convert\" onclick=\"convertToInteractive('df-11b891aa-5a0c-4959-b759-519cc98d8359')\"\n",
              "              title=\"Convert this dataframe to an interactive table.\"\n",
              "              style=\"display:none;\">\n",
              "        \n",
              "  <svg xmlns=\"http://www.w3.org/2000/svg\" height=\"24px\"viewBox=\"0 0 24 24\"\n",
              "       width=\"24px\">\n",
              "    <path d=\"M0 0h24v24H0V0z\" fill=\"none\"/>\n",
              "    <path d=\"M18.56 5.44l.94 2.06.94-2.06 2.06-.94-2.06-.94-.94-2.06-.94 2.06-2.06.94zm-11 1L8.5 8.5l.94-2.06 2.06-.94-2.06-.94L8.5 2.5l-.94 2.06-2.06.94zm10 10l.94 2.06.94-2.06 2.06-.94-2.06-.94-.94-2.06-.94 2.06-2.06.94z\"/><path d=\"M17.41 7.96l-1.37-1.37c-.4-.4-.92-.59-1.43-.59-.52 0-1.04.2-1.43.59L10.3 9.45l-7.72 7.72c-.78.78-.78 2.05 0 2.83L4 21.41c.39.39.9.59 1.41.59.51 0 1.02-.2 1.41-.59l7.78-7.78 2.81-2.81c.8-.78.8-2.07 0-2.86zM5.41 20L4 18.59l7.72-7.72 1.47 1.35L5.41 20z\"/>\n",
              "  </svg>\n",
              "      </button>\n",
              "      \n",
              "  <style>\n",
              "    .colab-df-container {\n",
              "      display:flex;\n",
              "      flex-wrap:wrap;\n",
              "      gap: 12px;\n",
              "    }\n",
              "\n",
              "    .colab-df-convert {\n",
              "      background-color: #E8F0FE;\n",
              "      border: none;\n",
              "      border-radius: 50%;\n",
              "      cursor: pointer;\n",
              "      display: none;\n",
              "      fill: #1967D2;\n",
              "      height: 32px;\n",
              "      padding: 0 0 0 0;\n",
              "      width: 32px;\n",
              "    }\n",
              "\n",
              "    .colab-df-convert:hover {\n",
              "      background-color: #E2EBFA;\n",
              "      box-shadow: 0px 1px 2px rgba(60, 64, 67, 0.3), 0px 1px 3px 1px rgba(60, 64, 67, 0.15);\n",
              "      fill: #174EA6;\n",
              "    }\n",
              "\n",
              "    [theme=dark] .colab-df-convert {\n",
              "      background-color: #3B4455;\n",
              "      fill: #D2E3FC;\n",
              "    }\n",
              "\n",
              "    [theme=dark] .colab-df-convert:hover {\n",
              "      background-color: #434B5C;\n",
              "      box-shadow: 0px 1px 3px 1px rgba(0, 0, 0, 0.15);\n",
              "      filter: drop-shadow(0px 1px 2px rgba(0, 0, 0, 0.3));\n",
              "      fill: #FFFFFF;\n",
              "    }\n",
              "  </style>\n",
              "\n",
              "      <script>\n",
              "        const buttonEl =\n",
              "          document.querySelector('#df-11b891aa-5a0c-4959-b759-519cc98d8359 button.colab-df-convert');\n",
              "        buttonEl.style.display =\n",
              "          google.colab.kernel.accessAllowed ? 'block' : 'none';\n",
              "\n",
              "        async function convertToInteractive(key) {\n",
              "          const element = document.querySelector('#df-11b891aa-5a0c-4959-b759-519cc98d8359');\n",
              "          const dataTable =\n",
              "            await google.colab.kernel.invokeFunction('convertToInteractive',\n",
              "                                                     [key], {});\n",
              "          if (!dataTable) return;\n",
              "\n",
              "          const docLinkHtml = 'Like what you see? Visit the ' +\n",
              "            '<a target=\"_blank\" href=https://colab.research.google.com/notebooks/data_table.ipynb>data table notebook</a>'\n",
              "            + ' to learn more about interactive tables.';\n",
              "          element.innerHTML = '';\n",
              "          dataTable['output_type'] = 'display_data';\n",
              "          await google.colab.output.renderOutput(dataTable, element);\n",
              "          const docLink = document.createElement('div');\n",
              "          docLink.innerHTML = docLinkHtml;\n",
              "          element.appendChild(docLink);\n",
              "        }\n",
              "      </script>\n",
              "    </div>\n",
              "  </div>\n",
              "  "
            ]
          },
          "metadata": {},
          "execution_count": 60
        }
      ],
      "source": [
        "data_drop = data.drop(columns=['rm', 'black', 'zn'])\n",
        "data_drop"
      ]
    },
    {
      "cell_type": "code",
      "source": [
        "plt.figure(figsize=(16, 6))\n",
        "\n",
        "heatmap = sns.heatmap(data_drop.corr(), annot=True)\n",
        "\n",
        "heatmap.set_title('Correlation Heatmap', fontdict={'fontsize':12}, pad=12)"
      ],
      "metadata": {
        "colab": {
          "base_uri": "https://localhost:8080/",
          "height": 417
        },
        "id": "LtXwhw04DUs4",
        "outputId": "087ff734-6b50-47a8-c391-0e29a3b0d12b"
      },
      "execution_count": 61,
      "outputs": [
        {
          "output_type": "execute_result",
          "data": {
            "text/plain": [
              "Text(0.5, 1.0, 'Correlation Heatmap')"
            ]
          },
          "metadata": {},
          "execution_count": 61
        },
        {
          "output_type": "display_data",
          "data": {
            "text/plain": [
              "<Figure size 1152x432 with 2 Axes>"
            ],
            "image/png": "[encoded data removed]"
          },
          "metadata": {}
        }
      ]
    },
    {
      "cell_type": "code",
      "source": [
        "'''\n",
        "Maybe dis value.\n",
        "'''"
      ],
      "metadata": {
        "colab": {
          "base_uri": "https://localhost:8080/",
          "height": 36
        },
        "id": "86te37H8DYN3",
        "outputId": "bf64f0b2-44d6-4aec-f6a1-46cfaa70d74d"
      },
      "execution_count": 62,
      "outputs": [
        {
          "output_type": "execute_result",
          "data": {
            "text/plain": [
              "'\\nMaybe dis value.\\n'"
            ],
            "application/vnd.google.colaboratory.intrinsic+json": {
              "type": "string"
            }
          },
          "metadata": {},
          "execution_count": 62
        }
      ]
    },
    {
      "cell_type": "markdown",
      "metadata": {
        "id": "i3YrTeL6HSek"
      },
      "source": [
        "### Calculate Statistics\n",
        "Calculate descriptive statistics for housing price. Include the minimum, maximum, mean, median, and standard deviation. "
      ]
    },
    {
      "cell_type": "code",
      "execution_count": 63,
      "metadata": {
        "id": "AgDKOzI3HSek",
        "colab": {
          "base_uri": "https://localhost:8080/"
        },
        "outputId": "21d885a3-152f-46e8-e71b-d9570299a729"
      },
      "outputs": [
        {
          "output_type": "execute_result",
          "data": {
            "text/plain": [
              "count    399.000000\n",
              "mean      22.472431\n",
              "std        8.767338\n",
              "min        5.000000\n",
              "25%       17.350000\n",
              "50%       21.600000\n",
              "75%       25.000000\n",
              "max       50.000000\n",
              "Name: medv, dtype: float64"
            ]
          },
          "metadata": {},
          "execution_count": 63
        }
      ],
      "source": [
        "data['medv'].describe()"
      ]
    },
    {
      "cell_type": "markdown",
      "metadata": {
        "id": "JFENBXliHSek"
      },
      "source": [
        "----\n",
        "\n",
        "## Developing a Model"
      ]
    },
    {
      "cell_type": "markdown",
      "metadata": {
        "id": "pTxjnjJAHSek"
      },
      "source": [
        "### Implementation: Define a Performance Metric\n",
        "What is the performance meteric with which you will determine the performance of your model? Create a function that calculates this performance metric, and then returns the score. "
      ]
    },
    {
      "cell_type": "code",
      "execution_count": 64,
      "metadata": {
        "id": "qNYE4UljHSek"
      },
      "outputs": [],
      "source": [
        "from sklearn.metrics import r2_score\n",
        "\n",
        "def performance_metric(y_true, y_predict):\n",
        "    \"\"\" Calculates and returns the performance score between \n",
        "        true and predicted values based on the metric chosen. \"\"\"\n",
        "    return r2_score(y_true, y_predict)"
      ]
    },
    {
      "cell_type": "markdown",
      "metadata": {
        "id": "KQDy8pm6HSel"
      },
      "source": [
        "### Implementation: Shuffle and Split Data\n",
        "Split the data into the testing and training datasets. Shuffle the data as well to remove any bias in selecting the traing and test. "
      ]
    },
    {
      "cell_type": "code",
      "source": [
        "X = data.drop(columns='medv')\n",
        "y = data['medv'] "
      ],
      "metadata": {
        "id": "dEXZkuMIIlJb"
      },
      "execution_count": 65,
      "outputs": []
    },
    {
      "cell_type": "code",
      "execution_count": 66,
      "metadata": {
        "id": "LmR0wRHsHSel"
      },
      "outputs": [],
      "source": [
        "from sklearn.model_selection import train_test_split\n",
        "\n",
        "X_train, X_test, y_train, y_test = train_test_split(X, y, test_size=0.20, random_state = 0)"
      ]
    },
    {
      "cell_type": "markdown",
      "source": [
        "### Normalization"
      ],
      "metadata": {
        "id": "PeUiqIGnZmXb"
      }
    },
    {
      "cell_type": "code",
      "execution_count": 67,
      "metadata": {
        "id": "E0T-3YdZDujx"
      },
      "outputs": [],
      "source": [
        "from sklearn.preprocessing import MinMaxScaler\n",
        "\n",
        "normalizer = MinMaxScaler()\n",
        "normalizer = normalizer.fit(X_train)"
      ]
    },
    {
      "cell_type": "code",
      "execution_count": 68,
      "metadata": {
        "colab": {
          "base_uri": "https://localhost:8080/",
          "height": 206
        },
        "id": "r1zXzz0MuGOY",
        "outputId": "537555b2-e3eb-4c44-dbac-bfcdeac47506"
      },
      "outputs": [
        {
          "output_type": "execute_result",
          "data": {
            "text/plain": [
              "       crim        zn     indus  chas       nox        rm       age       dis  \\\n",
              "0  0.001412  0.000000  0.073314   0.0  0.200418  0.496647  0.667377  0.192619   \n",
              "1  0.000931  0.294737  0.534457   0.0  0.150313  0.552021  0.505330  0.227864   \n",
              "2  0.149296  0.000000  0.646628   0.0  0.292276  0.670627  0.754797  0.204565   \n",
              "3  0.000227  0.842105  0.056818   0.0  0.089770  0.589002  0.250533  0.654799   \n",
              "4  0.014838  0.000000  0.210411   0.0  0.240084  0.915118  0.715352  0.243607   \n",
              "\n",
              "        rad       tax   ptratio     black     lstat  \n",
              "0  0.086957  0.011450  0.553191  0.975314  0.349877  \n",
              "1  0.130435  0.158397  0.595745  0.995234  0.196998  \n",
              "2  1.000000  0.914122  0.808511  0.995915  0.161765  \n",
              "3  0.130435  0.177481  0.468085  0.984972  0.130515  \n",
              "4  0.304348  0.229008  0.510638  0.972288  0.022672  "
            ],
            "text/html": [
              "\n",
              "  <div id=\"df-f7e42612-889d-419a-b7ae-6b39ed20353d\">\n",
              "    <div class=\"colab-df-container\">\n",
              "      <div>\n",
              "<style scoped>\n",
              "    .dataframe tbody tr th:only-of-type {\n",
              "        vertical-align: middle;\n",
              "    }\n",
              "\n",
              "    .dataframe tbody tr th {\n",
              "        vertical-align: top;\n",
              "    }\n",
              "\n",
              "    .dataframe thead th {\n",
              "        text-align: right;\n",
              "    }\n",
              "</style>\n",
              "<table border=\"1\" class=\"dataframe\">\n",
              "  <thead>\n",
              "    <tr style=\"text-align: right;\">\n",
              "      <th></th>\n",
              "      <th>crim</th>\n",
              "      <th>zn</th>\n",
              "      <th>indus</th>\n",
              "      <th>chas</th>\n",
              "      <th>nox</th>\n",
              "      <th>rm</th>\n",
              "      <th>age</th>\n",
              "      <th>dis</th>\n",
              "      <th>rad</th>\n",
              "      <th>tax</th>\n",
              "      <th>ptratio</th>\n",
              "      <th>black</th>\n",
              "      <th>lstat</th>\n",
              "    </tr>\n",
              "  </thead>\n",
              "  <tbody>\n",
              "    <tr>\n",
              "      <th>0</th>\n",
              "      <td>0.001412</td>\n",
              "      <td>0.000000</td>\n",
              "      <td>0.073314</td>\n",
              "      <td>0.0</td>\n",
              "      <td>0.200418</td>\n",
              "      <td>0.496647</td>\n",
              "      <td>0.667377</td>\n",
              "      <td>0.192619</td>\n",
              "      <td>0.086957</td>\n",
              "      <td>0.011450</td>\n",
              "      <td>0.553191</td>\n",
              "      <td>0.975314</td>\n",
              "      <td>0.349877</td>\n",
              "    </tr>\n",
              "    <tr>\n",
              "      <th>1</th>\n",
              "      <td>0.000931</td>\n",
              "      <td>0.294737</td>\n",
              "      <td>0.534457</td>\n",
              "      <td>0.0</td>\n",
              "      <td>0.150313</td>\n",
              "      <td>0.552021</td>\n",
              "      <td>0.505330</td>\n",
              "      <td>0.227864</td>\n",
              "      <td>0.130435</td>\n",
              "      <td>0.158397</td>\n",
              "      <td>0.595745</td>\n",
              "      <td>0.995234</td>\n",
              "      <td>0.196998</td>\n",
              "    </tr>\n",
              "    <tr>\n",
              "      <th>2</th>\n",
              "      <td>0.149296</td>\n",
              "      <td>0.000000</td>\n",
              "      <td>0.646628</td>\n",
              "      <td>0.0</td>\n",
              "      <td>0.292276</td>\n",
              "      <td>0.670627</td>\n",
              "      <td>0.754797</td>\n",
              "      <td>0.204565</td>\n",
              "      <td>1.000000</td>\n",
              "      <td>0.914122</td>\n",
              "      <td>0.808511</td>\n",
              "      <td>0.995915</td>\n",
              "      <td>0.161765</td>\n",
              "    </tr>\n",
              "    <tr>\n",
              "      <th>3</th>\n",
              "      <td>0.000227</td>\n",
              "      <td>0.842105</td>\n",
              "      <td>0.056818</td>\n",
              "      <td>0.0</td>\n",
              "      <td>0.089770</td>\n",
              "      <td>0.589002</td>\n",
              "      <td>0.250533</td>\n",
              "      <td>0.654799</td>\n",
              "      <td>0.130435</td>\n",
              "      <td>0.177481</td>\n",
              "      <td>0.468085</td>\n",
              "      <td>0.984972</td>\n",
              "      <td>0.130515</td>\n",
              "    </tr>\n",
              "    <tr>\n",
              "      <th>4</th>\n",
              "      <td>0.014838</td>\n",
              "      <td>0.000000</td>\n",
              "      <td>0.210411</td>\n",
              "      <td>0.0</td>\n",
              "      <td>0.240084</td>\n",
              "      <td>0.915118</td>\n",
              "      <td>0.715352</td>\n",
              "      <td>0.243607</td>\n",
              "      <td>0.304348</td>\n",
              "      <td>0.229008</td>\n",
              "      <td>0.510638</td>\n",
              "      <td>0.972288</td>\n",
              "      <td>0.022672</td>\n",
              "    </tr>\n",
              "  </tbody>\n",
              "</table>\n",
              "</div>\n",
              "      <button class=\"colab-df-convert\" onclick=\"convertToInteractive('df-f7e42612-889d-419a-b7ae-6b39ed20353d')\"\n",
              "              title=\"Convert this dataframe to an interactive table.\"\n",
              "              style=\"display:none;\">\n",
              "        \n",
              "  <svg xmlns=\"http://www.w3.org/2000/svg\" height=\"24px\"viewBox=\"0 0 24 24\"\n",
              "       width=\"24px\">\n",
              "    <path d=\"M0 0h24v24H0V0z\" fill=\"none\"/>\n",
              "    <path d=\"M18.56 5.44l.94 2.06.94-2.06 2.06-.94-2.06-.94-.94-2.06-.94 2.06-2.06.94zm-11 1L8.5 8.5l.94-2.06 2.06-.94-2.06-.94L8.5 2.5l-.94 2.06-2.06.94zm10 10l.94 2.06.94-2.06 2.06-.94-2.06-.94-.94-2.06-.94 2.06-2.06.94z\"/><path d=\"M17.41 7.96l-1.37-1.37c-.4-.4-.92-.59-1.43-.59-.52 0-1.04.2-1.43.59L10.3 9.45l-7.72 7.72c-.78.78-.78 2.05 0 2.83L4 21.41c.39.39.9.59 1.41.59.51 0 1.02-.2 1.41-.59l7.78-7.78 2.81-2.81c.8-.78.8-2.07 0-2.86zM5.41 20L4 18.59l7.72-7.72 1.47 1.35L5.41 20z\"/>\n",
              "  </svg>\n",
              "      </button>\n",
              "      \n",
              "  <style>\n",
              "    .colab-df-container {\n",
              "      display:flex;\n",
              "      flex-wrap:wrap;\n",
              "      gap: 12px;\n",
              "    }\n",
              "\n",
              "    .colab-df-convert {\n",
              "      background-color: #E8F0FE;\n",
              "      border: none;\n",
              "      border-radius: 50%;\n",
              "      cursor: pointer;\n",
              "      display: none;\n",
              "      fill: #1967D2;\n",
              "      height: 32px;\n",
              "      padding: 0 0 0 0;\n",
              "      width: 32px;\n",
              "    }\n",
              "\n",
              "    .colab-df-convert:hover {\n",
              "      background-color: #E2EBFA;\n",
              "      box-shadow: 0px 1px 2px rgba(60, 64, 67, 0.3), 0px 1px 3px 1px rgba(60, 64, 67, 0.15);\n",
              "      fill: #174EA6;\n",
              "    }\n",
              "\n",
              "    [theme=dark] .colab-df-convert {\n",
              "      background-color: #3B4455;\n",
              "      fill: #D2E3FC;\n",
              "    }\n",
              "\n",
              "    [theme=dark] .colab-df-convert:hover {\n",
              "      background-color: #434B5C;\n",
              "      box-shadow: 0px 1px 3px 1px rgba(0, 0, 0, 0.15);\n",
              "      filter: drop-shadow(0px 1px 2px rgba(0, 0, 0, 0.3));\n",
              "      fill: #FFFFFF;\n",
              "    }\n",
              "  </style>\n",
              "\n",
              "      <script>\n",
              "        const buttonEl =\n",
              "          document.querySelector('#df-f7e42612-889d-419a-b7ae-6b39ed20353d button.colab-df-convert');\n",
              "        buttonEl.style.display =\n",
              "          google.colab.kernel.accessAllowed ? 'block' : 'none';\n",
              "\n",
              "        async function convertToInteractive(key) {\n",
              "          const element = document.querySelector('#df-f7e42612-889d-419a-b7ae-6b39ed20353d');\n",
              "          const dataTable =\n",
              "            await google.colab.kernel.invokeFunction('convertToInteractive',\n",
              "                                                     [key], {});\n",
              "          if (!dataTable) return;\n",
              "\n",
              "          const docLinkHtml = 'Like what you see? Visit the ' +\n",
              "            '<a target=\"_blank\" href=https://colab.research.google.com/notebooks/data_table.ipynb>data table notebook</a>'\n",
              "            + ' to learn more about interactive tables.';\n",
              "          element.innerHTML = '';\n",
              "          dataTable['output_type'] = 'display_data';\n",
              "          await google.colab.output.renderOutput(dataTable, element);\n",
              "          const docLink = document.createElement('div');\n",
              "          docLink.innerHTML = docLinkHtml;\n",
              "          element.appendChild(docLink);\n",
              "        }\n",
              "      </script>\n",
              "    </div>\n",
              "  </div>\n",
              "  "
            ]
          },
          "metadata": {},
          "execution_count": 68
        }
      ],
      "source": [
        "X_train_normalized = normalizer.transform(X_train) \n",
        "X_train_normalized = pd.DataFrame(X_train_normalized,columns=X_train.columns)\n",
        "X_train_normalized.head()"
      ]
    },
    {
      "cell_type": "code",
      "source": [
        "y_train=y_train.reset_index(drop=True)"
      ],
      "metadata": {
        "id": "QwkiImdbyKat"
      },
      "execution_count": 69,
      "outputs": []
    },
    {
      "cell_type": "code",
      "source": [
        "X_test_normalized = normalizer.transform(X_test)\n",
        "X_test_normalized = pd.DataFrame(X_test_normalized,columns=X_test.columns)\n",
        "X_test_normalized.head()"
      ],
      "metadata": {
        "colab": {
          "base_uri": "https://localhost:8080/",
          "height": 206
        },
        "id": "A0jz2TjZUuKn",
        "outputId": "800f50e8-93eb-40e5-a220-6e924984ff98"
      },
      "execution_count": 70,
      "outputs": [
        {
          "output_type": "execute_result",
          "data": {
            "text/plain": [
              "       crim        zn     indus  chas       nox        rm       age       dis  \\\n",
              "0  0.132580  0.000000  0.646628   0.0  0.670146  0.524238  0.912580  0.109433   \n",
              "1  0.123771  0.000000  0.646628   0.0  0.670146  0.567925  0.856077  0.115602   \n",
              "2  0.000748  0.842105  0.164589   0.0  0.039666  0.632305  0.231343  0.360268   \n",
              "3  0.033045  0.000000  0.700880   1.0  0.444676  0.515233  0.921109  0.057432   \n",
              "4  0.000789  0.263158  0.161290   0.0  0.070981  0.525196  0.277186  0.386187   \n",
              "\n",
              "        rad       tax   ptratio     black     lstat  \n",
              "0  1.000000  0.914122  0.808511  0.970220  0.476103  \n",
              "1  1.000000  0.914122  0.808511  0.127591  0.502451  \n",
              "2  0.130435  0.110687  0.702128  1.000000  0.049020  \n",
              "3  0.173913  0.412214  0.223404  0.853800  0.115502  \n",
              "4  0.130435  0.179389  0.680851  1.000000  0.152880  "
            ],
            "text/html": [
              "\n",
              "  <div id=\"df-b3280ad7-1c04-481c-8a2e-d87ed92de168\">\n",
              "    <div class=\"colab-df-container\">\n",
              "      <div>\n",
              "<style scoped>\n",
              "    .dataframe tbody tr th:only-of-type {\n",
              "        vertical-align: middle;\n",
              "    }\n",
              "\n",
              "    .dataframe tbody tr th {\n",
              "        vertical-align: top;\n",
              "    }\n",
              "\n",
              "    .dataframe thead th {\n",
              "        text-align: right;\n",
              "    }\n",
              "</style>\n",
              "<table border=\"1\" class=\"dataframe\">\n",
              "  <thead>\n",
              "    <tr style=\"text-align: right;\">\n",
              "      <th></th>\n",
              "      <th>crim</th>\n",
              "      <th>zn</th>\n",
              "      <th>indus</th>\n",
              "      <th>chas</th>\n",
              "      <th>nox</th>\n",
              "      <th>rm</th>\n",
              "      <th>age</th>\n",
              "      <th>dis</th>\n",
              "      <th>rad</th>\n",
              "      <th>tax</th>\n",
              "      <th>ptratio</th>\n",
              "      <th>black</th>\n",
              "      <th>lstat</th>\n",
              "    </tr>\n",
              "  </thead>\n",
              "  <tbody>\n",
              "    <tr>\n",
              "      <th>0</th>\n",
              "      <td>0.132580</td>\n",
              "      <td>0.000000</td>\n",
              "      <td>0.646628</td>\n",
              "      <td>0.0</td>\n",
              "      <td>0.670146</td>\n",
              "      <td>0.524238</td>\n",
              "      <td>0.912580</td>\n",
              "      <td>0.109433</td>\n",
              "      <td>1.000000</td>\n",
              "      <td>0.914122</td>\n",
              "      <td>0.808511</td>\n",
              "      <td>0.970220</td>\n",
              "      <td>0.476103</td>\n",
              "    </tr>\n",
              "    <tr>\n",
              "      <th>1</th>\n",
              "      <td>0.123771</td>\n",
              "      <td>0.000000</td>\n",
              "      <td>0.646628</td>\n",
              "      <td>0.0</td>\n",
              "      <td>0.670146</td>\n",
              "      <td>0.567925</td>\n",
              "      <td>0.856077</td>\n",
              "      <td>0.115602</td>\n",
              "      <td>1.000000</td>\n",
              "      <td>0.914122</td>\n",
              "      <td>0.808511</td>\n",
              "      <td>0.127591</td>\n",
              "      <td>0.502451</td>\n",
              "    </tr>\n",
              "    <tr>\n",
              "      <th>2</th>\n",
              "      <td>0.000748</td>\n",
              "      <td>0.842105</td>\n",
              "      <td>0.164589</td>\n",
              "      <td>0.0</td>\n",
              "      <td>0.039666</td>\n",
              "      <td>0.632305</td>\n",
              "      <td>0.231343</td>\n",
              "      <td>0.360268</td>\n",
              "      <td>0.130435</td>\n",
              "      <td>0.110687</td>\n",
              "      <td>0.702128</td>\n",
              "      <td>1.000000</td>\n",
              "      <td>0.049020</td>\n",
              "    </tr>\n",
              "    <tr>\n",
              "      <th>3</th>\n",
              "      <td>0.033045</td>\n",
              "      <td>0.000000</td>\n",
              "      <td>0.700880</td>\n",
              "      <td>1.0</td>\n",
              "      <td>0.444676</td>\n",
              "      <td>0.515233</td>\n",
              "      <td>0.921109</td>\n",
              "      <td>0.057432</td>\n",
              "      <td>0.173913</td>\n",
              "      <td>0.412214</td>\n",
              "      <td>0.223404</td>\n",
              "      <td>0.853800</td>\n",
              "      <td>0.115502</td>\n",
              "    </tr>\n",
              "    <tr>\n",
              "      <th>4</th>\n",
              "      <td>0.000789</td>\n",
              "      <td>0.263158</td>\n",
              "      <td>0.161290</td>\n",
              "      <td>0.0</td>\n",
              "      <td>0.070981</td>\n",
              "      <td>0.525196</td>\n",
              "      <td>0.277186</td>\n",
              "      <td>0.386187</td>\n",
              "      <td>0.130435</td>\n",
              "      <td>0.179389</td>\n",
              "      <td>0.680851</td>\n",
              "      <td>1.000000</td>\n",
              "      <td>0.152880</td>\n",
              "    </tr>\n",
              "  </tbody>\n",
              "</table>\n",
              "</div>\n",
              "      <button class=\"colab-df-convert\" onclick=\"convertToInteractive('df-b3280ad7-1c04-481c-8a2e-d87ed92de168')\"\n",
              "              title=\"Convert this dataframe to an interactive table.\"\n",
              "              style=\"display:none;\">\n",
              "        \n",
              "  <svg xmlns=\"http://www.w3.org/2000/svg\" height=\"24px\"viewBox=\"0 0 24 24\"\n",
              "       width=\"24px\">\n",
              "    <path d=\"M0 0h24v24H0V0z\" fill=\"none\"/>\n",
              "    <path d=\"M18.56 5.44l.94 2.06.94-2.06 2.06-.94-2.06-.94-.94-2.06-.94 2.06-2.06.94zm-11 1L8.5 8.5l.94-2.06 2.06-.94-2.06-.94L8.5 2.5l-.94 2.06-2.06.94zm10 10l.94 2.06.94-2.06 2.06-.94-2.06-.94-.94-2.06-.94 2.06-2.06.94z\"/><path d=\"M17.41 7.96l-1.37-1.37c-.4-.4-.92-.59-1.43-.59-.52 0-1.04.2-1.43.59L10.3 9.45l-7.72 7.72c-.78.78-.78 2.05 0 2.83L4 21.41c.39.39.9.59 1.41.59.51 0 1.02-.2 1.41-.59l7.78-7.78 2.81-2.81c.8-.78.8-2.07 0-2.86zM5.41 20L4 18.59l7.72-7.72 1.47 1.35L5.41 20z\"/>\n",
              "  </svg>\n",
              "      </button>\n",
              "      \n",
              "  <style>\n",
              "    .colab-df-container {\n",
              "      display:flex;\n",
              "      flex-wrap:wrap;\n",
              "      gap: 12px;\n",
              "    }\n",
              "\n",
              "    .colab-df-convert {\n",
              "      background-color: #E8F0FE;\n",
              "      border: none;\n",
              "      border-radius: 50%;\n",
              "      cursor: pointer;\n",
              "      display: none;\n",
              "      fill: #1967D2;\n",
              "      height: 32px;\n",
              "      padding: 0 0 0 0;\n",
              "      width: 32px;\n",
              "    }\n",
              "\n",
              "    .colab-df-convert:hover {\n",
              "      background-color: #E2EBFA;\n",
              "      box-shadow: 0px 1px 2px rgba(60, 64, 67, 0.3), 0px 1px 3px 1px rgba(60, 64, 67, 0.15);\n",
              "      fill: #174EA6;\n",
              "    }\n",
              "\n",
              "    [theme=dark] .colab-df-convert {\n",
              "      background-color: #3B4455;\n",
              "      fill: #D2E3FC;\n",
              "    }\n",
              "\n",
              "    [theme=dark] .colab-df-convert:hover {\n",
              "      background-color: #434B5C;\n",
              "      box-shadow: 0px 1px 3px 1px rgba(0, 0, 0, 0.15);\n",
              "      filter: drop-shadow(0px 1px 2px rgba(0, 0, 0, 0.3));\n",
              "      fill: #FFFFFF;\n",
              "    }\n",
              "  </style>\n",
              "\n",
              "      <script>\n",
              "        const buttonEl =\n",
              "          document.querySelector('#df-b3280ad7-1c04-481c-8a2e-d87ed92de168 button.colab-df-convert');\n",
              "        buttonEl.style.display =\n",
              "          google.colab.kernel.accessAllowed ? 'block' : 'none';\n",
              "\n",
              "        async function convertToInteractive(key) {\n",
              "          const element = document.querySelector('#df-b3280ad7-1c04-481c-8a2e-d87ed92de168');\n",
              "          const dataTable =\n",
              "            await google.colab.kernel.invokeFunction('convertToInteractive',\n",
              "                                                     [key], {});\n",
              "          if (!dataTable) return;\n",
              "\n",
              "          const docLinkHtml = 'Like what you see? Visit the ' +\n",
              "            '<a target=\"_blank\" href=https://colab.research.google.com/notebooks/data_table.ipynb>data table notebook</a>'\n",
              "            + ' to learn more about interactive tables.';\n",
              "          element.innerHTML = '';\n",
              "          dataTable['output_type'] = 'display_data';\n",
              "          await google.colab.output.renderOutput(dataTable, element);\n",
              "          const docLink = document.createElement('div');\n",
              "          docLink.innerHTML = docLinkHtml;\n",
              "          element.appendChild(docLink);\n",
              "        }\n",
              "      </script>\n",
              "    </div>\n",
              "  </div>\n",
              "  "
            ]
          },
          "metadata": {},
          "execution_count": 70
        }
      ]
    },
    {
      "cell_type": "markdown",
      "metadata": {
        "id": "pgco6dhSHSel"
      },
      "source": [
        "----\n",
        "\n",
        "## Analyzing Model Performance\n",
        "Next, we are going to build a Random Forest Regressor, and test its performance with several different parameter settings."
      ]
    },
    {
      "cell_type": "markdown",
      "metadata": {
        "id": "n5SAWuC5HSel"
      },
      "source": [
        "### Learning Curves\n",
        "Lets build the different models. Set the max_depth parameter to 2, 4, 6, 8, and 10 respectively. "
      ]
    },
    {
      "cell_type": "code",
      "metadata": {
        "colab": {
          "base_uri": "https://localhost:8080/"
        },
        "outputId": "31ec2cb6-e983-407c-e98a-5955fabffdf2",
        "id": "tBtLFTe4Ylo_"
      },
      "source": [
        "from sklearn.ensemble import RandomForestRegressor\n",
        "\n",
        "Random_forest2 = RandomForestRegressor(n_estimators=10, # same 10 trees\n",
        "                               max_depth=2, # depth 3 to force tree to be \"weak\"\n",
        "                               random_state=1) # fixing rand because I'm insecure and afraid you will judge me if I get a bad random selection that does not prove my point\n",
        "Random_forest2.fit(X_train_normalized, y_train)"
      ],
      "execution_count": 71,
      "outputs": [
        {
          "output_type": "execute_result",
          "data": {
            "text/plain": [
              "RandomForestRegressor(max_depth=2, n_estimators=10, random_state=1)"
            ]
          },
          "metadata": {},
          "execution_count": 71
        }
      ]
    },
    {
      "cell_type": "code",
      "source": [
        "Random_forest4 = RandomForestRegressor(n_estimators=10, # same 10 trees\n",
        "                               max_depth=4, # depth 3 to force tree to be \"weak\"\n",
        "                               random_state=1) # fixing rand because I'm insecure and afraid you will judge me if I get a bad random selection that does not prove my point\n",
        "Random_forest4.fit(X_train_normalized, y_train)"
      ],
      "metadata": {
        "colab": {
          "base_uri": "https://localhost:8080/"
        },
        "id": "Vx3tztNCJWOL",
        "outputId": "43a7b553-958f-4c09-bf63-d5b430a2f0c1"
      },
      "execution_count": 72,
      "outputs": [
        {
          "output_type": "execute_result",
          "data": {
            "text/plain": [
              "RandomForestRegressor(max_depth=4, n_estimators=10, random_state=1)"
            ]
          },
          "metadata": {},
          "execution_count": 72
        }
      ]
    },
    {
      "cell_type": "code",
      "source": [
        "Random_forest6 = RandomForestRegressor(n_estimators=10, # same 10 trees\n",
        "                               max_depth=6, # depth 3 to force tree to be \"weak\"\n",
        "                               random_state=1) # fixing rand because I'm insecure and afraid you will judge me if I get a bad random selection that does not prove my point\n",
        "Random_forest6.fit(X_train_normalized, y_train)"
      ],
      "metadata": {
        "colab": {
          "base_uri": "https://localhost:8080/"
        },
        "id": "0s-bKtzCJWlx",
        "outputId": "02a47496-a681-4a5e-f183-6c582ae8b688"
      },
      "execution_count": 73,
      "outputs": [
        {
          "output_type": "execute_result",
          "data": {
            "text/plain": [
              "RandomForestRegressor(max_depth=6, n_estimators=10, random_state=1)"
            ]
          },
          "metadata": {},
          "execution_count": 73
        }
      ]
    },
    {
      "cell_type": "code",
      "source": [
        "Random_forest8 = RandomForestRegressor(n_estimators=10, # same 10 trees\n",
        "                               max_depth=8, # depth 3 to force tree to be \"weak\"\n",
        "                               random_state=1) # fixing rand because I'm insecure and afraid you will judge me if I get a bad random selection that does not prove my point\n",
        "Random_forest8.fit(X_train_normalized, y_train)"
      ],
      "metadata": {
        "colab": {
          "base_uri": "https://localhost:8080/"
        },
        "id": "_ohnTvahJW06",
        "outputId": "787aecac-57f3-4c90-8aa7-503493633a45"
      },
      "execution_count": 74,
      "outputs": [
        {
          "output_type": "execute_result",
          "data": {
            "text/plain": [
              "RandomForestRegressor(max_depth=8, n_estimators=10, random_state=1)"
            ]
          },
          "metadata": {},
          "execution_count": 74
        }
      ]
    },
    {
      "cell_type": "code",
      "source": [
        "Random_forest10 = RandomForestRegressor(n_estimators=10, # same 10 trees\n",
        "                               max_depth=10, # depth 3 to force tree to be \"weak\"\n",
        "                               random_state=1) # fixing rand because I'm insecure and afraid you will judge me if I get a bad random selection that does not prove my point\n",
        "Random_forest10.fit(X_train_normalized, y_train)"
      ],
      "metadata": {
        "colab": {
          "base_uri": "https://localhost:8080/"
        },
        "id": "8M7kJBJZJW-x",
        "outputId": "a96c53a6-aa74-467d-d5cb-450b143d53a8"
      },
      "execution_count": 75,
      "outputs": [
        {
          "output_type": "execute_result",
          "data": {
            "text/plain": [
              "RandomForestRegressor(max_depth=10, n_estimators=10, random_state=1)"
            ]
          },
          "metadata": {},
          "execution_count": 75
        }
      ]
    },
    {
      "cell_type": "code",
      "execution_count": 76,
      "metadata": {
        "id": "kTb9Z8DNHSem"
      },
      "outputs": [],
      "source": [
        "# Five separate RFR here with the given max depths"
      ]
    },
    {
      "cell_type": "markdown",
      "metadata": {
        "id": "VrZncOYgHSem"
      },
      "source": [
        "Now, plot the score for each tree on the training set and on the testing set."
      ]
    },
    {
      "cell_type": "code",
      "source": [
        "test_score2 = Random_forest2.score(X_test_normalized,y_test)\n",
        "train_score2 = Random_forest2.score(X_train_normalized, y_train)\n",
        "\n",
        "test_score4 = Random_forest4.score(X_test_normalized,y_test)\n",
        "train_score4 = Random_forest4.score(X_train_normalized, y_train)\n",
        "\n",
        "test_score6 = Random_forest6.score(X_test_normalized,y_test)\n",
        "train_score6 = Random_forest6.score(X_train_normalized, y_train)\n",
        "\n",
        "test_score8 = Random_forest8.score(X_test_normalized,y_test)\n",
        "train_score8 = Random_forest8.score(X_train_normalized, y_train)\n",
        "\n",
        "test_score10 = Random_forest10.score(X_test_normalized,y_test)\n",
        "train_score10 = Random_forest10.score(X_train_normalized, y_train)"
      ],
      "metadata": {
        "id": "qd96mnu_YlpA"
      },
      "execution_count": 80,
      "outputs": []
    },
    {
      "cell_type": "code",
      "source": [
        "plt.plot([test_score2,test_score4,test_score6,test_score8,test_score10])\n",
        "plt.show()"
      ],
      "metadata": {
        "colab": {
          "base_uri": "https://localhost:8080/",
          "height": 500
        },
        "id": "yeY3Ck0WKHA7",
        "outputId": "8abe4f5c-d9af-48ec-d3de-24dcefa5e3ab"
      },
      "execution_count": 81,
      "outputs": [
        {
          "output_type": "display_data",
          "data": {
            "text/plain": [
              "<Figure size 842.4x595.44 with 1 Axes>"
            ],
            "image/png": "[encoded data removed]"
          },
          "metadata": {}
        }
      ]
    },
    {
      "cell_type": "code",
      "source": [
        "plt.plot([train_score2,train_score4,train_score6,train_score8,train_score10])\n",
        "plt.show()"
      ],
      "metadata": {
        "colab": {
          "base_uri": "https://localhost:8080/",
          "height": 500
        },
        "id": "NhcvwXIjKoIs",
        "outputId": "7d2bcf55-24f9-43fc-870d-5bd6ef3fc5ce"
      },
      "execution_count": 82,
      "outputs": [
        {
          "output_type": "display_data",
          "data": {
            "text/plain": [
              "<Figure size 842.4x595.44 with 1 Axes>"
            ],
            "image/png": "[encoded data removed]"
          },
          "metadata": {}
        }
      ]
    },
    {
      "cell_type": "markdown",
      "metadata": {
        "id": "181w4i5iHSem"
      },
      "source": [
        "What do these results tell you about the effect of the depth of the trees on the performance of the model?"
      ]
    },
    {
      "cell_type": "code",
      "execution_count": 83,
      "metadata": {
        "id": "x4RC0V77HSem",
        "colab": {
          "base_uri": "https://localhost:8080/",
          "height": 36
        },
        "outputId": "355cf159-e2a8-407b-a6dc-a9fa9207107e"
      },
      "outputs": [
        {
          "output_type": "execute_result",
          "data": {
            "text/plain": [
              "'\\nThat the optimal depth is 8\\n'"
            ],
            "application/vnd.google.colaboratory.intrinsic+json": {
              "type": "string"
            }
          },
          "metadata": {},
          "execution_count": 83
        }
      ],
      "source": [
        "'''\n",
        "That the optimal depth is 8\n",
        "'''"
      ]
    },
    {
      "cell_type": "markdown",
      "metadata": {
        "id": "ksJgQbHtHSen"
      },
      "source": [
        "### Bias-Variance Tradeoff\n",
        "When the model is trained with a maximum depth of 1, does the model suffer from high bias or from high variance? How about when the model is trained with a maximum depth of 10? Check out this article before answering: https://towardsdatascience.com/understanding-the-bias-variance-tradeoff-165e6942b229"
      ]
    },
    {
      "cell_type": "code",
      "execution_count": 85,
      "metadata": {
        "id": "QlKFqUHcHSen",
        "colab": {
          "base_uri": "https://localhost:8080/",
          "height": 54
        },
        "outputId": "a4811de4-401d-4f9d-92cd-8bce96b9edd8"
      },
      "outputs": [
        {
          "output_type": "execute_result",
          "data": {
            "text/plain": [
              "'\\nWith a max depth of 1 the model will be underfitting, so there would be high bias and low variance.\\nThe model with a max depth of 10 is overfitting so it has low bias and high variance.\\n'"
            ],
            "application/vnd.google.colaboratory.intrinsic+json": {
              "type": "string"
            }
          },
          "metadata": {},
          "execution_count": 85
        }
      ],
      "source": [
        "'''\n",
        "With a max depth of 1 the model will be underfitting, so there would be high bias and low variance.\n",
        "The model with a max depth of 10 is overfitting so it has low bias and high variance.\n",
        "'''"
      ]
    },
    {
      "cell_type": "markdown",
      "metadata": {
        "id": "_ca7H8FXHSen"
      },
      "source": [
        "### Best-Guess Optimal Model\n",
        "What is the max_depth parameter that you think would optimize the model? Run your model and explain its performance."
      ]
    },
    {
      "cell_type": "code",
      "execution_count": 86,
      "metadata": {
        "id": "CCEJK7kfHSen",
        "colab": {
          "base_uri": "https://localhost:8080/",
          "height": 36
        },
        "outputId": "9974558a-9ed9-4d13-9afa-021b53900684"
      },
      "outputs": [
        {
          "output_type": "execute_result",
          "data": {
            "text/plain": [
              "'\\nAs we check previously max depth of 8 is the best value.\\n'"
            ],
            "application/vnd.google.colaboratory.intrinsic+json": {
              "type": "string"
            }
          },
          "metadata": {},
          "execution_count": 86
        }
      ],
      "source": [
        "'''\n",
        "As we check previously max depth of 8 is the best value.\n",
        "'''"
      ]
    },
    {
      "cell_type": "markdown",
      "metadata": {
        "id": "bFR34EoOHSen"
      },
      "source": [
        "### Applicability\n",
        "*In a few sentences, discuss whether the constructed model should or should not be used in a real-world setting.*  \n",
        "**Hint:** Some questions to answering:\n",
        "- *How relevant today is data that was collected from 1978?*\n",
        "- *Are the features present in the data sufficient to describe a home?*\n",
        "- *Is the model robust enough to make consistent predictions?*\n",
        "- *Would data collected in an urban city like Boston be applicable in a rural city?*"
      ]
    },
    {
      "cell_type": "code",
      "execution_count": 87,
      "metadata": {
        "id": "n54YsfqoHSeo",
        "colab": {
          "base_uri": "https://localhost:8080/"
        },
        "outputId": "e7a3eb60-fecc-4778-8d34-07be1ec29c58"
      },
      "outputs": [
        {
          "output_type": "stream",
          "name": "stdout",
          "text": [
            ".. _boston_dataset:\n",
            "\n",
            "Boston house prices dataset\n",
            "---------------------------\n",
            "\n",
            "**Data Set Characteristics:**  \n",
            "\n",
            "    :Number of Instances: 506 \n",
            "\n",
            "    :Number of Attributes: 13 numeric/categorical predictive. Median Value (attribute 14) is usually the target.\n",
            "\n",
            "    :Attribute Information (in order):\n",
            "        - CRIM     per capita crime rate by town\n",
            "        - ZN       proportion of residential land zoned for lots over 25,000 sq.ft.\n",
            "        - INDUS    proportion of non-retail business acres per town\n",
            "        - CHAS     Charles River dummy variable (= 1 if tract bounds river; 0 otherwise)\n",
            "        - NOX      nitric oxides concentration (parts per 10 million)\n",
            "        - RM       average number of rooms per dwelling\n",
            "        - AGE      proportion of owner-occupied units built prior to 1940\n",
            "        - DIS      weighted distances to five Boston employment centres\n",
            "        - RAD      index of accessibility to radial highways\n",
            "        - TAX      full-value property-tax rate per $10,000\n",
            "        - PTRATIO  pupil-teacher ratio by town\n",
            "        - B        1000(Bk - 0.63)^2 where Bk is the proportion of black people by town\n",
            "        - LSTAT    % lower status of the population\n",
            "        - MEDV     Median value of owner-occupied homes in $1000's\n",
            "\n",
            "    :Missing Attribute Values: None\n",
            "\n",
            "    :Creator: Harrison, D. and Rubinfeld, D.L.\n",
            "\n",
            "This is a copy of UCI ML housing dataset.\n",
            "https://archive.ics.uci.edu/ml/machine-learning-databases/housing/\n",
            "\n",
            "\n",
            "This dataset was taken from the StatLib library which is maintained at Carnegie Mellon University.\n",
            "\n",
            "The Boston house-price data of Harrison, D. and Rubinfeld, D.L. 'Hedonic\n",
            "prices and the demand for clean air', J. Environ. Economics & Management,\n",
            "vol.5, 81-102, 1978.   Used in Belsley, Kuh & Welsch, 'Regression diagnostics\n",
            "...', Wiley, 1980.   N.B. Various transformations are used in the table on\n",
            "pages 244-261 of the latter.\n",
            "\n",
            "The Boston house-price data has been used in many machine learning papers that address regression\n",
            "problems.   \n",
            "     \n",
            ".. topic:: References\n",
            "\n",
            "   - Belsley, Kuh & Welsch, 'Regression diagnostics: Identifying Influential Data and Sources of Collinearity', Wiley, 1980. 244-261.\n",
            "   - Quinlan,R. (1993). Combining Instance-Based and Model-Based Learning. In Proceedings on the Tenth International Conference of Machine Learning, 236-243, University of Massachusetts, Amherst. Morgan Kaufmann.\n",
            "\n"
          ]
        },
        {
          "output_type": "stream",
          "name": "stderr",
          "text": [
            "/usr/local/lib/python3.8/dist-packages/sklearn/utils/deprecation.py:87: FutureWarning: Function load_boston is deprecated; `load_boston` is deprecated in 1.0 and will be removed in 1.2.\n",
            "\n",
            "    The Boston housing prices dataset has an ethical problem. You can refer to\n",
            "    the documentation of this function for further details.\n",
            "\n",
            "    The scikit-learn maintainers therefore strongly discourage the use of this\n",
            "    dataset unless the purpose of the code is to study and educate about\n",
            "    ethical issues in data science and machine learning.\n",
            "\n",
            "    In this special case, you can fetch the dataset from the original\n",
            "    source::\n",
            "\n",
            "        import pandas as pd\n",
            "        import numpy as np\n",
            "\n",
            "\n",
            "        data_url = \"http://lib.stat.cmu.edu/datasets/boston\"\n",
            "        raw_df = pd.read_csv(data_url, sep=\"\\s+\", skiprows=22, header=None)\n",
            "        data = np.hstack([raw_df.values[::2, :], raw_df.values[1::2, :2]])\n",
            "        target = raw_df.values[1::2, 2]\n",
            "\n",
            "    Alternative datasets include the California housing dataset (i.e.\n",
            "    :func:`~sklearn.datasets.fetch_california_housing`) and the Ames housing\n",
            "    dataset. You can load the datasets as follows::\n",
            "\n",
            "        from sklearn.datasets import fetch_california_housing\n",
            "        housing = fetch_california_housing()\n",
            "\n",
            "    for the California housing dataset and::\n",
            "\n",
            "        from sklearn.datasets import fetch_openml\n",
            "        housing = fetch_openml(name=\"house_prices\", as_frame=True)\n",
            "\n",
            "    for the Ames housing dataset.\n",
            "    \n",
            "  warnings.warn(msg, category=FutureWarning)\n"
          ]
        }
      ],
      "source": [
        "from sklearn.datasets import load_boston\n",
        "boston_features = load_boston()\n",
        "print(boston_features.DESCR)"
      ]
    },
    {
      "cell_type": "code",
      "source": [
        "'''\n",
        "Data from this model is pretty old, so if we try to predict house values with these features, we will be wrong for sure\n",
        "'''"
      ],
      "metadata": {
        "colab": {
          "base_uri": "https://localhost:8080/",
          "height": 36
        },
        "id": "tOade1jOLuT9",
        "outputId": "8fcae610-9268-43b6-d8da-d5d89171a122"
      },
      "execution_count": 88,
      "outputs": [
        {
          "output_type": "execute_result",
          "data": {
            "text/plain": [
              "'\\nData from this model is pretty old, so if we try to predict house values with these features, we will be wrong for sure\\n'"
            ],
            "application/vnd.google.colaboratory.intrinsic+json": {
              "type": "string"
            }
          },
          "metadata": {},
          "execution_count": 88
        }
      ]
    },
    {
      "cell_type": "code",
      "source": [],
      "metadata": {
        "id": "hT_ZoVROL7eV"
      },
      "execution_count": null,
      "outputs": []
    }
  ],
  "metadata": {
    "anaconda-cloud": {},
    "kernelspec": {
      "display_name": "Python 3",
      "language": "python",
      "name": "python3"
    },
    "language_info": {
      "codemirror_mode": {
        "name": "ipython",
        "version": 3
      },
      "file_extension": ".py",
      "mimetype": "text/x-python",
      "name": "python",
      "nbconvert_exporter": "python",
      "pygments_lexer": "ipython3",
      "version": "3.7.2"
    },
    "colab": {
      "provenance": []
    }
  },
  "nbformat": 4,
  "nbformat_minor": 0
}